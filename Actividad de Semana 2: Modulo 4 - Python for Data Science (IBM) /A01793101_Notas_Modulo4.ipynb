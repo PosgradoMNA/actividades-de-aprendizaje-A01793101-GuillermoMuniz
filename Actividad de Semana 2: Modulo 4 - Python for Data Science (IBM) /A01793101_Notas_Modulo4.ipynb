{
 "cells": [
  {
   "cell_type": "markdown",
   "id": "31f53ecf-3379-4464-949c-46b2de5e44df",
   "metadata": {},
   "source": [
    "# MODULO 4: TRABAJANDO CON DATOS EN PYTHON\n",
    "### Autor: Guillermo Alfonso Muñiz Hermosillo\n",
    "### Matricula: A01793101\n",
    "### Curso: Ciencia y Analitica de Datos\n",
    "<h1><center>PROGRESO DEL CURSO:</center></h1>\n",
    "<img src='../A01793101_Progreso_Modulo4.png'></src>\n"
   ]
  },
  {
   "cell_type": "markdown",
   "id": "a5d79687-6402-40a5-a5b5-aedee3a956f0",
   "metadata": {},
   "source": [
    "## Leyendo Archivos usando el metodo OPEN\n",
    "Usamos la funcion Open para abrir un archivo:\n",
    "\n",
    "Ejemplo: f1 = open(\"/resources/data/Example.txt\", w)\n",
    "Donde:\n",
    "\n",
    "* f1 = variable donde el contenido del archivo sera guardado\n",
    "* open = Nombre de la funcion predefinida para abrir archivos:\n",
    "    - Argumentos:\n",
    "        1. <\"DIRECCION_AL_ARCHIVO\">: Una cadena indicando la ubicacion en el sistema del archivo a abrir\n",
    "        2. \"Mode\" Una cadena indicando el tipo de permisos concedidos para abrir el archivo (w = escribir, r= leer, a= agregar)"
   ]
  },
  {
   "cell_type": "code",
   "execution_count": 2,
   "id": "61cd6d62-a5fd-47f8-983f-814a9eba209e",
   "metadata": {},
   "outputs": [],
   "source": [
    "f1 = open(\"housing.csv\", \"w\") #Abrimos un archivo en modo de escritura"
   ]
  },
  {
   "cell_type": "code",
   "execution_count": 4,
   "id": "54b73abd-5749-4759-a5ff-03139706f349",
   "metadata": {},
   "outputs": [
    {
     "name": "stdout",
     "output_type": "stream",
     "text": [
      "Name:  housing.csv\n",
      "Mode:  w\n"
     ]
    }
   ],
   "source": [
    "print(\"Name: \",f1.name) # El metodo Name se usa para obtener el nombre del archivo\n",
    "print(\"Mode: \",f1.mode) # Obtenemos el modo en el que el archivo fue abierto\n",
    "f1.close() #Cerramos el archivo"
   ]
  },
  {
   "cell_type": "markdown",
   "id": "f415de11-4604-4765-8658-b255a30215f9",
   "metadata": {},
   "source": [
    "Si usamos la sentencia *with* automaticamente se cierra el archivo"
   ]
  },
  {
   "cell_type": "code",
   "execution_count": 6,
   "id": "fbedb074-4710-41b9-a958-19791553706b",
   "metadata": {},
   "outputs": [
    {
     "name": "stdout",
     "output_type": "stream",
     "text": [
      "COSAS EN EL ARCHIVO:  Hola Memo \n",
      "Como Estas\n",
      "\n",
      "ESTA CERRADO?:  True\n",
      "COSAS FUERA:  Hola Memo \n",
      "Como Estas\n",
      "\n"
     ]
    }
   ],
   "source": [
    "with open(\"sample.txt\", \"r\") as f1:\n",
    "    file_stuff = f1.read()\n",
    "    print(\"COSAS EN EL ARCHIVO: \", file_stuff)\n",
    "print(\"ESTA CERRADO?: \", f1.closed)\n",
    "print(\"COSAS FUERA: \",  file_stuff)"
   ]
  },
  {
   "cell_type": "markdown",
   "id": "e1bb857e-0fb5-47bc-9306-9588b952cef6",
   "metadata": {},
   "source": [
    "Podemos leer el archivo por lineas usando el metodo *readlines* , el cual guarda las lineas en una lista indexada"
   ]
  },
  {
   "cell_type": "code",
   "execution_count": 7,
   "id": "fbc99b59-7053-44d8-9416-65b5e691353d",
   "metadata": {},
   "outputs": [
    {
     "name": "stdout",
     "output_type": "stream",
     "text": [
      "LINEAS DEL ARCHIVO:  ['Hola Memo \\n', 'Como Estas\\n']\n"
     ]
    }
   ],
   "source": [
    "with open(\"sample.txt\", \"r\") as f1:\n",
    "    file_stuff = f1.readlines()\n",
    "    print(\"LINEAS DEL ARCHIVO: \", file_stuff)"
   ]
  },
  {
   "cell_type": "markdown",
   "id": "54969e48-8c1c-4bcc-b207-aa64e038ebb4",
   "metadata": {},
   "source": [
    "En el metodo *read* podemos especificar el numero de caracteres que quisieramos leer:"
   ]
  },
  {
   "cell_type": "code",
   "execution_count": 12,
   "id": "d2075b40-5587-4cb8-822f-92411c428729",
   "metadata": {},
   "outputs": [
    {
     "name": "stdout",
     "output_type": "stream",
     "text": [
      "LEYENDO 4 Caracteres en las LINEAS DEL ARCHIVO:  Hola\n",
      "LEYENDO 5 Caracteres en las LINEAS DEL ARCHIVO:   Memo\n"
     ]
    }
   ],
   "source": [
    "with open(\"sample.txt\", \"r\") as f1:\n",
    "    file_stuff = f1.read(4)\n",
    "    print(\"LEYENDO 4 Caracteres en las LINEAS DEL ARCHIVO: \", file_stuff)\n",
    "    file_stuff = f1.read(5)\n",
    "    print(\"LEYENDO 5 Caracteres en las LINEAS DEL ARCHIVO: \", file_stuff)"
   ]
  },
  {
   "cell_type": "markdown",
   "id": "75d1bc6f-ccbe-4d97-bf3d-26c27f418202",
   "metadata": {},
   "source": [
    "Se puede hacer lo mismo con *readline* sin embargo, readline solo puede leer una linea a la vex"
   ]
  },
  {
   "cell_type": "code",
   "execution_count": 15,
   "id": "a29d84e3-7e83-469f-ba5e-52a599f3130a",
   "metadata": {},
   "outputs": [
    {
     "name": "stdout",
     "output_type": "stream",
     "text": [
      "This is line 1 \n",
      "\n",
      "This is line 2\n",
      "This \n"
     ]
    }
   ],
   "source": [
    "with open(\"example1.txt\", \"r\") as f1:\n",
    "    print(f1.readline(20)) # Ni leee despues de la primera linea\n",
    "    print(f1.read(20)) # Lee los siguientes 20 caracteres\n"
   ]
  },
  {
   "cell_type": "markdown",
   "id": "7fcee625-36a9-4fb4-a31f-8ea60a1282d4",
   "metadata": {},
   "source": [
    "## ESCRIBIR EN ARCHIVOS\n",
    "Podemos escribir en archivos usando la funcion open.\n",
    "Y agregar contenido con la funcion *write()*"
   ]
  },
  {
   "cell_type": "code",
   "execution_count": 26,
   "id": "b0c26980-8bf9-4036-8ac4-d8dfcae04838",
   "metadata": {},
   "outputs": [],
   "source": [
    "with open(\"example2.txt\", \"w\") as f2:\n",
    "    f2.write(\"Primera Linea de Texto\\n\")\n",
    "    f2.write(\"Segunda Linea de Texto\\n\")"
   ]
  },
  {
   "cell_type": "code",
   "execution_count": 27,
   "id": "fd519594-257a-470f-b2ad-c251afb6f8f6",
   "metadata": {},
   "outputs": [],
   "source": [
    "# Podemos usar un for para escribir multiples lineas\n",
    "Lines = [\"Primera Linea\\n\", \"Segunda Linea\\n\", \"Tercera Linea\\n\"]\n",
    "with open(\"example2.txt\", \"w\") as f2:\n",
    "    for line in Lines:\n",
    "        f2.write(line)"
   ]
  },
  {
   "cell_type": "markdown",
   "id": "b6e419bc-6c51-4f28-a2a9-131697265528",
   "metadata": {},
   "source": [
    "Si usamos el modo *\"a\"* cualquier comando enviado en write sera añadido al archivo."
   ]
  },
  {
   "cell_type": "code",
   "execution_count": 28,
   "id": "8e498101-79b2-4ded-9715-e9669a13d15e",
   "metadata": {},
   "outputs": [],
   "source": [
    "with open(\"example2.txt\", \"a\") as f2:\n",
    "    f2.write(\"Cuarta Linea\\n\")"
   ]
  },
  {
   "cell_type": "markdown",
   "id": "3e8e2921-c130-4506-8799-d50b258a8480",
   "metadata": {},
   "source": [
    "Podemos copiar un archivo a otro de la siguiente manera"
   ]
  },
  {
   "cell_type": "code",
   "execution_count": 29,
   "id": "5765d54a-79e3-4344-b15d-9d26641d0b46",
   "metadata": {},
   "outputs": [],
   "source": [
    "with open(\"example2.txt\", \"r\") as readFile:  #Abrimos el archivo que del que vamos a copiar el contenido en modo lectura\n",
    "    with open(\"example3.txt\", \"w\") as writeFile: #Creamos el archivo en el que copiaremos en modo escritura\n",
    "        for line in readFile: # Del archivo de lectura leemos linea por linea\n",
    "            writeFile.write(line) # En el archivo de escritura escribimos linea por linea"
   ]
  },
  {
   "cell_type": "markdown",
   "id": "397c8002-67de-4374-a828-761acc259649",
   "metadata": {},
   "source": [
    "### Modos adicionales al abrir archivos\n",
    "No solo podemos abrir los archivos con los modos w, r, a ya que puede ser poco eficiente. Tambien existen otros modos posibles de apertura de archivos:\n",
    "\n",
    "- r+ : Lectura y Escritura, No se puede truncar el archivo.\n",
    "- w+ : Escritura y Lectura, Se trunca el archivo\n",
    "- a+ : Agregar y Lectura, Crea un nuevo archivo si no exitste"
   ]
  },
  {
   "cell_type": "code",
   "execution_count": 30,
   "id": "ba7f7fd3-795e-431f-a56f-70bb207bbf3e",
   "metadata": {},
   "outputs": [
    {
     "name": "stdout",
     "output_type": "stream",
     "text": [
      "\n"
     ]
    }
   ],
   "source": [
    "with open('Example2.txt', 'a+') as pruebaModos:\n",
    "    pruebaModos.write(\"Esta Es la Quinta Linea\\n\")\n",
    "    print(pruebaModos.read()) "
   ]
  },
  {
   "cell_type": "markdown",
   "id": "63557699-8c7a-4321-8327-fe0309e7e442",
   "metadata": {},
   "source": [
    "Read no produjo ningun resultado, esto es debido al modo a+ y donde lee el archivo, este metodo funciona como un puntero.\n",
    "Abrir un archivo en modo w implica abrir un archivo y mover el cursor al inicio de este. Escribiendo texto nuevo y borrando todo lo que sigue despues. \n",
    "Mientras que abrir en a es similar a abrir un archivo, mover el cursor al final y despues agregar lo nuevo.\n",
    "\n",
    "Es por esto que es util saber donde se encuentra el cursor en un archivo y poder controlarlo. Para eso se utilizan los siguientes metodos:\n",
    "\n",
    "- .tell() - Nos muestra la posicion actual en bytes \n",
    "- .seek(offset,from) - Cambia la posiion mediante el parametro 'offset' (en bytes) con respecto al parametro 'from'. Este ultimo puede tomar el valor de 0, 1, 2 correspondientes a principio, relativo a la posicion actual o final."
   ]
  },
  {
   "cell_type": "code",
   "execution_count": 32,
   "id": "0df9b5bb-9055-4f7b-b39f-394daf6f4c0a",
   "metadata": {},
   "outputs": [
    {
     "name": "stdout",
     "output_type": "stream",
     "text": [
      "Posicion Inicial: 15\n",
      "No lee Nada\n",
      "\n",
      "Nueba Ubicacion : 0\n",
      "This is line E\n",
      "\n",
      "Posicion despues de leer: 15\n"
     ]
    }
   ],
   "source": [
    "with open('Example4.txt', 'a+') as pruebaDeModos:\n",
    "    print(\"Posicion Inicial: {}\".format(pruebaDeModos.tell()))\n",
    "    \n",
    "    datos = pruebaDeModos.read()\n",
    "    if (not datos):  # Las cadenas vacias regresan falso en python\n",
    "            print('No lee Nada') \n",
    "    else: \n",
    "            print(pruebaDeModos.read())\n",
    "            \n",
    "    pruebaDeModos.seek(0,0) # Nos movemos 0 bytes desde el principio\n",
    "    \n",
    "    print(\"\\nNueba Ubicacion : {}\".format(pruebaDeModos.tell()))\n",
    "    datos = pruebaDeModos.read()\n",
    "    if (not datos): \n",
    "            print('No lee Nada') \n",
    "    else: \n",
    "            print(datos)\n",
    "    \n",
    "    print(\"Posicion despues de leer: {}\".format(pruebaDeModos.tell()) )"
   ]
  },
  {
   "cell_type": "markdown",
   "id": "41c35e16-310d-48f9-844f-f6aae939d3ed",
   "metadata": {},
   "source": [
    "Al usar r+, puede ser recomendable agreegar un .truncate() al final de los datos. Esto reducira el archivo al tamaño de nuestros datos y borrara todo lo que le sigue."
   ]
  },
  {
   "cell_type": "code",
   "execution_count": 36,
   "id": "7c38a811-6c09-4a2d-aaa4-cb4698d39ff2",
   "metadata": {},
   "outputs": [
    {
     "name": "stdout",
     "output_type": "stream",
     "text": [
      "Linea 1\n",
      "Linea 2\n",
      "Linea 3\n",
      "Terminado\n",
      "\n"
     ]
    }
   ],
   "source": [
    "with open('Example4.txt', 'r+') as pruebaDeModos2:\n",
    "    datos = pruebaDeModos2.readlines()\n",
    "    pruebaDeModos2.seek(0,0) #write at beginning of file\n",
    "   \n",
    "    pruebaDeModos2.write(\"Linea 1\" + \"\\n\")\n",
    "    pruebaDeModos2.write(\"Linea 2\" + \"\\n\")\n",
    "    pruebaDeModos2.write(\"Linea 3\" + \"\\n\")\n",
    "    pruebaDeModos2.write(\"Terminado\\n\")\n",
    "    pruebaDeModos2.truncate()\n",
    "    pruebaDeModos2.seek(0,0)\n",
    "    print(pruebaDeModos2.read())"
   ]
  },
  {
   "cell_type": "markdown",
   "id": "6a0c74d1-3ec9-4121-abcd-284fe5082eff",
   "metadata": {},
   "source": [
    "## CARGA DE DATOS CON PANDAS\n",
    "Pandas es una libreria popular para el analisis de datos. Para usar Pandas, debemos importar la libreria mediante el comando import"
   ]
  },
  {
   "cell_type": "code",
   "execution_count": 37,
   "id": "bbe4b802-9068-4386-8b31-a5739378ae80",
   "metadata": {},
   "outputs": [],
   "source": [
    "import pandas as pd"
   ]
  },
  {
   "cell_type": "markdown",
   "id": "5b27e061-5f14-4b02-98ec-adc168ea21e5",
   "metadata": {},
   "source": [
    "Una vez importada la libreria nos da accesso a todos los metodos de ella. Entre algunos de los metodos mas importantes de pandas estan:\n",
    "\n",
    "- read_csv()\n",
    "- Series()\n",
    "- DataFrame\n",
    "- values"
   ]
  },
  {
   "cell_type": "code",
   "execution_count": 73,
   "id": "0d1ac82f-232a-46db-81df-179971a3f1a8",
   "metadata": {},
   "outputs": [],
   "source": [
    "#Read CSV nos permite leer datos de un archivo de tipo CSV, creando un dataFrame, un tipo de dato de pandas para el analisis de datos.\n",
    "df = pd.read_csv(\"TopSellingAlbums.csv\")"
   ]
  },
  {
   "cell_type": "code",
   "execution_count": 74,
   "id": "3295f671-4cde-4309-afad-473bdb7b71a9",
   "metadata": {},
   "outputs": [
    {
     "data": {
      "text/html": [
       "<div>\n",
       "<style scoped>\n",
       "    .dataframe tbody tr th:only-of-type {\n",
       "        vertical-align: middle;\n",
       "    }\n",
       "\n",
       "    .dataframe tbody tr th {\n",
       "        vertical-align: top;\n",
       "    }\n",
       "\n",
       "    .dataframe thead th {\n",
       "        text-align: right;\n",
       "    }\n",
       "</style>\n",
       "<table border=\"1\" class=\"dataframe\">\n",
       "  <thead>\n",
       "    <tr style=\"text-align: right;\">\n",
       "      <th></th>\n",
       "      <th>Artist</th>\n",
       "      <th>Album</th>\n",
       "      <th>Released</th>\n",
       "      <th>Length</th>\n",
       "      <th>Genre</th>\n",
       "      <th>Music Recording Sales (millions)</th>\n",
       "      <th>Claimed Sales (millions)</th>\n",
       "      <th>Released.1</th>\n",
       "      <th>Soundtrack</th>\n",
       "      <th>Rating</th>\n",
       "    </tr>\n",
       "  </thead>\n",
       "  <tbody>\n",
       "    <tr>\n",
       "      <th>0</th>\n",
       "      <td>Michael Jackson</td>\n",
       "      <td>Thriller</td>\n",
       "      <td>1982</td>\n",
       "      <td>0:42:19</td>\n",
       "      <td>pop, rock, R&amp;B</td>\n",
       "      <td>46.0</td>\n",
       "      <td>65</td>\n",
       "      <td>30-Nov-82</td>\n",
       "      <td>NaN</td>\n",
       "      <td>10.0</td>\n",
       "    </tr>\n",
       "    <tr>\n",
       "      <th>1</th>\n",
       "      <td>AC/DC</td>\n",
       "      <td>Back in Black</td>\n",
       "      <td>1980</td>\n",
       "      <td>0:42:11</td>\n",
       "      <td>hard rock</td>\n",
       "      <td>26.1</td>\n",
       "      <td>50</td>\n",
       "      <td>25-Jul-80</td>\n",
       "      <td>NaN</td>\n",
       "      <td>9.5</td>\n",
       "    </tr>\n",
       "    <tr>\n",
       "      <th>2</th>\n",
       "      <td>Pink Floyd</td>\n",
       "      <td>The Dark Side of the Moon</td>\n",
       "      <td>1973</td>\n",
       "      <td>0:42:49</td>\n",
       "      <td>progressive rock</td>\n",
       "      <td>24.2</td>\n",
       "      <td>45</td>\n",
       "      <td>01-Mar-73</td>\n",
       "      <td>NaN</td>\n",
       "      <td>9.0</td>\n",
       "    </tr>\n",
       "    <tr>\n",
       "      <th>3</th>\n",
       "      <td>Whitney Houston</td>\n",
       "      <td>The Bodyguard</td>\n",
       "      <td>1992</td>\n",
       "      <td>0:57:44</td>\n",
       "      <td>R&amp;B, soul, pop</td>\n",
       "      <td>27.4</td>\n",
       "      <td>44</td>\n",
       "      <td>17-Nov-92</td>\n",
       "      <td>Y</td>\n",
       "      <td>8.5</td>\n",
       "    </tr>\n",
       "    <tr>\n",
       "      <th>4</th>\n",
       "      <td>Meat Loaf</td>\n",
       "      <td>Bat Out of Hell</td>\n",
       "      <td>1977</td>\n",
       "      <td>0:46:33</td>\n",
       "      <td>hard rock, progressive rock</td>\n",
       "      <td>20.6</td>\n",
       "      <td>43</td>\n",
       "      <td>21-Oct-77</td>\n",
       "      <td>NaN</td>\n",
       "      <td>8.0</td>\n",
       "    </tr>\n",
       "  </tbody>\n",
       "</table>\n",
       "</div>"
      ],
      "text/plain": [
       "            Artist                      Album  Released   Length  \\\n",
       "0  Michael Jackson                   Thriller      1982  0:42:19   \n",
       "1            AC/DC              Back in Black      1980  0:42:11   \n",
       "2       Pink Floyd  The Dark Side of the Moon      1973  0:42:49   \n",
       "3  Whitney Houston              The Bodyguard      1992  0:57:44   \n",
       "4        Meat Loaf            Bat Out of Hell      1977  0:46:33   \n",
       "\n",
       "                         Genre  Music Recording Sales (millions)  \\\n",
       "0               pop, rock, R&B                              46.0   \n",
       "1                    hard rock                              26.1   \n",
       "2             progressive rock                              24.2   \n",
       "3               R&B, soul, pop                              27.4   \n",
       "4  hard rock, progressive rock                              20.6   \n",
       "\n",
       "   Claimed Sales (millions) Released.1 Soundtrack  Rating  \n",
       "0                        65  30-Nov-82        NaN    10.0  \n",
       "1                        50  25-Jul-80        NaN     9.5  \n",
       "2                        45  01-Mar-73        NaN     9.0  \n",
       "3                        44  17-Nov-92          Y     8.5  \n",
       "4                        43  21-Oct-77        NaN     8.0  "
      ]
     },
     "execution_count": 74,
     "metadata": {},
     "output_type": "execute_result"
    }
   ],
   "source": [
    "df.head() #El metodo head, nos despliega los primeros 5 lineas de datos por default."
   ]
  },
  {
   "cell_type": "markdown",
   "id": "a869366f-325d-4520-99a4-958a7f365c87",
   "metadata": {},
   "source": [
    "Tambien podemos leer archivos de excel mediante el comando *read_excel(xlsx_path)"
   ]
  },
  {
   "cell_type": "markdown",
   "id": "50598637-3fcf-413e-85c2-f11df392b19d",
   "metadata": {},
   "source": [
    "Podemos crear un DataFrame de un diccionario. Las keys corresponden a las etiquetas de las columnas y los valores del diccionario corresponden a las filas de datos."
   ]
  },
  {
   "cell_type": "code",
   "execution_count": 44,
   "id": "c884b3a3-b31b-4464-afa1-0588a6e15253",
   "metadata": {},
   "outputs": [
    {
     "data": {
      "text/html": [
       "<div>\n",
       "<style scoped>\n",
       "    .dataframe tbody tr th:only-of-type {\n",
       "        vertical-align: middle;\n",
       "    }\n",
       "\n",
       "    .dataframe tbody tr th {\n",
       "        vertical-align: top;\n",
       "    }\n",
       "\n",
       "    .dataframe thead th {\n",
       "        text-align: right;\n",
       "    }\n",
       "</style>\n",
       "<table border=\"1\" class=\"dataframe\">\n",
       "  <thead>\n",
       "    <tr style=\"text-align: right;\">\n",
       "      <th></th>\n",
       "      <th>Album</th>\n",
       "      <th>Publicacion</th>\n",
       "      <th>Duracion</th>\n",
       "    </tr>\n",
       "  </thead>\n",
       "  <tbody>\n",
       "    <tr>\n",
       "      <th>0</th>\n",
       "      <td>Thriller</td>\n",
       "      <td>1982</td>\n",
       "      <td>00:42:19</td>\n",
       "    </tr>\n",
       "    <tr>\n",
       "      <th>1</th>\n",
       "      <td>Back In Black</td>\n",
       "      <td>1980</td>\n",
       "      <td>00:42:11</td>\n",
       "    </tr>\n",
       "    <tr>\n",
       "      <th>2</th>\n",
       "      <td>The Dark Side of the Moon</td>\n",
       "      <td>1973</td>\n",
       "      <td>00:42:49</td>\n",
       "    </tr>\n",
       "    <tr>\n",
       "      <th>3</th>\n",
       "      <td>The Bodyguard</td>\n",
       "      <td>1992</td>\n",
       "      <td>00:57:44</td>\n",
       "    </tr>\n",
       "    <tr>\n",
       "      <th>4</th>\n",
       "      <td>Bat Out of Hell</td>\n",
       "      <td>1977</td>\n",
       "      <td>00:46:33</td>\n",
       "    </tr>\n",
       "  </tbody>\n",
       "</table>\n",
       "</div>"
      ],
      "text/plain": [
       "                       Album  Publicacion  Duracion\n",
       "0                   Thriller         1982  00:42:19\n",
       "1              Back In Black         1980  00:42:11\n",
       "2  The Dark Side of the Moon         1973  00:42:49\n",
       "3              The Bodyguard         1992  00:57:44\n",
       "4            Bat Out of Hell         1977  00:46:33"
      ]
     },
     "execution_count": 44,
     "metadata": {},
     "output_type": "execute_result"
    }
   ],
   "source": [
    "canciones = {\n",
    "    'Album': ['Thriller', 'Back In Black', 'The Dark Side of the Moon', 'The Bodyguard', 'Bat Out of Hell'],\n",
    "    'Publicacion': [1982, 1980, 1973, 1992, 1977],\n",
    "    'Duracion': ['00:42:19', '00:42:11', '00:42:49', '00:57:44', '00:46:33']\n",
    "}\n",
    "\n",
    "df_Canciones = pd.DataFrame(canciones)\n",
    "df_Canciones.head()"
   ]
  },
  {
   "cell_type": "markdown",
   "id": "347977e0-1629-4df0-9b03-dcaa08a910e3",
   "metadata": {},
   "source": [
    "Tambiem podemos crear Dataframes a partir de columnas de otro"
   ]
  },
  {
   "cell_type": "code",
   "execution_count": 45,
   "id": "809aba5c-7dac-40d3-9782-c32e3d602338",
   "metadata": {},
   "outputs": [
    {
     "data": {
      "text/html": [
       "<div>\n",
       "<style scoped>\n",
       "    .dataframe tbody tr th:only-of-type {\n",
       "        vertical-align: middle;\n",
       "    }\n",
       "\n",
       "    .dataframe tbody tr th {\n",
       "        vertical-align: top;\n",
       "    }\n",
       "\n",
       "    .dataframe thead th {\n",
       "        text-align: right;\n",
       "    }\n",
       "</style>\n",
       "<table border=\"1\" class=\"dataframe\">\n",
       "  <thead>\n",
       "    <tr style=\"text-align: right;\">\n",
       "      <th></th>\n",
       "      <th>Publicacion</th>\n",
       "    </tr>\n",
       "  </thead>\n",
       "  <tbody>\n",
       "    <tr>\n",
       "      <th>0</th>\n",
       "      <td>1982</td>\n",
       "    </tr>\n",
       "    <tr>\n",
       "      <th>1</th>\n",
       "      <td>1980</td>\n",
       "    </tr>\n",
       "    <tr>\n",
       "      <th>2</th>\n",
       "      <td>1973</td>\n",
       "    </tr>\n",
       "    <tr>\n",
       "      <th>3</th>\n",
       "      <td>1992</td>\n",
       "    </tr>\n",
       "    <tr>\n",
       "      <th>4</th>\n",
       "      <td>1977</td>\n",
       "    </tr>\n",
       "  </tbody>\n",
       "</table>\n",
       "</div>"
      ],
      "text/plain": [
       "   Publicacion\n",
       "0         1982\n",
       "1         1980\n",
       "2         1973\n",
       "3         1992\n",
       "4         1977"
      ]
     },
     "execution_count": 45,
     "metadata": {},
     "output_type": "execute_result"
    }
   ],
   "source": [
    "fromDF = df_Canciones[['Publicacion']]\n",
    "fromDF.head()"
   ]
  },
  {
   "cell_type": "code",
   "execution_count": 47,
   "id": "f14e2675-415d-4e58-915d-f8334b1000cb",
   "metadata": {},
   "outputs": [
    {
     "data": {
      "text/html": [
       "<div>\n",
       "<style scoped>\n",
       "    .dataframe tbody tr th:only-of-type {\n",
       "        vertical-align: middle;\n",
       "    }\n",
       "\n",
       "    .dataframe tbody tr th {\n",
       "        vertical-align: top;\n",
       "    }\n",
       "\n",
       "    .dataframe thead th {\n",
       "        text-align: right;\n",
       "    }\n",
       "</style>\n",
       "<table border=\"1\" class=\"dataframe\">\n",
       "  <thead>\n",
       "    <tr style=\"text-align: right;\">\n",
       "      <th></th>\n",
       "      <th>Album</th>\n",
       "      <th>Length</th>\n",
       "      <th>Genre</th>\n",
       "    </tr>\n",
       "  </thead>\n",
       "  <tbody>\n",
       "    <tr>\n",
       "      <th>0</th>\n",
       "      <td>Thriller</td>\n",
       "      <td>0:42:19</td>\n",
       "      <td>pop, rock, R&amp;B</td>\n",
       "    </tr>\n",
       "    <tr>\n",
       "      <th>1</th>\n",
       "      <td>Back in Black</td>\n",
       "      <td>0:42:11</td>\n",
       "      <td>hard rock</td>\n",
       "    </tr>\n",
       "    <tr>\n",
       "      <th>2</th>\n",
       "      <td>The Dark Side of the Moon</td>\n",
       "      <td>0:42:49</td>\n",
       "      <td>progressive rock</td>\n",
       "    </tr>\n",
       "    <tr>\n",
       "      <th>3</th>\n",
       "      <td>The Bodyguard</td>\n",
       "      <td>0:57:44</td>\n",
       "      <td>R&amp;B, soul, pop</td>\n",
       "    </tr>\n",
       "    <tr>\n",
       "      <th>4</th>\n",
       "      <td>Bat Out of Hell</td>\n",
       "      <td>0:46:33</td>\n",
       "      <td>hard rock, progressive rock</td>\n",
       "    </tr>\n",
       "  </tbody>\n",
       "</table>\n",
       "</div>"
      ],
      "text/plain": [
       "                       Album   Length                        Genre\n",
       "0                   Thriller  0:42:19               pop, rock, R&B\n",
       "1              Back in Black  0:42:11                    hard rock\n",
       "2  The Dark Side of the Moon  0:42:49             progressive rock\n",
       "3              The Bodyguard  0:57:44               R&B, soul, pop\n",
       "4            Bat Out of Hell  0:46:33  hard rock, progressive rock"
      ]
     },
     "execution_count": 47,
     "metadata": {},
     "output_type": "execute_result"
    }
   ],
   "source": [
    "multipleColDf = df[['Album', 'Length', 'Genre']]\n",
    "multipleColDf.head()"
   ]
  },
  {
   "cell_type": "markdown",
   "id": "76ac5af0-202e-4310-b003-d2bed6c13196",
   "metadata": {},
   "source": [
    "Se puede acceder a elementos particulares de un DataFrame mediante el metodo *'iloc'*"
   ]
  },
  {
   "cell_type": "code",
   "execution_count": 54,
   "id": "f9bbbc07-f16f-4f30-a9a2-bbe09c4fa2b4",
   "metadata": {},
   "outputs": [
    {
     "name": "stdout",
     "output_type": "stream",
     "text": [
      "Album: Thriller Genre: pop, rock, R&B\n"
     ]
    }
   ],
   "source": [
    "print(\"Album: \" +  multipleColDf.iloc[0,0] + \" Genre: \" + multipleColDf.iloc[0,2])"
   ]
  },
  {
   "cell_type": "markdown",
   "id": "4a63e136-347c-4b9f-b6a9-2368bf28cf31",
   "metadata": {},
   "source": [
    "Tambien se puede acceder a elementos con el metodo loc[index, NombreDeLaColumna]"
   ]
  },
  {
   "cell_type": "code",
   "execution_count": 55,
   "id": "36e9b102-2635-4eef-b3b4-0ebb019e838b",
   "metadata": {},
   "outputs": [
    {
     "name": "stdout",
     "output_type": "stream",
     "text": [
      "Album: Thriller Genre: pop, rock, R&B\n"
     ]
    }
   ],
   "source": [
    "print(\"Album: \" +  multipleColDf.loc[0,'Album'] + \" Genre: \" + multipleColDf.loc[0,'Genre'])"
   ]
  },
  {
   "cell_type": "markdown",
   "id": "c60792cb-97c8-48d7-b749-654997ec8723",
   "metadata": {},
   "source": [
    "Podemos hacer slicing usando el indice y el nombre de la columna"
   ]
  },
  {
   "cell_type": "code",
   "execution_count": 56,
   "id": "ddb13a64-83b4-4144-bb02-28aae24745ec",
   "metadata": {},
   "outputs": [
    {
     "data": {
      "text/html": [
       "<div>\n",
       "<style scoped>\n",
       "    .dataframe tbody tr th:only-of-type {\n",
       "        vertical-align: middle;\n",
       "    }\n",
       "\n",
       "    .dataframe tbody tr th {\n",
       "        vertical-align: top;\n",
       "    }\n",
       "\n",
       "    .dataframe thead th {\n",
       "        text-align: right;\n",
       "    }\n",
       "</style>\n",
       "<table border=\"1\" class=\"dataframe\">\n",
       "  <thead>\n",
       "    <tr style=\"text-align: right;\">\n",
       "      <th></th>\n",
       "      <th>Artist</th>\n",
       "      <th>Album</th>\n",
       "      <th>Released</th>\n",
       "    </tr>\n",
       "  </thead>\n",
       "  <tbody>\n",
       "    <tr>\n",
       "      <th>0</th>\n",
       "      <td>Michael Jackson</td>\n",
       "      <td>Thriller</td>\n",
       "      <td>1982</td>\n",
       "    </tr>\n",
       "    <tr>\n",
       "      <th>1</th>\n",
       "      <td>AC/DC</td>\n",
       "      <td>Back in Black</td>\n",
       "      <td>1980</td>\n",
       "    </tr>\n",
       "  </tbody>\n",
       "</table>\n",
       "</div>"
      ],
      "text/plain": [
       "            Artist          Album  Released\n",
       "0  Michael Jackson       Thriller      1982\n",
       "1            AC/DC  Back in Black      1980"
      ]
     },
     "execution_count": 56,
     "metadata": {},
     "output_type": "execute_result"
    }
   ],
   "source": [
    "df.iloc[0:2, 0:3]"
   ]
  },
  {
   "cell_type": "code",
   "execution_count": 61,
   "id": "823b26d6-840a-4c8d-af88-7705f020bfbe",
   "metadata": {},
   "outputs": [
    {
     "data": {
      "text/html": [
       "<div>\n",
       "<style scoped>\n",
       "    .dataframe tbody tr th:only-of-type {\n",
       "        vertical-align: middle;\n",
       "    }\n",
       "\n",
       "    .dataframe tbody tr th {\n",
       "        vertical-align: top;\n",
       "    }\n",
       "\n",
       "    .dataframe thead th {\n",
       "        text-align: right;\n",
       "    }\n",
       "</style>\n",
       "<table border=\"1\" class=\"dataframe\">\n",
       "  <thead>\n",
       "    <tr style=\"text-align: right;\">\n",
       "      <th></th>\n",
       "      <th>Length</th>\n",
       "      <th>Genre</th>\n",
       "    </tr>\n",
       "  </thead>\n",
       "  <tbody>\n",
       "    <tr>\n",
       "      <th>5</th>\n",
       "      <td>0:43:08</td>\n",
       "      <td>rock, soft rock, folk rock</td>\n",
       "    </tr>\n",
       "    <tr>\n",
       "      <th>6</th>\n",
       "      <td>1:15:54</td>\n",
       "      <td>disco</td>\n",
       "    </tr>\n",
       "    <tr>\n",
       "      <th>7</th>\n",
       "      <td>0:40:01</td>\n",
       "      <td>soft rock</td>\n",
       "    </tr>\n",
       "  </tbody>\n",
       "</table>\n",
       "</div>"
      ],
      "text/plain": [
       "    Length                       Genre\n",
       "5  0:43:08  rock, soft rock, folk rock\n",
       "6  1:15:54                       disco\n",
       "7  0:40:01                   soft rock"
      ]
     },
     "execution_count": 61,
     "metadata": {},
     "output_type": "execute_result"
    }
   ],
   "source": [
    "multipleColDf.iloc[5:8, 1:3] "
   ]
  },
  {
   "cell_type": "code",
   "execution_count": 62,
   "id": "3530da6b-95d4-4eaf-8fa4-488a537e3c99",
   "metadata": {},
   "outputs": [
    {
     "data": {
      "text/html": [
       "<div>\n",
       "<style scoped>\n",
       "    .dataframe tbody tr th:only-of-type {\n",
       "        vertical-align: middle;\n",
       "    }\n",
       "\n",
       "    .dataframe tbody tr th {\n",
       "        vertical-align: top;\n",
       "    }\n",
       "\n",
       "    .dataframe thead th {\n",
       "        text-align: right;\n",
       "    }\n",
       "</style>\n",
       "<table border=\"1\" class=\"dataframe\">\n",
       "  <thead>\n",
       "    <tr style=\"text-align: right;\">\n",
       "      <th></th>\n",
       "      <th>Album</th>\n",
       "      <th>Length</th>\n",
       "    </tr>\n",
       "  </thead>\n",
       "  <tbody>\n",
       "    <tr>\n",
       "      <th>3</th>\n",
       "      <td>The Bodyguard</td>\n",
       "      <td>0:57:44</td>\n",
       "    </tr>\n",
       "    <tr>\n",
       "      <th>4</th>\n",
       "      <td>Bat Out of Hell</td>\n",
       "      <td>0:46:33</td>\n",
       "    </tr>\n",
       "    <tr>\n",
       "      <th>5</th>\n",
       "      <td>Their Greatest Hits (1971-1975)</td>\n",
       "      <td>0:43:08</td>\n",
       "    </tr>\n",
       "    <tr>\n",
       "      <th>6</th>\n",
       "      <td>Saturday Night Fever</td>\n",
       "      <td>1:15:54</td>\n",
       "    </tr>\n",
       "  </tbody>\n",
       "</table>\n",
       "</div>"
      ],
      "text/plain": [
       "                             Album   Length\n",
       "3                    The Bodyguard  0:57:44\n",
       "4                  Bat Out of Hell  0:46:33\n",
       "5  Their Greatest Hits (1971-1975)  0:43:08\n",
       "6             Saturday Night Fever  1:15:54"
      ]
     },
     "execution_count": 62,
     "metadata": {},
     "output_type": "execute_result"
    }
   ],
   "source": [
    "multipleColDf.loc[3:6, 'Album':'Length']"
   ]
  },
  {
   "cell_type": "markdown",
   "id": "15854859-5987-4742-8646-37d020d895e2",
   "metadata": {},
   "source": [
    "## TRABAJANDO Y GUARDANDO DATOS CON PANDAS"
   ]
  },
  {
   "cell_type": "markdown",
   "id": "03754996-fbeb-4466-932c-742772449336",
   "metadata": {},
   "source": [
    "Podemos buscar los elementos unicos en una columna mediante el metodo UNIQUE"
   ]
  },
  {
   "cell_type": "code",
   "execution_count": 75,
   "id": "a8b8b621-b981-46fd-a67c-1e895e65352a",
   "metadata": {},
   "outputs": [
    {
     "data": {
      "text/plain": [
       "array([1982, 1980, 1973, 1992, 1977, 1976])"
      ]
     },
     "execution_count": 75,
     "metadata": {},
     "output_type": "execute_result"
    }
   ],
   "source": [
    "df['Released'].unique()"
   ]
  },
  {
   "cell_type": "markdown",
   "id": "b1a9e47d-7e3d-4edf-83ce-746adf74d037",
   "metadata": {},
   "source": [
    "Podemos trabajar con Condiciones logicas con los dataFrames"
   ]
  },
  {
   "cell_type": "code",
   "execution_count": 78,
   "id": "7446f27e-91c6-4b94-a7eb-925c58562996",
   "metadata": {},
   "outputs": [
    {
     "data": {
      "text/plain": [
       "0     True\n",
       "1     True\n",
       "2    False\n",
       "3     True\n",
       "4    False\n",
       "5    False\n",
       "6    False\n",
       "7    False\n",
       "Name: Released, dtype: bool"
      ]
     },
     "execution_count": 78,
     "metadata": {},
     "output_type": "execute_result"
    }
   ],
   "source": [
    "df['Released'] >= 1980 # Obtendremos un dataframe con valores booleanos"
   ]
  },
  {
   "cell_type": "markdown",
   "id": "76209508-4b1a-4ef7-b5ca-e87f70ca9d28",
   "metadata": {},
   "source": [
    "Podemos seleccionar las columnas especificas a estas operaciones. \n",
    "Solo tenemos que especificar el nombre del Dataframe original,\n",
    "Entre Corchetes ponemos la condicion especificada\n",
    "Y la asignamos a una nueva variable."
   ]
  },
  {
   "cell_type": "code",
   "execution_count": 79,
   "id": "13ed8be0-9e73-4832-bc5d-596a50b6da6a",
   "metadata": {},
   "outputs": [
    {
     "data": {
      "text/html": [
       "<div>\n",
       "<style scoped>\n",
       "    .dataframe tbody tr th:only-of-type {\n",
       "        vertical-align: middle;\n",
       "    }\n",
       "\n",
       "    .dataframe tbody tr th {\n",
       "        vertical-align: top;\n",
       "    }\n",
       "\n",
       "    .dataframe thead th {\n",
       "        text-align: right;\n",
       "    }\n",
       "</style>\n",
       "<table border=\"1\" class=\"dataframe\">\n",
       "  <thead>\n",
       "    <tr style=\"text-align: right;\">\n",
       "      <th></th>\n",
       "      <th>Artist</th>\n",
       "      <th>Album</th>\n",
       "      <th>Released</th>\n",
       "      <th>Length</th>\n",
       "      <th>Genre</th>\n",
       "      <th>Music Recording Sales (millions)</th>\n",
       "      <th>Claimed Sales (millions)</th>\n",
       "      <th>Released.1</th>\n",
       "      <th>Soundtrack</th>\n",
       "      <th>Rating</th>\n",
       "    </tr>\n",
       "  </thead>\n",
       "  <tbody>\n",
       "    <tr>\n",
       "      <th>0</th>\n",
       "      <td>Michael Jackson</td>\n",
       "      <td>Thriller</td>\n",
       "      <td>1982</td>\n",
       "      <td>0:42:19</td>\n",
       "      <td>pop, rock, R&amp;B</td>\n",
       "      <td>46.0</td>\n",
       "      <td>65</td>\n",
       "      <td>30-Nov-82</td>\n",
       "      <td>NaN</td>\n",
       "      <td>10.0</td>\n",
       "    </tr>\n",
       "    <tr>\n",
       "      <th>1</th>\n",
       "      <td>AC/DC</td>\n",
       "      <td>Back in Black</td>\n",
       "      <td>1980</td>\n",
       "      <td>0:42:11</td>\n",
       "      <td>hard rock</td>\n",
       "      <td>26.1</td>\n",
       "      <td>50</td>\n",
       "      <td>25-Jul-80</td>\n",
       "      <td>NaN</td>\n",
       "      <td>9.5</td>\n",
       "    </tr>\n",
       "    <tr>\n",
       "      <th>3</th>\n",
       "      <td>Whitney Houston</td>\n",
       "      <td>The Bodyguard</td>\n",
       "      <td>1992</td>\n",
       "      <td>0:57:44</td>\n",
       "      <td>R&amp;B, soul, pop</td>\n",
       "      <td>27.4</td>\n",
       "      <td>44</td>\n",
       "      <td>17-Nov-92</td>\n",
       "      <td>Y</td>\n",
       "      <td>8.5</td>\n",
       "    </tr>\n",
       "  </tbody>\n",
       "</table>\n",
       "</div>"
      ],
      "text/plain": [
       "            Artist          Album  Released   Length           Genre  \\\n",
       "0  Michael Jackson       Thriller      1982  0:42:19  pop, rock, R&B   \n",
       "1            AC/DC  Back in Black      1980  0:42:11       hard rock   \n",
       "3  Whitney Houston  The Bodyguard      1992  0:57:44  R&B, soul, pop   \n",
       "\n",
       "   Music Recording Sales (millions)  Claimed Sales (millions) Released.1  \\\n",
       "0                              46.0                        65  30-Nov-82   \n",
       "1                              26.1                        50  25-Jul-80   \n",
       "3                              27.4                        44  17-Nov-92   \n",
       "\n",
       "  Soundtrack  Rating  \n",
       "0        NaN    10.0  \n",
       "1        NaN     9.5  \n",
       "3          Y     8.5  "
      ]
     },
     "execution_count": 79,
     "metadata": {},
     "output_type": "execute_result"
    }
   ],
   "source": [
    "dfSub = df[df['Released']>=1980]\n",
    "dfSub"
   ]
  },
  {
   "cell_type": "markdown",
   "id": "9c209ada-7a67-42e4-865f-8f5bf70eeb7c",
   "metadata": {},
   "source": [
    "Finalmente podemos guardar el Nuevo Dataframe a un Archivo CSV mediante el metodo *to_csv()*"
   ]
  },
  {
   "cell_type": "code",
   "execution_count": 80,
   "id": "522f2f73-0ce7-4ae5-9e6f-16129857bde2",
   "metadata": {},
   "outputs": [],
   "source": [
    "dfSub.to_csv(\"BooleanDataFrame.csv\")"
   ]
  },
  {
   "cell_type": "markdown",
   "id": "7a48fe80-14a3-4d97-b7ff-e269b6cf1d10",
   "metadata": {},
   "source": [
    "## EJERCICIOS Y EXAMEN DEL MODULO 4"
   ]
  },
  {
   "cell_type": "code",
   "execution_count": 64,
   "id": "66a21fb6-7d42-4631-9789-8de8228941d9",
   "metadata": {},
   "outputs": [
    {
     "data": {
      "text/html": [
       "<div>\n",
       "<style scoped>\n",
       "    .dataframe tbody tr th:only-of-type {\n",
       "        vertical-align: middle;\n",
       "    }\n",
       "\n",
       "    .dataframe tbody tr th {\n",
       "        vertical-align: top;\n",
       "    }\n",
       "\n",
       "    .dataframe thead th {\n",
       "        text-align: right;\n",
       "    }\n",
       "</style>\n",
       "<table border=\"1\" class=\"dataframe\">\n",
       "  <thead>\n",
       "    <tr style=\"text-align: right;\">\n",
       "      <th></th>\n",
       "      <th>Released</th>\n",
       "      <th>Artist</th>\n",
       "    </tr>\n",
       "  </thead>\n",
       "  <tbody>\n",
       "    <tr>\n",
       "      <th>0</th>\n",
       "      <td>1982</td>\n",
       "      <td>Michael Jackson</td>\n",
       "    </tr>\n",
       "    <tr>\n",
       "      <th>1</th>\n",
       "      <td>1980</td>\n",
       "      <td>AC/DC</td>\n",
       "    </tr>\n",
       "    <tr>\n",
       "      <th>2</th>\n",
       "      <td>1973</td>\n",
       "      <td>Pink Floyd</td>\n",
       "    </tr>\n",
       "    <tr>\n",
       "      <th>3</th>\n",
       "      <td>1992</td>\n",
       "      <td>Whitney Houston</td>\n",
       "    </tr>\n",
       "    <tr>\n",
       "      <th>4</th>\n",
       "      <td>1977</td>\n",
       "      <td>Meat Loaf</td>\n",
       "    </tr>\n",
       "    <tr>\n",
       "      <th>5</th>\n",
       "      <td>1976</td>\n",
       "      <td>Eagles</td>\n",
       "    </tr>\n",
       "    <tr>\n",
       "      <th>6</th>\n",
       "      <td>1977</td>\n",
       "      <td>Bee Gees</td>\n",
       "    </tr>\n",
       "    <tr>\n",
       "      <th>7</th>\n",
       "      <td>1977</td>\n",
       "      <td>Fleetwood Mac</td>\n",
       "    </tr>\n",
       "  </tbody>\n",
       "</table>\n",
       "</div>"
      ],
      "text/plain": [
       "   Released           Artist\n",
       "0      1982  Michael Jackson\n",
       "1      1980            AC/DC\n",
       "2      1973       Pink Floyd\n",
       "3      1992  Whitney Houston\n",
       "4      1977        Meat Loaf\n",
       "5      1976           Eagles\n",
       "6      1977         Bee Gees\n",
       "7      1977    Fleetwood Mac"
      ]
     },
     "execution_count": 64,
     "metadata": {},
     "output_type": "execute_result"
    }
   ],
   "source": [
    "q = df[['Released','Artist']] # EJERCICIO DE LAB\n",
    "q"
   ]
  },
  {
   "cell_type": "code",
   "execution_count": 65,
   "id": "71b43a76-960c-4340-934d-e9b7f5fb900c",
   "metadata": {},
   "outputs": [
    {
     "data": {
      "text/plain": [
       "1980"
      ]
     },
     "execution_count": 65,
     "metadata": {},
     "output_type": "execute_result"
    }
   ],
   "source": [
    "df.iloc[1,2] #Ejercicio de LAB"
   ]
  },
  {
   "cell_type": "code",
   "execution_count": 68,
   "id": "db630b79-37a9-4cae-a0b7-a9ee31abf469",
   "metadata": {},
   "outputs": [
    {
     "data": {
      "text/plain": [
       "a    Michael Jackson\n",
       "b              AC/DC\n",
       "c         Pink Floyd\n",
       "d    Whitney Houston\n",
       "Name: Artist, dtype: object"
      ]
     },
     "execution_count": 68,
     "metadata": {},
     "output_type": "execute_result"
    }
   ],
   "source": [
    "new_index=['a','b','c','d','e','f','g','h'] # EJERCICIO DE LAB\n",
    "df_new=df\n",
    "df_new.index=new_index\n",
    "df_new.loc['a', 'Artist']\n",
    "df_new.loc['a':'d', 'Artist']"
   ]
  },
  {
   "cell_type": "code",
   "execution_count": 76,
   "id": "e8d2372a-f6ec-497e-9269-e884325443f0",
   "metadata": {},
   "outputs": [
    {
     "data": {
      "text/plain": [
       "0     True\n",
       "1    False\n",
       "2     True\n",
       "Name: a, dtype: bool"
      ]
     },
     "execution_count": 76,
     "metadata": {},
     "output_type": "execute_result"
    }
   ],
   "source": [
    "dfTest=pd.DataFrame({'a':[1,2,1],'b':[1,1,1]}) #EJERCICIO DE LAB\n",
    "dfTest['a'] == 1"
   ]
  },
  {
   "cell_type": "code",
   "execution_count": 82,
   "id": "a16457f9-730f-48aa-b6a0-8fc7c1aaae24",
   "metadata": {},
   "outputs": [
    {
     "name": "stdout",
     "output_type": "stream",
     "text": [
      "['This is line 1 \\n', 'This is line 2\\n', 'This is line 3']\n"
     ]
    }
   ],
   "source": [
    "with open(\"Example1.txt\",\"r\") as file1:\n",
    "\n",
    "    FileContent=file1.readlines()\n",
    "\n",
    "    print(FileContent)"
   ]
  },
  {
   "cell_type": "code",
   "execution_count": 83,
   "id": "36d0e128-d742-40d7-8d73-296d1b7f4b96",
   "metadata": {},
   "outputs": [],
   "source": [
    "with open(\"Example5.txt\",\"w\") as writefile:\n",
    "\n",
    "    writefile.write(\"This is line A\\n\")\n",
    "\n",
    "    writefile.write(\"This is line B\\n\")"
   ]
  },
  {
   "cell_type": "code",
   "execution_count": 84,
   "id": "edc5eeef-dc6f-482b-ab63-dc7ca4a715c1",
   "metadata": {},
   "outputs": [],
   "source": [
    "with open(\"Example5.txt\",\"a\") as file1:\n",
    "\n",
    "    file1.write(\"This is line C\\n\")"
   ]
  },
  {
   "cell_type": "code",
   "execution_count": null,
   "id": "49505ff7-8285-4ae3-8452-76d25f0aa91c",
   "metadata": {},
   "outputs": [],
   "source": []
  }
 ],
 "metadata": {
  "kernelspec": {
   "display_name": "Python 3 (ipykernel)",
   "language": "python",
   "name": "python3"
  },
  "language_info": {
   "codemirror_mode": {
    "name": "ipython",
    "version": 3
   },
   "file_extension": ".py",
   "mimetype": "text/x-python",
   "name": "python",
   "nbconvert_exporter": "python",
   "pygments_lexer": "ipython3",
   "version": "3.8.5"
  },
  "vscode": {
   "interpreter": {
    "hash": "7e1998ff7f8aa20ada591c520b972326324e5ea05489af9e422744c7c09f6dad"
   }
  }
 },
 "nbformat": 4,
 "nbformat_minor": 5
}
