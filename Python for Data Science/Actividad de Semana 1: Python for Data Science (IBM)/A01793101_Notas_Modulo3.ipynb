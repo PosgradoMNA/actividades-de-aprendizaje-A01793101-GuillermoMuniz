{
 "cells": [
  {
   "cell_type": "markdown",
   "id": "541a1945-80cb-40e5-b84f-a4ccb89a1202",
   "metadata": {},
   "source": [
    "# CONDICIONES Y BRANCHING"
   ]
  },
  {
   "cell_type": "markdown",
   "id": "13181882-fd9b-49a8-ba58-5f7250b10a76",
   "metadata": {},
   "source": [
    "## Operadores Comparativos\n",
    "* Igual a: ==\n",
    "* Diferente de: !=\n",
    "* Mayor Que: >\n",
    "* Menor Que: <\n",
    "* Mayor o Igual Que: >=\n",
    "* Menor o Igual Que: <="
   ]
  },
  {
   "cell_type": "code",
   "execution_count": 1,
   "id": "ab1fc072-8083-4698-9981-dea0dc8003d7",
   "metadata": {},
   "outputs": [
    {
     "data": {
      "text/plain": [
       "True"
      ]
     },
     "execution_count": 1,
     "metadata": {},
     "output_type": "execute_result"
    }
   ],
   "source": [
    "a = 12\n",
    "a == 12"
   ]
  },
  {
   "cell_type": "code",
   "execution_count": 2,
   "id": "72e5b999-1596-4203-9f05-3d24a6b8ef92",
   "metadata": {},
   "outputs": [
    {
     "data": {
      "text/plain": [
       "True"
      ]
     },
     "execution_count": 2,
     "metadata": {},
     "output_type": "execute_result"
    }
   ],
   "source": [
    "b = 3\n",
    "b > 1"
   ]
  },
  {
   "cell_type": "code",
   "execution_count": 3,
   "id": "85ed309d-a521-4740-8013-6560b54488fb",
   "metadata": {},
   "outputs": [
    {
     "data": {
      "text/plain": [
       "True"
      ]
     },
     "execution_count": 3,
     "metadata": {},
     "output_type": "execute_result"
    }
   ],
   "source": [
    "b <=3"
   ]
  },
  {
   "cell_type": "code",
   "execution_count": 5,
   "id": "9f3e782b-cb5f-4f88-910d-624e4734eb4c",
   "metadata": {},
   "outputs": [
    {
     "data": {
      "text/plain": [
       "False"
      ]
     },
     "execution_count": 5,
     "metadata": {},
     "output_type": "execute_result"
    }
   ],
   "source": [
    "a < b"
   ]
  },
  {
   "cell_type": "code",
   "execution_count": 6,
   "id": "640f57b9-64cc-48d9-9c53-3206331c82f8",
   "metadata": {},
   "outputs": [
    {
     "data": {
      "text/plain": [
       "True"
      ]
     },
     "execution_count": 6,
     "metadata": {},
     "output_type": "execute_result"
    }
   ],
   "source": [
    "a >= b + 7"
   ]
  },
  {
   "cell_type": "code",
   "execution_count": 7,
   "id": "b0c20138-61ec-4e2f-9ced-c38794607bc2",
   "metadata": {},
   "outputs": [
    {
     "data": {
      "text/plain": [
       "False"
      ]
     },
     "execution_count": 7,
     "metadata": {},
     "output_type": "execute_result"
    }
   ],
   "source": [
    "# Tambien podemos comparar cadenas\n",
    "\"Memo\" == \"Memo & Ilse\""
   ]
  },
  {
   "cell_type": "markdown",
   "id": "32014d13-38c8-4b0c-85c4-8ba31d01dda9",
   "metadata": {},
   "source": [
    "## Para comparar caracteres, se hace en base al codigo ASCII"
   ]
  },
  {
   "cell_type": "markdown",
   "id": "42491dc7-a536-4e35-80bc-c64feff8ddfa",
   "metadata": {},
   "source": [
    "<style type=\"text/css\">\n",
    ".tg  {border-collapse:collapse;border-spacing:0;}\n",
    ".tg td{border-color:black;border-style:solid;border-width:1px;font-family:Arial, sans-serif;font-size:14px;\n",
    "  overflow:hidden;padding:10px 5px;word-break:normal;}\n",
    ".tg th{border-color:black;border-style:solid;border-width:1px;font-family:Arial, sans-serif;font-size:14px;\n",
    "  font-weight:normal;overflow:hidden;padding:10px 5px;word-break:normal;}\n",
    ".tg .tg-baqh{text-align:center;vertical-align:top}\n",
    ".tg .tg-7geq{background-color:#ffffc7;text-align:center;vertical-align:top}\n",
    ".tg .tg-1cln{background-color:#ffcc67;font-size:100%;font-weight:bold;text-align:center;vertical-align:top}\n",
    ".tg .tg-xozw{background-color:#ffcc67;font-weight:bold;text-align:center;vertical-align:top}\n",
    "</style>\n",
    "\n",
    "<table class=\"tg\">\n",
    "<thead>\n",
    "  <tr>\n",
    "    <th class=\"tg-1cln\">Char.</th>\n",
    "    <th class=\"tg-xozw\">ASCII</th>\n",
    "    <th class=\"tg-xozw\">Char.</th>\n",
    "    <th class=\"tg-xozw\">ASCII</th>\n",
    "    <th class=\"tg-xozw\">Char.</th>\n",
    "    <th class=\"tg-xozw\">ASCII</th>\n",
    "    <th class=\"tg-xozw\">Char.</th>\n",
    "    <th class=\"tg-xozw\">ASCII</th>\n",
    "  </tr>\n",
    "</thead>\n",
    "<tbody>\n",
    "  <tr>\n",
    "    <td class=\"tg-7geq\">A</td>\n",
    "    <td class=\"tg-baqh\">65</td>\n",
    "    <td class=\"tg-7geq\">N</td>\n",
    "    <td class=\"tg-baqh\">78</td>\n",
    "    <td class=\"tg-7geq\">a</td>\n",
    "    <td class=\"tg-baqh\">97</td>\n",
    "    <td class=\"tg-7geq\">n</td>\n",
    "    <td class=\"tg-baqh\">110</td>\n",
    "  </tr>\n",
    "  <tr>\n",
    "    <td class=\"tg-7geq\">B</td>\n",
    "    <td class=\"tg-baqh\">66</td>\n",
    "    <td class=\"tg-7geq\">O</td>\n",
    "    <td class=\"tg-baqh\">79</td>\n",
    "    <td class=\"tg-7geq\">b</td>\n",
    "    <td class=\"tg-baqh\">98</td>\n",
    "    <td class=\"tg-7geq\">o</td>\n",
    "    <td class=\"tg-baqh\">111</td>\n",
    "  </tr>\n",
    "  <tr>\n",
    "    <td class=\"tg-7geq\">C</td>\n",
    "    <td class=\"tg-baqh\">67</td>\n",
    "    <td class=\"tg-7geq\">P</td>\n",
    "    <td class=\"tg-baqh\">80</td>\n",
    "    <td class=\"tg-7geq\">c</td>\n",
    "    <td class=\"tg-baqh\">99</td>\n",
    "    <td class=\"tg-7geq\">p</td>\n",
    "    <td class=\"tg-baqh\">112</td>\n",
    "  </tr>\n",
    "  <tr>\n",
    "    <td class=\"tg-7geq\">D</td>\n",
    "    <td class=\"tg-baqh\">68</td>\n",
    "    <td class=\"tg-7geq\">Q</td>\n",
    "    <td class=\"tg-baqh\">81</td>\n",
    "    <td class=\"tg-7geq\">d</td>\n",
    "    <td class=\"tg-baqh\">100</td>\n",
    "    <td class=\"tg-7geq\">q</td>\n",
    "    <td class=\"tg-baqh\">113</td>\n",
    "  </tr>\n",
    "  <tr>\n",
    "    <td class=\"tg-7geq\">E</td>\n",
    "    <td class=\"tg-baqh\">69</td>\n",
    "    <td class=\"tg-7geq\">R</td>\n",
    "    <td class=\"tg-baqh\">82</td>\n",
    "    <td class=\"tg-7geq\">e</td>\n",
    "    <td class=\"tg-baqh\">101</td>\n",
    "    <td class=\"tg-7geq\">r</td>\n",
    "    <td class=\"tg-baqh\">114</td>\n",
    "  </tr>\n",
    "  <tr>\n",
    "    <td class=\"tg-7geq\">F</td>\n",
    "    <td class=\"tg-baqh\">70</td>\n",
    "    <td class=\"tg-7geq\">S</td>\n",
    "    <td class=\"tg-baqh\">83</td>\n",
    "    <td class=\"tg-7geq\">f</td>\n",
    "    <td class=\"tg-baqh\">102</td>\n",
    "    <td class=\"tg-7geq\">s</td>\n",
    "    <td class=\"tg-baqh\">115</td>\n",
    "  </tr>\n",
    "  <tr>\n",
    "    <td class=\"tg-7geq\">G</td>\n",
    "    <td class=\"tg-baqh\">71</td>\n",
    "    <td class=\"tg-7geq\">T</td>\n",
    "    <td class=\"tg-baqh\">84</td>\n",
    "    <td class=\"tg-7geq\">g</td>\n",
    "    <td class=\"tg-baqh\">103</td>\n",
    "    <td class=\"tg-7geq\">t</td>\n",
    "    <td class=\"tg-baqh\">116</td>\n",
    "  </tr>\n",
    "  <tr>\n",
    "    <td class=\"tg-7geq\">H</td>\n",
    "    <td class=\"tg-baqh\">72</td>\n",
    "    <td class=\"tg-7geq\">U</td>\n",
    "    <td class=\"tg-baqh\">85</td>\n",
    "    <td class=\"tg-7geq\">h</td>\n",
    "    <td class=\"tg-baqh\">104</td>\n",
    "    <td class=\"tg-7geq\">u</td>\n",
    "    <td class=\"tg-baqh\">117</td>\n",
    "  </tr>\n",
    "  <tr>\n",
    "    <td class=\"tg-7geq\">I</td>\n",
    "    <td class=\"tg-baqh\">73</td>\n",
    "    <td class=\"tg-7geq\">V</td>\n",
    "    <td class=\"tg-baqh\">86</td>\n",
    "    <td class=\"tg-7geq\">i</td>\n",
    "    <td class=\"tg-baqh\">105</td>\n",
    "    <td class=\"tg-7geq\">v</td>\n",
    "    <td class=\"tg-baqh\">118</td>\n",
    "  </tr>\n",
    "  <tr>\n",
    "    <td class=\"tg-7geq\">J</td>\n",
    "    <td class=\"tg-baqh\">74</td>\n",
    "    <td class=\"tg-7geq\">W</td>\n",
    "    <td class=\"tg-baqh\">87</td>\n",
    "    <td class=\"tg-7geq\">j</td>\n",
    "    <td class=\"tg-baqh\">106</td>\n",
    "    <td class=\"tg-7geq\">w</td>\n",
    "    <td class=\"tg-baqh\">119</td>\n",
    "  </tr>\n",
    "  <tr>\n",
    "    <td class=\"tg-7geq\">K</td>\n",
    "    <td class=\"tg-baqh\">75</td>\n",
    "    <td class=\"tg-7geq\">X</td>\n",
    "    <td class=\"tg-baqh\">88</td>\n",
    "    <td class=\"tg-7geq\">k</td>\n",
    "    <td class=\"tg-baqh\">107</td>\n",
    "    <td class=\"tg-7geq\">x</td>\n",
    "    <td class=\"tg-baqh\">120</td>\n",
    "  </tr>\n",
    "  <tr>\n",
    "    <td class=\"tg-7geq\">L</td>\n",
    "    <td class=\"tg-baqh\">76</td>\n",
    "    <td class=\"tg-7geq\">Y</td>\n",
    "    <td class=\"tg-baqh\">89</td>\n",
    "    <td class=\"tg-7geq\">l</td>\n",
    "    <td class=\"tg-baqh\">108</td>\n",
    "    <td class=\"tg-7geq\">y</td>\n",
    "    <td class=\"tg-baqh\">121</td>\n",
    "  </tr>\n",
    "  <tr>\n",
    "    <td class=\"tg-7geq\">M</td>\n",
    "    <td class=\"tg-baqh\">77</td>\n",
    "    <td class=\"tg-7geq\">Z</td>\n",
    "    <td class=\"tg-baqh\">90</td>\n",
    "    <td class=\"tg-7geq\">m</td>\n",
    "    <td class=\"tg-baqh\">109</td>\n",
    "    <td class=\"tg-7geq\">z</td>\n",
    "    <td class=\"tg-baqh\">122</td>\n",
    "  </tr>\n",
    "</tbody>\n",
    "</table>\n"
   ]
  },
  {
   "cell_type": "code",
   "execution_count": 9,
   "id": "2315a780-cbe8-4dc6-b452-a63914580815",
   "metadata": {},
   "outputs": [
    {
     "data": {
      "text/plain": [
       "True"
      ]
     },
     "execution_count": 9,
     "metadata": {},
     "output_type": "execute_result"
    }
   ],
   "source": [
    "'M' > 'L'"
   ]
  },
  {
   "cell_type": "code",
   "execution_count": 11,
   "id": "dfcd43ee-cc0a-4796-b1f6-d28f4eac887e",
   "metadata": {},
   "outputs": [
    {
     "data": {
      "text/plain": [
       "True"
      ]
     },
     "execution_count": 11,
     "metadata": {},
     "output_type": "execute_result"
    }
   ],
   "source": [
    "# Cuando hay mas de 1 caracter, el primero toma precedencia en el orden\n",
    "'za' > 'Za'"
   ]
  },
  {
   "cell_type": "markdown",
   "id": "b0fc5f5a-1912-4a10-ba91-da3d7234d61f",
   "metadata": {},
   "source": [
    "## BRANCHING\n",
    "\n",
    "Nos permite ejecutar diferentes lineas de codigos para entradas diferentes."
   ]
  },
  {
   "cell_type": "code",
   "execution_count": 13,
   "id": "57b10abd-58d0-4894-b836-9ec2d51db12e",
   "metadata": {},
   "outputs": [
    {
     "name": "stdout",
     "output_type": "stream",
     "text": [
      "Ve a ver otra Pelicula\n",
      "Continuando...\n"
     ]
    }
   ],
   "source": [
    "edad = 18\n",
    "# edad = 19\n",
    "\n",
    "if edad > 18:\n",
    "    print(\"Puedes pasar\")\n",
    "else:\n",
    "    print (\"Ve a ver otra Pelicula\")\n",
    "print(\"Continuando...\")"
   ]
  },
  {
   "cell_type": "code",
   "execution_count": 14,
   "id": "b47a5e45-d500-4ab8-978a-93485af0168f",
   "metadata": {},
   "outputs": [
    {
     "name": "stdout",
     "output_type": "stream",
     "text": [
      "Ve a ver Casa de Dragon\n",
      "Continuando...\n"
     ]
    }
   ],
   "source": [
    "edad = 18\n",
    "# edad = 19\n",
    "\n",
    "if edad > 18:\n",
    "    print(\"Puedes ver Series\")\n",
    "elif edad == 18:\n",
    "    print(\"Ve a ver Casa de Dragon\")\n",
    "else:\n",
    "    print (\"Ve a ver otra Serie\")\n",
    "print(\"Continuando...\")"
   ]
  },
  {
   "cell_type": "markdown",
   "id": "fa5c9726-1341-4b51-8ed3-7682761e8e97",
   "metadata": {},
   "source": [
    "## Operadores Logicos"
   ]
  },
  {
   "cell_type": "markdown",
   "id": "94cda030-ddbc-4f31-a947-f0b577f5fa4c",
   "metadata": {},
   "source": [
    "<img src=\"https://cf-courses-data.s3.us.cloud-object-storage.appdomain.cloud/IBMDeveloperSkillsNetwork-PY0101EN-SkillsNetwork/labs/Module%203/images/CondsTable.png\" width=\"650\" />"
   ]
  },
  {
   "cell_type": "code",
   "execution_count": 17,
   "id": "3c4ea3a5-4622-4d10-aafe-7eb2e78e2cc5",
   "metadata": {},
   "outputs": [
    {
     "name": "stdout",
     "output_type": "stream",
     "text": [
      "Eres Millenial\n",
      "Continua...\n"
     ]
    }
   ],
   "source": [
    "AnioDeNac = 1990\n",
    "\n",
    "if(AnioDeNac > 1980) and (AnioDeNac < 2000):\n",
    "    print(\"Eres Millenial\")\n",
    "print(\"Continua...\")"
   ]
  },
  {
   "cell_type": "markdown",
   "id": "7868fc0f-2242-4175-8488-e78ca029efab",
   "metadata": {},
   "source": [
    "# CICLOS\n",
    "\n",
    "Sirven para repetir un numero determinado o no de veces una accion. Si queremos evitar un ciclo, se debe de incluir una condicion de salida"
   ]
  },
  {
   "cell_type": "markdown",
   "id": "48523c8b-5b98-4008-9447-58ca7336f919",
   "metadata": {},
   "source": [
    "## Tipos de Ciclos:\n",
    "* For\n",
    "* While"
   ]
  },
  {
   "cell_type": "markdown",
   "id": "d555116f-01f3-4273-a0ec-402519e58ee3",
   "metadata": {},
   "source": [
    "## Range\n",
    "Es un metodo/objeto que nos ayuda a generar algo similar a una lista ordenada. Su valor de inicio es 0"
   ]
  },
  {
   "cell_type": "code",
   "execution_count": 18,
   "id": "699e3645-2708-418a-b943-1aab0835689e",
   "metadata": {},
   "outputs": [
    {
     "data": {
      "text/plain": [
       "range(0, 3)"
      ]
     },
     "execution_count": 18,
     "metadata": {},
     "output_type": "execute_result"
    }
   ],
   "source": [
    "range(3)"
   ]
  },
  {
   "cell_type": "code",
   "execution_count": 19,
   "id": "58be3d12-fb56-434e-bb88-339c545a3e7f",
   "metadata": {},
   "outputs": [
    {
     "name": "stdout",
     "output_type": "stream",
     "text": [
      "Sissi\n",
      "Daisy\n",
      "Chispa\n"
     ]
    }
   ],
   "source": [
    "misMascotas = [\"Sissi\", \"Daisy\", \"Chispa\"]\n",
    "for i in range(len(misMascotas)):\n",
    "    print(misMascotas[i])"
   ]
  },
  {
   "cell_type": "code",
   "execution_count": 20,
   "id": "d08cdcc5-b966-4a0f-8285-e54001cfe495",
   "metadata": {},
   "outputs": [
    {
     "name": "stdout",
     "output_type": "stream",
     "text": [
      "Sissi\n",
      "Daisy\n",
      "Chispa\n"
     ]
    }
   ],
   "source": [
    "# Podemos accesar directamente a los elementos de la lista, sin usar range\n",
    "for mascota in misMascotas:\n",
    "    print(mascota)"
   ]
  },
  {
   "cell_type": "code",
   "execution_count": 21,
   "id": "55fde8e0-fb7a-4e4e-a1fa-e4da4cf482dc",
   "metadata": {},
   "outputs": [
    {
     "name": "stdout",
     "output_type": "stream",
     "text": [
      "0 Sissi\n",
      "1 Daisy\n",
      "2 Chispa\n"
     ]
    }
   ],
   "source": [
    "# Podemo iterar por el indice y el valor del elemento\n",
    "for i, mascota in enumerate(misMascotas):\n",
    "    print(i, mascota)"
   ]
  },
  {
   "cell_type": "markdown",
   "id": "e307388c-2eba-4022-9f6c-ebc32f7d8e96",
   "metadata": {},
   "source": [
    "## DIFERENCIA ENTRE WHILE Y FOR"
   ]
  },
  {
   "cell_type": "markdown",
   "id": "7c130624-16c8-40a9-97d4-791bfb2c76ba",
   "metadata": {},
   "source": [
    "El ciclo *FOR* se usa para un flujo controlado de repeticion. Pero existen ocaciones en que queremos ejecutar una accion hasta que cierta condicion se cumpla.  "
   ]
  },
  {
   "cell_type": "code",
   "execution_count": 23,
   "id": "e7e048bf-530a-4cbb-84c0-1988bf7bec22",
   "metadata": {},
   "outputs": [
    {
     "name": "stdout",
     "output_type": "stream",
     "text": [
      "Sissi No es  Ronnie\n",
      "Daisy No es  Ronnie\n",
      "Chispa No es  Ronnie\n",
      "Tarde:  3 repeticiones para salir del Ciclo\n"
     ]
    }
   ],
   "source": [
    "mascotas = ['Sissi', 'Daisy', 'Chispa', 'Ronnie', 'Kitty']\n",
    "i = 0\n",
    "mascota = mascotas[i]\n",
    "\n",
    "while(mascota!='Ronnie'):\n",
    "    print(mascota, \"No es \", 'Ronnie')\n",
    "    i = i + 1\n",
    "    mascota = mascotas[i]\n",
    "    \n",
    "print(\"Tarde: \",i , \"repeticiones para salir del Ciclo\")"
   ]
  },
  {
   "cell_type": "markdown",
   "id": "74543c74-f4cb-4797-8e2b-17f11901c574",
   "metadata": {},
   "source": [
    "# FUNCIONES\n",
    "\n",
    "Son un bloque de codigo que se puede reutilizar cuando es llamado"
   ]
  },
  {
   "cell_type": "code",
   "execution_count": 28,
   "id": "4d945086-e62a-4541-b0ed-ab87cd58077e",
   "metadata": {},
   "outputs": [
    {
     "name": "stdout",
     "output_type": "stream",
     "text": [
      "Help on function hello in module __main__:\n",
      "\n",
      "hello()\n",
      "    Prints Hello\n",
      "\n"
     ]
    }
   ],
   "source": [
    "# Podemos agregar texto de ayuda a usar \"\"\"\n",
    "def hello():\n",
    "    \"\"\"\n",
    "    Prints Hello\n",
    "    \"\"\"\n",
    "    print(\"Hello\")\n",
    "    \n",
    "help(hello)"
   ]
  },
  {
   "cell_type": "code",
   "execution_count": 29,
   "id": "41e12527-35e0-4372-9ef7-077609fe4324",
   "metadata": {},
   "outputs": [
    {
     "name": "stdout",
     "output_type": "stream",
     "text": [
      "Hello\n"
     ]
    }
   ],
   "source": [
    "hello()"
   ]
  },
  {
   "cell_type": "code",
   "execution_count": 31,
   "id": "825b4217-3cea-4659-b40c-4ab6c1868696",
   "metadata": {},
   "outputs": [
    {
     "data": {
      "text/plain": [
       "'Memo Memo '"
      ]
     },
     "execution_count": 31,
     "metadata": {},
     "output_type": "execute_result"
    }
   ],
   "source": [
    "# * se usa para repetir cadenas\n",
    "def Mult(a, b):\n",
    "    c = a * b\n",
    "    return(c)\n",
    "    print('This is not printed')\n",
    "\n",
    "Mult(2, \"Memo \")"
   ]
  },
  {
   "cell_type": "markdown",
   "id": "fce6652d-f6a3-41e8-a01f-8cc426448e23",
   "metadata": {},
   "source": [
    "## FUNCIONES PREDEFINIDAS\n",
    "Son funciones ya integradas en python. Entre ellas:\n",
    "* sum() :  Suma cada elemento de una lista\n",
    "* len() : Nos regresa la longitud de la lista"
   ]
  },
  {
   "cell_type": "code",
   "execution_count": 33,
   "id": "2356d98d-c717-46be-b0d0-7ac164c4fe05",
   "metadata": {},
   "outputs": [
    {
     "name": "stdout",
     "output_type": "stream",
     "text": [
      "La croqueta es:  Pedigree\n",
      "La croqueta es:  Dog Chow\n"
     ]
    }
   ],
   "source": [
    "# Podemos definir argumentos por default\n",
    "def queCroqueta(croqueta='Pedigree'):\n",
    "    print(\"La croqueta es: \", croqueta)\n",
    "\n",
    "queCroqueta()\n",
    "queCroqueta('Dog Chow')"
   ]
  },
  {
   "cell_type": "code",
   "execution_count": 35,
   "id": "f79d4ade-08d9-4227-a653-deb77791d4b4",
   "metadata": {},
   "outputs": [
    {
     "name": "stdout",
     "output_type": "stream",
     "text": [
      "Sissi Es mi mascota Favorita\n",
      "Moru Es mi mascota Favorita\n"
     ]
    }
   ],
   "source": [
    "# Podemos definir variables globales que se pueden usar dentro de funciones.\n",
    "\n",
    "mascotaFavorita = 'Sissi'\n",
    "\n",
    "def printMascotaFav(mascotaFavorita):\n",
    "    global internal_var\n",
    "    internal_var = 'Moru'\n",
    "    print(mascotaFavorita, \"Es mi mascota Favorita\")\n",
    "    \n",
    "printMascotaFav(mascotaFavorita)\n",
    "printMascotaFav(internal_var)\n",
    "    "
   ]
  },
  {
   "cell_type": "code",
   "execution_count": 27,
   "id": "ab3a1251-db15-4b51-8a5a-a026c8e22659",
   "metadata": {},
   "outputs": [
    {
     "data": {
      "text/plain": [
       "18"
      ]
     },
     "execution_count": 27,
     "metadata": {},
     "output_type": "execute_result"
    }
   ],
   "source": [
    "# Collecting Arguments: Podemos mandar n cantidad de parametros\n",
    "def f(*x):\n",
    "    return sum(x)\n",
    "\n",
    "f(5,6,7)"
   ]
  },
  {
   "cell_type": "code",
   "execution_count": 37,
   "id": "d0586aa6-483f-4a0e-a85d-4417b8e89c7c",
   "metadata": {},
   "outputs": [
    {
     "name": "stdout",
     "output_type": "stream",
     "text": [
      "Name : Memo\n",
      "LName : Muniz\n",
      "Age : 31\n"
     ]
    }
   ],
   "source": [
    "# LOS ARGUMENTOS TAMBIEN SE PUEDEN PASAR COMO UN DICCIONARIO CON **\n",
    "def adict(**args):\n",
    "    for key in args:\n",
    "        print(key + \" : \" + args[key])\n",
    "\n",
    "adict(Name='Memo', LName='Muniz', Age='31')"
   ]
  },
  {
   "cell_type": "markdown",
   "id": "afa94964-5f0d-45e2-a1da-199d56869d6e",
   "metadata": {},
   "source": [
    "# OBJETOS Y CLASES"
   ]
  },
  {
   "cell_type": "markdown",
   "id": "17df825c-36bd-4295-a4ba-b9b6b0007bc7",
   "metadata": {},
   "source": [
    "Una clase es una definicion en memoria en python con attributos y metodos propios que lo definen. \n",
    "Un Objeto es una instancia de esa clase, un miembro creado con los atributos de dicha clase."
   ]
  },
  {
   "cell_type": "code",
   "execution_count": 41,
   "id": "956e0f85-8ee2-474d-b1fc-e093d6c3d672",
   "metadata": {},
   "outputs": [],
   "source": [
    "# El termino self contiene todos los atributos de una clase instanciada.\n",
    "class Car(object):\n",
    "    def __init__(self,make,model,color):\n",
    "        self.make=make;\n",
    "        self.model=model;\n",
    "        self.color=color;\n",
    "        self.owner_number=0 \n",
    "    def car_info(self):\n",
    "        print(\"make: \",self.make)\n",
    "        print(\"model:\", self.model)\n",
    "        print(\"color:\",self.color)\n",
    "        print(\"number of owners:\",self.owner_number)\n",
    "    def sell(self):\n",
    "        self.owner_number=self.owner_number+1"
   ]
  },
  {
   "cell_type": "code",
   "execution_count": 39,
   "id": "348936d8-6fc5-40fb-bcdf-a916bbda1499",
   "metadata": {},
   "outputs": [
    {
     "name": "stdout",
     "output_type": "stream",
     "text": [
      "make:  Honda\n",
      "model: Accord\n",
      "color: blue\n",
      "number of owners: 0\n",
      "make:  Honda\n",
      "model: Accord\n",
      "color: blue\n",
      "number of owners: 0\n",
      "make:  Honda\n",
      "model: Accord\n",
      "color: blue\n",
      "number of owners: 0\n",
      "make:  Accord\n",
      "model: Honda\n",
      "color: blue\n",
      "number of owners: 0\n"
     ]
    }
   ],
   "source": [
    "car1 = Car(make=\"Honda\",model=\"Accord\",color=\"blue\")\n",
    "car2 = Car(\"Honda\",\"Accord\",\"blue\")\n",
    "car3 = Car(model=\"Accord\",make=\"Honda\",color=\"blue\")\n",
    "car4 = Car(\"Accord\",\"Honda\",\"blue\")\n",
    "\n",
    "car1.car_info()\n",
    "car2.car_info()\n",
    "car3.car_info()\n",
    "car4.car_info()"
   ]
  },
  {
   "cell_type": "code",
   "execution_count": 44,
   "id": "c0e730b3-b5b2-4683-baa9-1577875414c4",
   "metadata": {},
   "outputs": [],
   "source": [
    "class analysedText(object):\n",
    "    \n",
    "    def __init__ (self, text):\n",
    "        tempText = text.replace('.','').replace('!','').replace('?','').replace(',','')\n",
    "        tempText = tempText.lower()\n",
    "        self.fmtText = tempText \n",
    "    \n",
    "    def freqAll(self):    \n",
    "\n",
    "        freqList = self.fmtText.split(' ')\n",
    "        freqdict = {}\n",
    "        for word in set(freqList):\n",
    "            freqdict[word] = freqList.count(word)\n",
    "        \n",
    "        return freqdict\n",
    "\n",
    "    def freqOf(self, word):\n",
    "        ocurrDict = self.freqAll()\n",
    "        if word in ocurrDict:\n",
    "            return ocurrDict[word]\n",
    "        else:\n",
    "            return 0\n",
    "        "
   ]
  },
  {
   "cell_type": "code",
   "execution_count": 45,
   "id": "ad3a4b74-3b1d-4bdb-8e96-6d39ebaefc8e",
   "metadata": {},
   "outputs": [
    {
     "name": "stdout",
     "output_type": "stream",
     "text": [
      "Constructor: \n",
      "Test Passed\n",
      "freqAll: \n",
      "Test Passed\n",
      "freqOf: \n",
      "Test Passed\n"
     ]
    }
   ],
   "source": [
    "import sys\n",
    "\n",
    "sampleMap = {'eirmod': 1,'sed': 1, 'amet': 2, 'diam': 5, 'consetetur': 1, 'labore': 1, 'tempor': 1, 'dolor': 1, 'magna': 2, 'et': 3, 'nonumy': 1, 'ipsum': 1, 'lorem': 2}\n",
    "\n",
    "def testMsg(passed):\n",
    "    if passed:\n",
    "       return 'Test Passed'\n",
    "    else :\n",
    "       return 'Test Failed'\n",
    "\n",
    "print(\"Constructor: \")\n",
    "try:\n",
    "    samplePassage = analysedText(\"Lorem ipsum dolor! diam amet, consetetur Lorem magna. sed diam nonumy eirmod tempor. diam et labore? et diam magna. et diam amet.\")\n",
    "    print(testMsg(samplePassage.fmtText == \"lorem ipsum dolor diam amet consetetur lorem magna sed diam nonumy eirmod tempor diam et labore et diam magna et diam amet\"))\n",
    "except:\n",
    "    print(\"Error detected. Recheck your function \" )\n",
    "print(\"freqAll: \")\n",
    "try:\n",
    "    wordMap = samplePassage.freqAll()\n",
    "    print(testMsg(wordMap==sampleMap))\n",
    "except:\n",
    "    print(\"Error detected. Recheck your function \" )\n",
    "print(\"freqOf: \")\n",
    "try:\n",
    "    passed = True\n",
    "    for word in sampleMap:\n",
    "        if samplePassage.freqOf(word) != sampleMap[word]:\n",
    "            passed = False\n",
    "            break\n",
    "    print(testMsg(passed))\n",
    "    \n",
    "except:\n",
    "    print(\"Error detected. Recheck your function  \" )"
   ]
  },
  {
   "cell_type": "markdown",
   "id": "57f96b8b-e729-4e42-9be3-59263c8be425",
   "metadata": {},
   "source": [
    "# MANEJO DE EXCEPCIONES\n",
    "Una excepcion es un error que ocurre durante la ejecucion de codigo. Esto causa una excepcion que si no se prepara para manejarla, detendra la ejecucion del codigo"
   ]
  },
  {
   "cell_type": "code",
   "execution_count": 46,
   "id": "5a457bb3-c899-44a4-8a3c-bcb42353f874",
   "metadata": {},
   "outputs": [
    {
     "name": "stdin",
     "output_type": "stream",
     "text": [
      "Please enter a number to divide a:  0\n"
     ]
    },
    {
     "name": "stdout",
     "output_type": "stream",
     "text": [
      "There was an error\n"
     ]
    }
   ],
   "source": [
    "# Para manejar excepciones podemos usar try Except\n",
    "a = 1\n",
    "try: \n",
    "    b = int(input(\"Please enter a number to divide a: \"))\n",
    "    a = a/b\n",
    "    print(\"Success a= \", a)\n",
    "except:\n",
    "    print(\"There was an error\")"
   ]
  },
  {
   "cell_type": "code",
   "execution_count": 47,
   "id": "61dfe8ef-fbe5-46e5-8cd9-7ab033583271",
   "metadata": {},
   "outputs": [
    {
     "name": "stdin",
     "output_type": "stream",
     "text": [
      "Introduce un numero para dividir entre a \n"
     ]
    },
    {
     "name": "stdout",
     "output_type": "stream",
     "text": [
      "No introdujiste un numero\n"
     ]
    }
   ],
   "source": [
    "# Podemos especificar errores para cada excepcion conocida\n",
    "a = 1\n",
    "\n",
    "try:\n",
    "    b = int(input(\"Introduce un numero para dividir entre a\"))\n",
    "    a = a/b\n",
    "    print(\"Success a=\",a)\n",
    "except ZeroDivisionError:\n",
    "    print(\"El numero que introdujiste es cero y no se puede dividir\")\n",
    "except ValueError:\n",
    "    print(\"No introdujiste un numero\")\n",
    "except:\n",
    "    print(\"Algo estuvo mal\")\n",
    "        "
   ]
  },
  {
   "cell_type": "code",
   "execution_count": 49,
   "id": "eab79e36-fd42-481d-8f0f-4a46d1c2a6f4",
   "metadata": {},
   "outputs": [
    {
     "name": "stdin",
     "output_type": "stream",
     "text": [
      "Introduce un numero para dividir entre a 6\n"
     ]
    },
    {
     "name": "stdout",
     "output_type": "stream",
     "text": [
      "success a=  0.16666666666666666\n",
      "Proceso completado\n"
     ]
    }
   ],
   "source": [
    "# Podemos especificar una accion final con finally\n",
    "a = 1\n",
    "\n",
    "try:\n",
    "    b = int(input(\"Introduce un numero para dividir entre a\"))\n",
    "    a = a/b\n",
    "except ZeroDivisionError:\n",
    "    print(\"El numero que introdujiste es cero y no se puede dividir\")\n",
    "except ValueError:\n",
    "    print(\"No introdujiste un numero\")\n",
    "except:\n",
    "    print(\"Algo estuvo mal\")\n",
    "else:\n",
    "    print(\"success a= \", a)\n",
    "finally:\n",
    "    print(\"Proceso completado\")"
   ]
  },
  {
   "cell_type": "markdown",
   "id": "bcf5d3b3-e1ae-40dc-b1b0-b16685558b8e",
   "metadata": {},
   "source": [
    "# EXAMEN DE MODULO"
   ]
  },
  {
   "cell_type": "code",
   "execution_count": 51,
   "id": "6fc0ad98-d448-4cb5-8f2e-1319fae71e2d",
   "metadata": {},
   "outputs": [
    {
     "name": "stdout",
     "output_type": "stream",
     "text": [
      "Hi\n",
      "Mike\n"
     ]
    }
   ],
   "source": [
    "x=1\n",
    "\n",
    "if(x!=1):\n",
    "    print('Hello')\n",
    "else:\n",
    "    print('Hi')\n",
    "print('Mike')"
   ]
  },
  {
   "cell_type": "code",
   "execution_count": 52,
   "id": "996d3145-a542-446e-8548-1ed859d299be",
   "metadata": {},
   "outputs": [
    {
     "name": "stdout",
     "output_type": "stream",
     "text": [
      "11\n",
      "22\n",
      "33\n"
     ]
    }
   ],
   "source": [
    "A = ['1','2','3']\n",
    "\n",
    "for a in A:\n",
    "    print(2*a)"
   ]
  },
  {
   "cell_type": "code",
   "execution_count": 53,
   "id": "728cd516-9b22-45d4-9048-f3b7e4db009c",
   "metadata": {},
   "outputs": [
    {
     "data": {
      "text/plain": [
       "1"
      ]
     },
     "execution_count": 53,
     "metadata": {},
     "output_type": "execute_result"
    }
   ],
   "source": [
    "def Delta(x):\n",
    "    if x==0:\n",
    "        y=1;\n",
    "    else:\n",
    "        y=0;\n",
    "    return(y)\n",
    "\n",
    "Delta(0)"
   ]
  },
  {
   "cell_type": "code",
   "execution_count": 55,
   "id": "00cf589f-7cf7-426e-b584-ec108e2b9d5c",
   "metadata": {},
   "outputs": [
    {
     "data": {
      "text/plain": [
       "[1, 2, 3, 4, 5, 7, 8, 10]"
      ]
     },
     "execution_count": 55,
     "metadata": {},
     "output_type": "execute_result"
    }
   ],
   "source": [
    "l = [4, 5, 1, 3, 2, 10, 8, 7]\n",
    "l.sort() # Solo hace sort a la lista, sin regresar una nueva.\n",
    "l"
   ]
  },
  {
   "cell_type": "code",
   "execution_count": 57,
   "id": "bf1ade7a-6f65-4274-af80-2e18151c0a4e",
   "metadata": {},
   "outputs": [
    {
     "data": {
      "text/plain": [
       "[1, 2, 3, 4, 5, 7, 8, 10]"
      ]
     },
     "execution_count": 57,
     "metadata": {},
     "output_type": "execute_result"
    }
   ],
   "source": [
    "l = [4, 5, 1, 3, 2, 10, 8, 7]\n",
    "sorted(l) # Regresa una nueva lista sorteada."
   ]
  },
  {
   "cell_type": "code",
   "execution_count": 58,
   "id": "948f68b0-9914-4a76-99c3-16749e201ce8",
   "metadata": {},
   "outputs": [
    {
     "data": {
      "text/plain": [
       "[4, 5, 1, 3, 2, 10, 8, 7]"
      ]
     },
     "execution_count": 58,
     "metadata": {},
     "output_type": "execute_result"
    }
   ],
   "source": [
    "l"
   ]
  },
  {
   "cell_type": "code",
   "execution_count": null,
   "id": "b4f07ef1-77c1-4bae-9e84-661d1e544fa5",
   "metadata": {},
   "outputs": [],
   "source": []
  }
 ],
 "metadata": {
  "kernelspec": {
   "display_name": "Python 3 (ipykernel)",
   "language": "python",
   "name": "python3"
  },
  "language_info": {
   "codemirror_mode": {
    "name": "ipython",
    "version": 3
   },
   "file_extension": ".py",
   "mimetype": "text/x-python",
   "name": "python",
   "nbconvert_exporter": "python",
   "pygments_lexer": "ipython3",
   "version": "3.8.5"
  }
 },
 "nbformat": 4,
 "nbformat_minor": 5
}
