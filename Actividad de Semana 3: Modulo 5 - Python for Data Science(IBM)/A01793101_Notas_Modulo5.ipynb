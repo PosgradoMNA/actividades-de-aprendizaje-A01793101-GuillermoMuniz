{
 "cells": [
  {
   "cell_type": "markdown",
   "id": "744ead83-374b-426e-8ecd-68cac3d32fa3",
   "metadata": {},
   "source": [
    "# MODULO 5: Trabajando con Numpy Arrays y APIs simples\n",
    "### Autor: Guillermo Alfonso Muñiz Hermosillo\n",
    "### Matricula: A01793101\n",
    "### Curso: Ciencia y Analitica de Datos\n",
    "<h1><center>PROGRESO DEL CURSO:</center></h1>\n",
    "<img src='A01793101_ProgresoModulo5.png'></src>"
   ]
  },
  {
   "cell_type": "markdown",
   "id": "9c5ff07e-c289-4b86-9041-2c23c7958011",
   "metadata": {},
   "source": [
    "## Arreglos de 1 Dimension en Numpy\n",
    "- Numpy es una libreria para computacion cientifica. Tiene muchas funciones utiles y nos permite un mejor rendimiendo de memoria y velocidad. \n",
    "- Numpy es la base para pandas."
   ]
  },
  {
   "cell_type": "markdown",
   "id": "0a044e79-2eab-4a9e-a78d-b6a4ed125ec8",
   "metadata": {},
   "source": [
    "### Creació De Arreglos de NUMPY\n",
    "Un arreglo/lista de numpy es similar a una lista de python, normalmente tiene un tamaño determinado y cada elemento es del mismo tipo."
   ]
  },
  {
   "cell_type": "code",
   "execution_count": 1,
   "id": "8b05edfe-a25e-413b-b286-471302120287",
   "metadata": {},
   "outputs": [],
   "source": [
    "import numpy as np"
   ]
  },
  {
   "cell_type": "code",
   "execution_count": 4,
   "id": "3a006be0-b155-4337-b839-8d849ae77a60",
   "metadata": {},
   "outputs": [
    {
     "data": {
      "text/plain": [
       "array([ 12,  15,  25,  37, 100])"
      ]
     },
     "execution_count": 4,
     "metadata": {},
     "output_type": "execute_result"
    }
   ],
   "source": [
    "mynp = np.array([12, 15, 25, 37, 100])\n",
    "mynp"
   ]
  },
  {
   "cell_type": "code",
   "execution_count": 6,
   "id": "85bf4a8f-3c48-46a0-aedc-f3e0ecd90598",
   "metadata": {},
   "outputs": [
    {
     "data": {
      "text/plain": [
       "numpy.ndarray"
      ]
     },
     "execution_count": 6,
     "metadata": {},
     "output_type": "execute_result"
    }
   ],
   "source": [
    "type(mynp) # El tipo del array es Numpy Array"
   ]
  },
  {
   "cell_type": "code",
   "execution_count": 7,
   "id": "b21d75cf-c916-4c30-ba12-c3575b98d9a3",
   "metadata": {},
   "outputs": [
    {
     "data": {
      "text/plain": [
       "dtype('int64')"
      ]
     },
     "execution_count": 7,
     "metadata": {},
     "output_type": "execute_result"
    }
   ],
   "source": [
    "mynp.dtype # Podemos obtener el tipo de dato de los elementos del numpy array con el metodo \"DTYPE\""
   ]
  },
  {
   "cell_type": "code",
   "execution_count": 8,
   "id": "53d49d7a-701f-4eb0-9915-6dcc8fa0782b",
   "metadata": {},
   "outputs": [
    {
     "data": {
      "text/plain": [
       "5"
      ]
     },
     "execution_count": 8,
     "metadata": {},
     "output_type": "execute_result"
    }
   ],
   "source": [
    "mynp.size #Podemos obtener el tamaño con el metodo Size"
   ]
  },
  {
   "cell_type": "code",
   "execution_count": 9,
   "id": "8cccdd78-706a-4da3-991f-96b3fb392cfe",
   "metadata": {},
   "outputs": [
    {
     "data": {
      "text/plain": [
       "1"
      ]
     },
     "execution_count": 9,
     "metadata": {},
     "output_type": "execute_result"
    }
   ],
   "source": [
    "mynp.ndim # Representa el numero de dimensiones del arreglo"
   ]
  },
  {
   "cell_type": "code",
   "execution_count": 10,
   "id": "6d9b9a96-6e31-4ce9-a860-957ad6508982",
   "metadata": {},
   "outputs": [
    {
     "data": {
      "text/plain": [
       "(5,)"
      ]
     },
     "execution_count": 10,
     "metadata": {},
     "output_type": "execute_result"
    }
   ],
   "source": [
    "mynp.shape # Es una tupla de enteros que indica el tamaño del arreglo en cada dimension"
   ]
  },
  {
   "cell_type": "markdown",
   "id": "6f053bff-4c4e-4f90-984b-cb89491e92f5",
   "metadata": {},
   "source": [
    "## INDEXING Y SLICING"
   ]
  },
  {
   "cell_type": "code",
   "execution_count": 13,
   "id": "2040ade8-a301-4a61-a720-c2e03de3c27e",
   "metadata": {},
   "outputs": [
    {
     "data": {
      "text/plain": [
       "array([ 13,  15,  25,  37, 100])"
      ]
     },
     "execution_count": 13,
     "metadata": {},
     "output_type": "execute_result"
    }
   ],
   "source": [
    "mynp[0] = 13 # Podemos cambiar un elemento accediendo directamente mediante el indice que indica la posicion del elemento.\n",
    "mynp"
   ]
  },
  {
   "cell_type": "code",
   "execution_count": 15,
   "id": "a36c7cca-811f-4531-8300-0ba151a9716b",
   "metadata": {},
   "outputs": [
    {
     "data": {
      "text/plain": [
       "array([ 13,  25, 100])"
      ]
     },
     "execution_count": 15,
     "metadata": {},
     "output_type": "execute_result"
    }
   ],
   "source": [
    "# Slicing funciona similar que en listas. Seleccionamos el indice donde empieza la seleccion, el segundo index indica el fin de la seleccion + 1\n",
    "# El ultimo indica el numero de saltos\n",
    "mynp2 = mynp[0:5:2] \n",
    "mynp2"
   ]
  },
  {
   "cell_type": "markdown",
   "id": "17261ac4-f68d-4706-86bf-7ec4c834a655",
   "metadata": {},
   "source": [
    "## OPERACIONES BASICAS USANDO NUMPY\n",
    "Numpy facilita la realizacion de operaciones llamadas basicas. Haciendo que estas sean ejecutadas de manera rapida y requiriendo menos espacio en memoria"
   ]
  },
  {
   "cell_type": "markdown",
   "id": "916fcf74-a0ec-45f5-986f-4c4cd7afb3ad",
   "metadata": {},
   "source": [
    "\n",
    "<h1><center>SUMA Y RESTA DE VECTORES</center></h1>\n",
    "Son operaciones matematicas muy utilizados en la ciencia de datos. \n"
   ]
  },
  {
   "cell_type": "markdown",
   "id": "77f92468-c7e0-44b1-80c5-f2b912720fe7",
   "metadata": {},
   "source": [
    "### SUMA DE VECTORES\n",
    "\n",
    "Para realizar la suma de vectores consideramos los vectores u y v, cada uno de 2 elementos.\n",
    " - Creamos un nuevo vector, llamado z.\n",
    " - El primer componente es la suma del primer componente de los vectores u y v.\n",
    " - El segundo componente es la suma del segundo componente de los vectores u y v.\n",
    "<img src='SumaDeVectores.png'></src>"
   ]
  },
  {
   "cell_type": "code",
   "execution_count": 16,
   "id": "ca6eba9a-bad5-483b-a121-0ec2fbd35442",
   "metadata": {},
   "outputs": [
    {
     "data": {
      "text/plain": [
       "[1, 1]"
      ]
     },
     "execution_count": 16,
     "metadata": {},
     "output_type": "execute_result"
    }
   ],
   "source": [
    "# Definimos 2 vectores u y v\n",
    "u = [1, 0]\n",
    "v = [0, 1]\n",
    "\n",
    "# Definimos el vector de suma z\n",
    "z = []\n",
    "\n",
    "# En python para realizar la suma de los vectores utilizamos el siguiente codigo\n",
    "\n",
    "for i, j in zip(u, v): # Por cada elemento de los vectores, creamos un arreglo de tuplas mediante el metodo zip [(u0, v0), (u1,v1)]\n",
    "    z.append(i + j) # A Z agregamos el resultado de la suma de cada tupla [ (u0 + v0) , (u1 + v1) ]\n",
    "\n",
    "z"
   ]
  },
  {
   "cell_type": "code",
   "execution_count": 17,
   "id": "893f1a15-708e-4233-9b1e-15e5ba0bc0a1",
   "metadata": {},
   "outputs": [
    {
     "data": {
      "text/plain": [
       "array([1, 1])"
      ]
     },
     "execution_count": 17,
     "metadata": {},
     "output_type": "execute_result"
    }
   ],
   "source": [
    "# En cambio para hacer esa misma operacion en Numpy solo tenemos que hacer lo siguiente:\n",
    "# Definimos 2 numpyArrays u y v\n",
    "u = np.array([1, 0])\n",
    "v = np.array([0, 1])\n",
    "\n",
    "# Aplicamos la suma a dichos array de numpy y los asignamos a una nueva variable que por extension sera de tipo numpy array\n",
    "z = u + v\n",
    "\n",
    "z\n"
   ]
  },
  {
   "cell_type": "markdown",
   "id": "131fac82-40e9-4ac5-9b44-1dce32884a99",
   "metadata": {},
   "source": [
    "Como podemos observar la implementacion en numpy es mas rapida y utiliza menos recursos de memoria."
   ]
  },
  {
   "cell_type": "markdown",
   "id": "d8c98e2b-7871-4fcf-ad8d-b7231bca72f3",
   "metadata": {},
   "source": [
    "## RESTA DE VECTORES\n",
    "Al igual que la suma de vectores, podemos utilizar Numpy para llevar a cabo dichas operaciones.\n",
    "\n",
    " - Creamos un nuevo vector\n",
    " - El primer componente se define como la resta del primer componente de los vectores u y v.\n",
    " - El segundo componente se define como la resta del segundo componente de los vectores u y v.\n",
    "<img src='RestaDeVectores.png'></src>\n"
   ]
  },
  {
   "cell_type": "code",
   "execution_count": 18,
   "id": "4fb70a55-13cd-4d09-a430-44fb27e2c8ab",
   "metadata": {},
   "outputs": [
    {
     "data": {
      "text/plain": [
       "array([ 1, -1])"
      ]
     },
     "execution_count": 18,
     "metadata": {},
     "output_type": "execute_result"
    }
   ],
   "source": [
    "# Para realizar la resta de vectores en Numpy tenemos que hacer lo siguiente:\n",
    "# Definimos 2 numpyArrays u y v\n",
    "u = np.array([1, 0])\n",
    "v = np.array([0, 1])\n",
    "\n",
    "# Aplicamos la resta a dichos array de numpy y los asignamos a una nueva variable que por extension sera de tipo numpy array\n",
    "z = u - v\n",
    "\n",
    "z"
   ]
  },
  {
   "cell_type": "markdown",
   "id": "f8b50a4d-f501-4ce5-86ae-1e6613a1ebe0",
   "metadata": {},
   "source": [
    "<h1><center>MULTIPLICACION DE VECTORES CON UN VALOR ESCALAR</center></h1>"
   ]
  },
  {
   "cell_type": "markdown",
   "id": "35609cc3-1d0d-4cbd-bd4e-9fe9e46c42ec",
   "metadata": {},
   "source": [
    "Es otra operacion muy comun.\n",
    "Se refiere a la multiplicacion de un vector por un valor escalar que no es un vector. Y se realiza de la siguiente manera:\n",
    " - Se definen el vector al cual se aplicara la multiplicacion por el escalar\n",
    " - Se multiplican los elementos del vector por el escalar y se asignan a un nuevo vector.\n",
    " \n",
    " <img src='MultDeVectores.png'></img>"
   ]
  },
  {
   "cell_type": "code",
   "execution_count": 21,
   "id": "69fa17f9-af3b-4a9a-87e5-764b401bc424",
   "metadata": {},
   "outputs": [
    {
     "data": {
      "text/plain": [
       "array([2, 4])"
      ]
     },
     "execution_count": 21,
     "metadata": {},
     "output_type": "execute_result"
    }
   ],
   "source": [
    "# Para Realizar la multiplicacion de Vectores con un escalar en Numpy tenemos que hacer lo siguiente:\n",
    "# Definimos nuestro numpyArrays y\n",
    "y = np.array([1, 2])\n",
    "\n",
    "# Aplicamos la multiplicacion con el escalar al arreglo de numpy y lo guardamos en una variable\n",
    "z = 2 * y\n",
    "\n",
    "z"
   ]
  },
  {
   "cell_type": "markdown",
   "id": "0448b844-3121-4d84-9e43-f40d560b9dab",
   "metadata": {},
   "source": [
    "<h1><center>MULTIPLICACION O PRODUCTO DE VECTORES </center></h1>"
   ]
  },
  {
   "cell_type": "markdown",
   "id": "50dd0922-3148-4a6f-b535-9a6efe940cfa",
   "metadata": {},
   "source": [
    "Se refiere a la multiplicacion de 2 vectores. Y se realiza de la siguiente manera:\n",
    " - Se definen 2 vectores u y v con los cuales se aplicara la multiplicacion.\n",
    " - Se define la variable en la cual guardar el nuevo vector.\n",
    " - El primer componente del nuevo vector es el producto/multiplicacion de los primeros elementos de los arreglos u y v \n",
    " - El segundo componente del nuevo vector es el producto/multiplicacion de los segundos elementos de los arreglos u y v \n",
    " \n",
    " <img src='ProductoDeVectores.png'></img>"
   ]
  },
  {
   "cell_type": "code",
   "execution_count": 22,
   "id": "1568f42a-81db-4e58-854a-67372b80f9d7",
   "metadata": {},
   "outputs": [
    {
     "data": {
      "text/plain": [
       "array([3, 4])"
      ]
     },
     "execution_count": 22,
     "metadata": {},
     "output_type": "execute_result"
    }
   ],
   "source": [
    "# Para realizar la multiplicacion de vectores en Numpy tenemos que hacer lo siguiente:\n",
    "# Definimos 2 numpyArrays u y v\n",
    "u = np.array([1, 2])\n",
    "v = np.array([3, 2])\n",
    "\n",
    "# Aplicamos la multiplicacion a dichos array de numpy y los asignamos a una nueva variable que por extension sera de tipo numpy array\n",
    "z = u * v\n",
    "\n",
    "z"
   ]
  },
  {
   "cell_type": "markdown",
   "id": "6ab29ee0-ed7f-40bb-ba05-aac65dc811fb",
   "metadata": {},
   "source": [
    "<h1><center>PRODUCTO PUNTO</center></h1>"
   ]
  },
  {
   "cell_type": "markdown",
   "id": "5cb8d547-933c-4069-b970-7f56adb3a718",
   "metadata": {},
   "source": [
    "Se refiere a un solo numero que representa que tan familiares son los dos vectores. Y se realiza de la siguiente manera:\n",
    " - Se definen 2 vectores u y v con los cuales se aplicara la multiplicacion.\n",
    " - Se multiplica el primer componente de v y u.\n",
    " - Se multiplica el segundo componente de v y u\n",
    " - Se suman las dos multiplicaciones\n",
    " \n",
    " <img src='DotProduct.png'></img>"
   ]
  },
  {
   "cell_type": "code",
   "execution_count": 23,
   "id": "42a268b5-15ad-4dd1-b194-d292bef75c37",
   "metadata": {},
   "outputs": [
    {
     "data": {
      "text/plain": [
       "5"
      ]
     },
     "execution_count": 23,
     "metadata": {},
     "output_type": "execute_result"
    }
   ],
   "source": [
    "# Para realizar la operacion de producto punto en Numpy tenemos que hacer lo siguiente:\n",
    "# Definimos 2 numpyArrays u y v\n",
    "u = np.array([1, 2])\n",
    "v = np.array([3, 1])\n",
    "\n",
    "# Usamos la funcion de numpy \"dot\" y el resultado lo asignamos a una nueva variable.\n",
    "z = np.dot(u,v)\n",
    "\n",
    "z"
   ]
  },
  {
   "cell_type": "markdown",
   "id": "8ca5d768-2ff7-4fe7-a4bd-16ece91a1f01",
   "metadata": {},
   "source": [
    "<h1><center>AGREGANDO CONSTANTES A UN ARREGLO DE NUMPY - BROADCASTING</center></h1>\n",
    "Si contamos con un arregllo de numpy al cual le agregamos una constante. Esta constante sera agregada a cada elemento del arreglo."
   ]
  },
  {
   "cell_type": "code",
   "execution_count": 25,
   "id": "ee6f247a-1b29-4e17-b434-68d66f0d7b65",
   "metadata": {},
   "outputs": [
    {
     "name": "stdout",
     "output_type": "stream",
     "text": [
      "ANTES:  [1 2 3 4 5]\n",
      "DESPUES:  [2 3 4 5 6]\n"
     ]
    }
   ],
   "source": [
    "antes = np.array([1,2,3,4,5])\n",
    "print(\"ANTES: \", antes)\n",
    "\n",
    "despues = antes + 1\n",
    "print(\"DESPUES: \", despues)"
   ]
  },
  {
   "cell_type": "markdown",
   "id": "b27aae78-2e9e-46e8-9246-0308e8bbf817",
   "metadata": {},
   "source": [
    "<h1><center>FUNCIONES UNIVERSALES</center></h1>\n",
    "Una funcion universal es aquella que opera en todos los arreglos de numpy."
   ]
  },
  {
   "cell_type": "markdown",
   "id": "723c63ad-546c-466e-95ff-cb398360a554",
   "metadata": {},
   "source": [
    "Algunos ejemplos de funciones universales son:\n",
    "- mean(): Calcula la media/promedio de un arreglo de numpy.\n",
    "- max(): Calcula el valor mas alto dentro del arreglo de numpy.\n",
    "- std(): Calcula la desviacion estandar de un arreglo.\n",
    "- sin(): Aplica el Seno a un arreglo de numpy en radianes.\n",
    "- linspace(): Una funcion muy util para graficar funciones matematicas. Regresa numeros espacaciados uniformemente dentro de un intervalo.\n",
    "- add(): Calcula la suma de los elementos de 2 arreglos.\n",
    "- subtract(): Calcula la resta de los elementos de 2 arreglos.\n",
    "- multiply(): Calcula la multiplicacion de los elementos de 2 arreglos.\n",
    "- divide(): Calcula la division de los elementos de 2 arreglos."
   ]
  },
  {
   "cell_type": "code",
   "execution_count": 29,
   "id": "09b5cd02-73e0-4c19-94a1-c566909fba27",
   "metadata": {},
   "outputs": [],
   "source": [
    "ejemplo = np.array([2, 3, 4, 5, 6])\n",
    "radianes = np.array([0, np.pi/2, np.pi])"
   ]
  },
  {
   "cell_type": "code",
   "execution_count": 30,
   "id": "1198e106-c5ca-4e4b-b878-12cf26ec4860",
   "metadata": {},
   "outputs": [
    {
     "data": {
      "text/plain": [
       "4.0"
      ]
     },
     "execution_count": 30,
     "metadata": {},
     "output_type": "execute_result"
    }
   ],
   "source": [
    "# Aplicando la media\n",
    "ejemplo.mean()"
   ]
  },
  {
   "cell_type": "code",
   "execution_count": 31,
   "id": "5d20e926-65f4-418f-b5cf-e6adb54bfe0d",
   "metadata": {},
   "outputs": [
    {
     "data": {
      "text/plain": [
       "6"
      ]
     },
     "execution_count": 31,
     "metadata": {},
     "output_type": "execute_result"
    }
   ],
   "source": [
    "# Obteniendo el valor maximo\n",
    "ejemplo.max()"
   ]
  },
  {
   "cell_type": "code",
   "execution_count": 33,
   "id": "cb8cc85d-32e0-401b-a901-d59f2422a710",
   "metadata": {},
   "outputs": [
    {
     "data": {
      "text/plain": [
       "array([0.0000000e+00, 1.0000000e+00, 1.2246468e-16])"
      ]
     },
     "execution_count": 33,
     "metadata": {},
     "output_type": "execute_result"
    }
   ],
   "source": [
    "# Calculando el seno a los valores de un array\n",
    "np.sin(radianes)"
   ]
  },
  {
   "cell_type": "code",
   "execution_count": 38,
   "id": "68536693-1d40-4384-af8c-4bc83e3afbee",
   "metadata": {},
   "outputs": [
    {
     "data": {
      "text/plain": [
       "array([-2., -1.,  0.,  1.,  2.])"
      ]
     },
     "execution_count": 38,
     "metadata": {},
     "output_type": "execute_result"
    }
   ],
   "source": [
    "# Aplicando linespace a un array\n",
    "# ARGS: \n",
    "    # 1 - Punto de comienzo de la secuencia\n",
    "    # 2.- Punto final de la secuencia\n",
    "    # num = Numero de muestras a generar\n",
    "np.linspace(-2,2, num=5)"
   ]
  },
  {
   "cell_type": "code",
   "execution_count": 39,
   "id": "3082809f-8641-4308-b5c6-31f296e0c2b1",
   "metadata": {},
   "outputs": [
    {
     "data": {
      "text/plain": [
       "array([-2. , -1.5, -1. , -0.5,  0. ,  0.5,  1. ,  1.5,  2. ])"
      ]
     },
     "execution_count": 39,
     "metadata": {},
     "output_type": "execute_result"
    }
   ],
   "source": [
    "np.linspace(-2,2, num=9)"
   ]
  },
  {
   "cell_type": "code",
   "execution_count": 41,
   "id": "bb03ffc4-6272-46fb-aed4-4ffeeade93f4",
   "metadata": {},
   "outputs": [
    {
     "data": {
      "text/plain": [
       "[<matplotlib.lines.Line2D at 0x7f8b4fa8bf10>]"
      ]
     },
     "execution_count": 41,
     "metadata": {},
     "output_type": "execute_result"
    },
    {
     "data": {
      "image/png": "[encoded data removed]",
      "text/plain": [
       "<Figure size 640x480 with 1 Axes>"
      ]
     },
     "metadata": {},
     "output_type": "display_data"
    }
   ],
   "source": [
    "x = np.linspace(0, 2*np.pi, 100) # Generamos un arreglo de 100 numeros espaciados entre 0 y 2 veces pi\n",
    "y = np.sin(x) # Aplicamos a este arreglo la funcion seno.\n",
    "\n",
    "import matplotlib.pyplot as plt # Importamos la libreria matplotlib \n",
    "#Usamos inline para mostrar el grafico, ya que estamos en jupyter\n",
    "%matplotlib inline \n",
    "plt.plot(x,y) # Usamos plot para graficar"
   ]
  },
  {
   "cell_type": "markdown",
   "id": "ebddc16f-aafe-4564-8b91-b385526919d3",
   "metadata": {},
   "source": [
    "- El eje x corresponde a los valores del arreglo X (100 numeros espaciados entre 0 y 2 veces pi)\n",
    "- El eje y corresponde a los valores calculados en el arreglo y (Seno de los valores de X)"
   ]
  },
  {
   "cell_type": "markdown",
   "id": "1ff7f6fa-3b6d-4ebc-a598-099a7290e925",
   "metadata": {},
   "source": [
    "# ARREGLOS DE 2 DIMENSIONES DE NUMPY\n",
    "\n",
    "Usando Numpy podemos crear arreglos de 2 dimensiones tambien llamados Matrices. \n",
    "Al igual que los arreglos de 1D:\n",
    "- Los arreglos de 2D se manejan mediante indices.\n",
    "- En Los arreglos de 2D puede usarse Slicing.\n",
    "- Se pueden ejecutar operaciones de arreglos de 2D.\n",
    "\n",
    "\n",
    "**Nota: Se pueden crear arreglos de mas dimensiones usando Numpy.**"
   ]
  },
  {
   "cell_type": "code",
   "execution_count": 2,
   "id": "65a3ae0a-b216-46fc-9736-5ae18b490c17",
   "metadata": {},
   "outputs": [
    {
     "name": "stdout",
     "output_type": "stream",
     "text": [
      "<class 'list'>\n",
      "<class 'numpy.ndarray'>\n"
     ]
    }
   ],
   "source": [
    "# Se puede usar el metodo \"np.array(lista) para convertir lista de 2 dimensiones:\n",
    "\n",
    "lista = [[1,2,3,4],[4,6,7,8],[9,10,11,12]]\n",
    "print(type(lista))\n",
    "\n",
    "nparray = np.array(lista)\n",
    "print(type(nparray))"
   ]
  },
  {
   "cell_type": "markdown",
   "id": "5f3b03d0-ec2d-4c5d-bde5-08025c02f143",
   "metadata": {},
   "source": [
    "Un metodo importante de numpy para saber la \"dimension\" de una lista es **ndim**. Este metodo, permite saber el numero de listas anidadas de una variable."
   ]
  },
  {
   "cell_type": "code",
   "execution_count": 3,
   "id": "998aeab1-40a8-4f7e-9c0e-fad2f7a65faf",
   "metadata": {},
   "outputs": [
    {
     "data": {
      "text/plain": [
       "2"
      ]
     },
     "execution_count": 3,
     "metadata": {},
     "output_type": "execute_result"
    }
   ],
   "source": [
    "nparray.ndim"
   ]
  },
  {
   "cell_type": "markdown",
   "id": "e1904d5a-0786-4b8b-b30a-a1bcc8d55c2d",
   "metadata": {},
   "source": [
    "El metodo shape, por su parte, obtiene la estructura de la matriz indicando el numero de filas y el numero de columnas.\n",
    "La convencion es etiquetar a las filas como el eje 0 y a las columnas como el eje1"
   ]
  },
  {
   "cell_type": "code",
   "execution_count": 4,
   "id": "f7176939-3d4e-4f7f-af01-9dd2a6439c7e",
   "metadata": {},
   "outputs": [
    {
     "data": {
      "text/plain": [
       "(3, 4)"
      ]
     },
     "execution_count": 4,
     "metadata": {},
     "output_type": "execute_result"
    }
   ],
   "source": [
    "nparray.shape"
   ]
  },
  {
   "cell_type": "markdown",
   "id": "e55b821f-bfcc-402e-82ca-43046694f60d",
   "metadata": {},
   "source": [
    "El metodo size regresa el numero total de elementos dentro de la matriz"
   ]
  },
  {
   "cell_type": "code",
   "execution_count": 5,
   "id": "407b24b8-6919-4bd8-ab25-a417bb565a76",
   "metadata": {},
   "outputs": [
    {
     "data": {
      "text/plain": [
       "12"
      ]
     },
     "execution_count": 5,
     "metadata": {},
     "output_type": "execute_result"
    }
   ],
   "source": [
    "nparray.size"
   ]
  },
  {
   "cell_type": "markdown",
   "id": "48f97080-5573-46ff-b758-b6cb148592f4",
   "metadata": {},
   "source": [
    "Para accesar a un elemento especifico de la lista, es necesario usar la notacion de 2 corchetes.\n",
    "\n",
    "**LISTA [ FILA ][ COLUMNA ]**"
   ]
  },
  {
   "cell_type": "code",
   "execution_count": 7,
   "id": "fa57f7e2-64ac-4f5c-861f-c34e8c4d2443",
   "metadata": {},
   "outputs": [
    {
     "name": "stdout",
     "output_type": "stream",
     "text": [
      "1\n",
      "12\n"
     ]
    }
   ],
   "source": [
    "print(nparray[0][0]) #Primer elemento de la primera fila\n",
    "print(nparray[2][3]) #Ultimo elemento de la Ultima fila"
   ]
  },
  {
   "cell_type": "markdown",
   "id": "56115cbe-efe5-4868-ba38-13fe545884dd",
   "metadata": {},
   "source": [
    "Tambien podemos usar slicing de la siguiente manera:\n",
    "- El primer indice corresponde a la fila\n",
    "- El segundo indice correspone a las columnas."
   ]
  },
  {
   "cell_type": "code",
   "execution_count": 10,
   "id": "a7097b8d-9dc7-4e3c-b75d-2b0e78285704",
   "metadata": {},
   "outputs": [
    {
     "data": {
      "text/plain": [
       "array([6, 7, 8])"
      ]
     },
     "execution_count": 10,
     "metadata": {},
     "output_type": "execute_result"
    }
   ],
   "source": [
    "nparray[1, 1:5]"
   ]
  },
  {
   "cell_type": "code",
   "execution_count": 13,
   "id": "693f032c-b192-411a-b7b1-f4729ce1be84",
   "metadata": {},
   "outputs": [
    {
     "data": {
      "text/plain": [
       "array([ 2,  6, 10])"
      ]
     },
     "execution_count": 13,
     "metadata": {},
     "output_type": "execute_result"
    }
   ],
   "source": [
    "nparray[0:3, 1]"
   ]
  },
  {
   "cell_type": "markdown",
   "id": "64f5acae-1903-4e23-a13d-5e63cd9e0363",
   "metadata": {},
   "source": [
    "# OPERACIONES BASICAS CON ARREGLOS 2D\n",
    "Con arreglos 2D de numpy podemos realizar operaciones entre los arreglos 2D, de manera similar a listas."
   ]
  },
  {
   "cell_type": "code",
   "execution_count": 32,
   "id": "6de7a034-8585-45fe-81fa-65f15a6b8f34",
   "metadata": {},
   "outputs": [],
   "source": [
    "nparray2 = np.array([[2,4,6,8],[3,6,9,12],[5,10,15,20]])"
   ]
  },
  {
   "cell_type": "markdown",
   "id": "45a4c6e7-dbe6-49d2-8200-b7a57393f525",
   "metadata": {},
   "source": [
    "### SUMA DE MATRICES:\n",
    "    El resultado de la suma de Matrices es una nueva Matriz que suma cada uno de los elementos que comparten la misma posicion en su matriz."
   ]
  },
  {
   "cell_type": "code",
   "execution_count": 33,
   "id": "f91d15e7-55aa-4708-94d4-ed2273e94929",
   "metadata": {},
   "outputs": [
    {
     "data": {
      "text/plain": [
       "array([[ 3,  6,  9, 12],\n",
       "       [ 7, 12, 16, 20],\n",
       "       [14, 20, 26, 32]])"
      ]
     },
     "execution_count": 33,
     "metadata": {},
     "output_type": "execute_result"
    }
   ],
   "source": [
    "nparray + nparray2"
   ]
  },
  {
   "cell_type": "markdown",
   "id": "a7b80a7b-8b3c-435c-a42c-8e6c1c067be4",
   "metadata": {},
   "source": [
    "## MULTIPLICACION POR ESCALAR\n",
    "    Podemos multiplicar una Matriz por un numero escalar. El resultado sera una nueva matriz que multiplica todos los elementos por el escalar"
   ]
  },
  {
   "cell_type": "code",
   "execution_count": 34,
   "id": "67e26531-64cb-42f7-bd24-0fa5c086b335",
   "metadata": {},
   "outputs": [
    {
     "data": {
      "text/plain": [
       "array([[ 3,  6,  9, 12],\n",
       "       [12, 18, 21, 24],\n",
       "       [27, 30, 33, 36]])"
      ]
     },
     "execution_count": 34,
     "metadata": {},
     "output_type": "execute_result"
    }
   ],
   "source": [
    "nparray * 3 # Multiplica todos los elementos por 3"
   ]
  },
  {
   "cell_type": "markdown",
   "id": "f3ff961f-3f7f-4da8-82cc-01079107be92",
   "metadata": {},
   "source": [
    "## MULTIPLICACION DE MATRICES O PRODUCTO HADAMARD\n",
    "    El resultado es una matriz nueva, con elementos que son el resultado de multiplicar los elementos que comparten la misma posicion."
   ]
  },
  {
   "cell_type": "code",
   "execution_count": 35,
   "id": "723a1ac9-f0eb-4fbb-9e3a-0fd6a9961959",
   "metadata": {},
   "outputs": [
    {
     "data": {
      "text/plain": [
       "array([[  2,   8,  18,  32],\n",
       "       [ 12,  36,  63,  96],\n",
       "       [ 45, 100, 165, 240]])"
      ]
     },
     "execution_count": 35,
     "metadata": {},
     "output_type": "execute_result"
    }
   ],
   "source": [
    "nparray * nparray2"
   ]
  },
  {
   "cell_type": "markdown",
   "id": "5f3f9f9a-0674-4c24-9ff5-52ce92e360d3",
   "metadata": {},
   "source": [
    "    Asi mismo podemos multiplicar matrices de diferentes formas. Esto se hace usando el Producto Punto de las fila kth de matriz A con la columna del mismo indice en la matriz B. Es decir  ( A00 * B00 + A01 * B10 + .... + A0i * Bi0) "
   ]
  },
  {
   "cell_type": "code",
   "execution_count": 36,
   "id": "87be90cf-5722-4f51-9311-95d287153b68",
   "metadata": {},
   "outputs": [],
   "source": [
    "A = np.array([[4,8,12],[6,12,18]])\n",
    "B = np.array([[2,4,6,8],[3,6,9,12],[5,10,15,20]])"
   ]
  },
  {
   "cell_type": "code",
   "execution_count": 37,
   "id": "bce5f390-aead-4fbb-a818-8a760636e829",
   "metadata": {},
   "outputs": [
    {
     "data": {
      "text/plain": [
       "array([[ 92, 184, 276, 368],\n",
       "       [138, 276, 414, 552]])"
      ]
     },
     "execution_count": 37,
     "metadata": {},
     "output_type": "execute_result"
    }
   ],
   "source": [
    "np.dot(A, B) "
   ]
  },
  {
   "cell_type": "markdown",
   "id": "e6a2a82b-6a61-404b-b2d3-1810c0a2a295",
   "metadata": {},
   "source": [
    "Podemos invertir la forma de una matriz con el metodo de Transposed *T*. Este metodo convierte las columnas en filas y las filas en columnas."
   ]
  },
  {
   "cell_type": "code",
   "execution_count": 38,
   "id": "fb9435a2-d37c-479f-bd51-e92cb2cdade4",
   "metadata": {},
   "outputs": [
    {
     "data": {
      "text/plain": [
       "array([[ 4,  6],\n",
       "       [ 8, 12],\n",
       "       [12, 18]])"
      ]
     },
     "execution_count": 38,
     "metadata": {},
     "output_type": "execute_result"
    }
   ],
   "source": [
    "A.T"
   ]
  },
  {
   "cell_type": "markdown",
   "id": "a9fa215a-3222-4412-9a64-9c7a9191847c",
   "metadata": {},
   "source": [
    "# APIS SIMPLES\n",
    "    Una API o Interfaz de aplicacion de programa es una interfaz de programacion que permite a 2 partes de un software hablar entre ellas y por lo tanto intercambiar informacion para apoyar en el desempeño de dicho software.\n",
    "    Pandas es un conjunto de componentes de software con los cuales mediante el uso de su API podemos comunicarnos y procesar nuestra informacion\n",
    "    "
   ]
  },
  {
   "cell_type": "code",
   "execution_count": 39,
   "id": "3bd47316-5a75-4676-9f67-cd8076f5f4e0",
   "metadata": {},
   "outputs": [],
   "source": [
    "import pandas as pd"
   ]
  },
  {
   "cell_type": "code",
   "execution_count": 40,
   "id": "f12b6876-9257-4a94-b525-541794267662",
   "metadata": {},
   "outputs": [
    {
     "data": {
      "text/html": [
       "<div>\n",
       "<style scoped>\n",
       "    .dataframe tbody tr th:only-of-type {\n",
       "        vertical-align: middle;\n",
       "    }\n",
       "\n",
       "    .dataframe tbody tr th {\n",
       "        vertical-align: top;\n",
       "    }\n",
       "\n",
       "    .dataframe thead th {\n",
       "        text-align: right;\n",
       "    }\n",
       "</style>\n",
       "<table border=\"1\" class=\"dataframe\">\n",
       "  <thead>\n",
       "    <tr style=\"text-align: right;\">\n",
       "      <th></th>\n",
       "      <th>a</th>\n",
       "      <th>b</th>\n",
       "    </tr>\n",
       "  </thead>\n",
       "  <tbody>\n",
       "    <tr>\n",
       "      <th>0</th>\n",
       "      <td>8</td>\n",
       "      <td>9</td>\n",
       "    </tr>\n",
       "    <tr>\n",
       "      <th>1</th>\n",
       "      <td>16</td>\n",
       "      <td>18</td>\n",
       "    </tr>\n",
       "    <tr>\n",
       "      <th>2</th>\n",
       "      <td>24</td>\n",
       "      <td>27</td>\n",
       "    </tr>\n",
       "  </tbody>\n",
       "</table>\n",
       "</div>"
      ],
      "text/plain": [
       "    a   b\n",
       "0   8   9\n",
       "1  16  18\n",
       "2  24  27"
      ]
     },
     "execution_count": 40,
     "metadata": {},
     "output_type": "execute_result"
    }
   ],
   "source": [
    "md = {\n",
    "    'a':[8,16,24],\n",
    "    'b': [9, 18, 27] \n",
    "}\n",
    "\n",
    "df = pd.DataFrame(md) # LLamada a la API de Pandas para crear un Data Frame\n",
    "\n",
    "df.head() # Llamada a la API de Pandas para obtener los datos del dataframe"
   ]
  },
  {
   "cell_type": "markdown",
   "id": "4baa6218-97f7-452d-9438-3d1f128ca6bb",
   "metadata": {},
   "source": [
    "# REST APIS\n",
    "    Es un tipo de API que permite comunicarnos  a traves de internet, lo que nos da la posibilidad de aprovechar recursos como : \n",
    "        - Almacenamiento\n",
    "        - Mas datos,\n",
    "        - Algoritmos de IA\n",
    "    Las Peticiones de REST constan de un Cliente y un servidor, los cuales interactuan mediante la REST API con entradas y salidas de datos.\n",
    "    Las Peticiones normalmente se comunican mediante un mensaje HTTP que contiene un archivo JSON con instrucciones para la operacion que deseamos ejecutar.\n"
   ]
  },
  {
   "cell_type": "code",
   "execution_count": 76,
   "id": "b7e6ce62-75be-4806-9603-71464633bdf6",
   "metadata": {},
   "outputs": [
    {
     "data": {
      "text/plain": [
       "{'id': 1610612739,\n",
       " 'full_name': 'Cleveland Cavaliers',\n",
       " 'abbreviation': 'CLE',\n",
       " 'nickname': 'Cavaliers',\n",
       " 'city': 'Cleveland',\n",
       " 'state': 'Ohio',\n",
       " 'year_founded': 1970}"
      ]
     },
     "execution_count": 76,
     "metadata": {},
     "output_type": "execute_result"
    }
   ],
   "source": [
    "#  python3.8 -m pip install nba_api # INTALANDO EL PAQUETE DE LA API DE LA NBA\n",
    "\n",
    "# DE LA API DE LA NBA HACEMOS UNA LLAMADA PARA OBTENER LA INFORMACION DE LOS EQUIPOS\n",
    "from nba_api.stats.static import teams\n",
    "\n",
    "nba_teams = teams.get_teams()\n",
    "nba_teams[2]"
   ]
  },
  {
   "cell_type": "code",
   "execution_count": 78,
   "id": "297c9fbc-d055-4a3b-bad5-9e5d4d77816e",
   "metadata": {},
   "outputs": [
    {
     "data": {
      "text/html": [
       "<div>\n",
       "<style scoped>\n",
       "    .dataframe tbody tr th:only-of-type {\n",
       "        vertical-align: middle;\n",
       "    }\n",
       "\n",
       "    .dataframe tbody tr th {\n",
       "        vertical-align: top;\n",
       "    }\n",
       "\n",
       "    .dataframe thead th {\n",
       "        text-align: right;\n",
       "    }\n",
       "</style>\n",
       "<table border=\"1\" class=\"dataframe\">\n",
       "  <thead>\n",
       "    <tr style=\"text-align: right;\">\n",
       "      <th></th>\n",
       "      <th>id</th>\n",
       "      <th>full_name</th>\n",
       "      <th>abbreviation</th>\n",
       "      <th>nickname</th>\n",
       "      <th>city</th>\n",
       "      <th>state</th>\n",
       "      <th>year_founded</th>\n",
       "    </tr>\n",
       "  </thead>\n",
       "  <tbody>\n",
       "    <tr>\n",
       "      <th>0</th>\n",
       "      <td>1610612737</td>\n",
       "      <td>Atlanta Hawks</td>\n",
       "      <td>ATL</td>\n",
       "      <td>Hawks</td>\n",
       "      <td>Atlanta</td>\n",
       "      <td>Atlanta</td>\n",
       "      <td>1949</td>\n",
       "    </tr>\n",
       "    <tr>\n",
       "      <th>1</th>\n",
       "      <td>1610612738</td>\n",
       "      <td>Boston Celtics</td>\n",
       "      <td>BOS</td>\n",
       "      <td>Celtics</td>\n",
       "      <td>Boston</td>\n",
       "      <td>Massachusetts</td>\n",
       "      <td>1946</td>\n",
       "    </tr>\n",
       "    <tr>\n",
       "      <th>2</th>\n",
       "      <td>1610612739</td>\n",
       "      <td>Cleveland Cavaliers</td>\n",
       "      <td>CLE</td>\n",
       "      <td>Cavaliers</td>\n",
       "      <td>Cleveland</td>\n",
       "      <td>Ohio</td>\n",
       "      <td>1970</td>\n",
       "    </tr>\n",
       "    <tr>\n",
       "      <th>3</th>\n",
       "      <td>1610612740</td>\n",
       "      <td>New Orleans Pelicans</td>\n",
       "      <td>NOP</td>\n",
       "      <td>Pelicans</td>\n",
       "      <td>New Orleans</td>\n",
       "      <td>Louisiana</td>\n",
       "      <td>2002</td>\n",
       "    </tr>\n",
       "    <tr>\n",
       "      <th>4</th>\n",
       "      <td>1610612741</td>\n",
       "      <td>Chicago Bulls</td>\n",
       "      <td>CHI</td>\n",
       "      <td>Bulls</td>\n",
       "      <td>Chicago</td>\n",
       "      <td>Illinois</td>\n",
       "      <td>1966</td>\n",
       "    </tr>\n",
       "  </tbody>\n",
       "</table>\n",
       "</div>"
      ],
      "text/plain": [
       "           id             full_name abbreviation   nickname         city  \\\n",
       "0  1610612737         Atlanta Hawks          ATL      Hawks      Atlanta   \n",
       "1  1610612738        Boston Celtics          BOS    Celtics       Boston   \n",
       "2  1610612739   Cleveland Cavaliers          CLE  Cavaliers    Cleveland   \n",
       "3  1610612740  New Orleans Pelicans          NOP   Pelicans  New Orleans   \n",
       "4  1610612741         Chicago Bulls          CHI      Bulls      Chicago   \n",
       "\n",
       "           state  year_founded  \n",
       "0        Atlanta          1949  \n",
       "1  Massachusetts          1946  \n",
       "2           Ohio          1970  \n",
       "3      Louisiana          2002  \n",
       "4       Illinois          1966  "
      ]
     },
     "execution_count": 78,
     "metadata": {},
     "output_type": "execute_result"
    }
   ],
   "source": [
    "# CONVERTIMOS EL  ARREGLO DE DICCIONARIO A UNA TABLA CON LA INFORMACION POR CADA EQUIPO\n",
    "teamsDict = {key:[] for key in nba_teams[0].keys()} # Creando las keys del diccionario\n",
    "for dict_ in nba_teams: # Por cada diccionario de informacion de los equipos\n",
    "    for key, value in dict_.items(): # Iteramos en cada elemento del diccionario\n",
    "        teamsDict[key].append(value) # Al diccionario que creamos, le agregamos el par de key:valor correspondiente\n",
    "        \n",
    "        \n",
    "df_teams = pd.DataFrame(teamsDict) # Creamos el Dataframe mediante la API de pandas\n",
    "\n",
    "df_teams.head() # Obtenemos los primeros 5 registros con el metodo head de la API de pandas\n",
    "        "
   ]
  },
  {
   "cell_type": "code",
   "execution_count": 52,
   "id": "3f2303b5-0409-4d6a-8143-52050e3ebfe2",
   "metadata": {},
   "outputs": [
    {
     "data": {
      "text/html": [
       "<div>\n",
       "<style scoped>\n",
       "    .dataframe tbody tr th:only-of-type {\n",
       "        vertical-align: middle;\n",
       "    }\n",
       "\n",
       "    .dataframe tbody tr th {\n",
       "        vertical-align: top;\n",
       "    }\n",
       "\n",
       "    .dataframe thead th {\n",
       "        text-align: right;\n",
       "    }\n",
       "</style>\n",
       "<table border=\"1\" class=\"dataframe\">\n",
       "  <thead>\n",
       "    <tr style=\"text-align: right;\">\n",
       "      <th></th>\n",
       "      <th>id</th>\n",
       "      <th>full_name</th>\n",
       "      <th>abbreviation</th>\n",
       "      <th>nickname</th>\n",
       "      <th>city</th>\n",
       "      <th>state</th>\n",
       "      <th>year_founded</th>\n",
       "    </tr>\n",
       "  </thead>\n",
       "  <tbody>\n",
       "    <tr>\n",
       "      <th>4</th>\n",
       "      <td>1610612741</td>\n",
       "      <td>Chicago Bulls</td>\n",
       "      <td>CHI</td>\n",
       "      <td>Bulls</td>\n",
       "      <td>Chicago</td>\n",
       "      <td>Illinois</td>\n",
       "      <td>1966</td>\n",
       "    </tr>\n",
       "  </tbody>\n",
       "</table>\n",
       "</div>"
      ],
      "text/plain": [
       "           id      full_name abbreviation nickname     city     state  \\\n",
       "4  1610612741  Chicago Bulls          CHI    Bulls  Chicago  Illinois   \n",
       "\n",
       "   year_founded  \n",
       "4          1966  "
      ]
     },
     "execution_count": 52,
     "metadata": {},
     "output_type": "execute_result"
    }
   ],
   "source": [
    "df_Bulls = df_teams[df_teams['nickname'] == 'Bulls']  # CREAMOS UN NUEVO DF a partir del existente, con la info de los Bulls de Chicago\n",
    "df_Bulls.head()"
   ]
  },
  {
   "cell_type": "code",
   "execution_count": 70,
   "id": "ab5b88b9-01c3-4ea0-a374-49071c704b64",
   "metadata": {},
   "outputs": [
    {
     "data": {
      "text/plain": [
       "1610612741"
      ]
     },
     "execution_count": 70,
     "metadata": {},
     "output_type": "execute_result"
    }
   ],
   "source": [
    "# DE LA API DE LA NBA OBTENEMOS LOS JUEGOS CORRESPONDIENTES A LOS BULLS DE CHICADO\n",
    "from nba_api.stats.endpoints import leaguegamefinder \n",
    "# DEL DATAFRAME CON LA INFORMACION DE LOS BULLS, OBTENEMOS EL ID UNICO DEL EQUIPO\n",
    "id_Bulls = df_Bulls[['id']].values[0][0]\n",
    "id_Bulls"
   ]
  },
  {
   "cell_type": "code",
   "execution_count": 79,
   "id": "28aba71d-50c1-47d7-ae22-24c16a216934",
   "metadata": {},
   "outputs": [
    {
     "data": {
      "text/html": [
       "<div>\n",
       "<style scoped>\n",
       "    .dataframe tbody tr th:only-of-type {\n",
       "        vertical-align: middle;\n",
       "    }\n",
       "\n",
       "    .dataframe tbody tr th {\n",
       "        vertical-align: top;\n",
       "    }\n",
       "\n",
       "    .dataframe thead th {\n",
       "        text-align: right;\n",
       "    }\n",
       "</style>\n",
       "<table border=\"1\" class=\"dataframe\">\n",
       "  <thead>\n",
       "    <tr style=\"text-align: right;\">\n",
       "      <th></th>\n",
       "      <th>SEASON_ID</th>\n",
       "      <th>TEAM_ID</th>\n",
       "      <th>TEAM_ABBREVIATION</th>\n",
       "      <th>TEAM_NAME</th>\n",
       "      <th>GAME_ID</th>\n",
       "      <th>GAME_DATE</th>\n",
       "      <th>MATCHUP</th>\n",
       "      <th>WL</th>\n",
       "      <th>MIN</th>\n",
       "      <th>PTS</th>\n",
       "      <th>...</th>\n",
       "      <th>FT_PCT</th>\n",
       "      <th>OREB</th>\n",
       "      <th>DREB</th>\n",
       "      <th>REB</th>\n",
       "      <th>AST</th>\n",
       "      <th>STL</th>\n",
       "      <th>BLK</th>\n",
       "      <th>TOV</th>\n",
       "      <th>PF</th>\n",
       "      <th>PLUS_MINUS</th>\n",
       "    </tr>\n",
       "  </thead>\n",
       "  <tbody>\n",
       "    <tr>\n",
       "      <th>0</th>\n",
       "      <td>22022</td>\n",
       "      <td>1610612741</td>\n",
       "      <td>CHI</td>\n",
       "      <td>Chicago Bulls</td>\n",
       "      <td>1522200065</td>\n",
       "      <td>2022-07-16</td>\n",
       "      <td>CHI @ PHI</td>\n",
       "      <td>W</td>\n",
       "      <td>201</td>\n",
       "      <td>119</td>\n",
       "      <td>...</td>\n",
       "      <td>0.864</td>\n",
       "      <td>9</td>\n",
       "      <td>22</td>\n",
       "      <td>31</td>\n",
       "      <td>22</td>\n",
       "      <td>10</td>\n",
       "      <td>3</td>\n",
       "      <td>15</td>\n",
       "      <td>24</td>\n",
       "      <td>15.0</td>\n",
       "    </tr>\n",
       "    <tr>\n",
       "      <th>1</th>\n",
       "      <td>22022</td>\n",
       "      <td>1610612741</td>\n",
       "      <td>CHI</td>\n",
       "      <td>Chicago Bulls</td>\n",
       "      <td>1522200048</td>\n",
       "      <td>2022-07-14</td>\n",
       "      <td>CHI @ CHA</td>\n",
       "      <td>W</td>\n",
       "      <td>200</td>\n",
       "      <td>89</td>\n",
       "      <td>...</td>\n",
       "      <td>0.700</td>\n",
       "      <td>11</td>\n",
       "      <td>31</td>\n",
       "      <td>42</td>\n",
       "      <td>20</td>\n",
       "      <td>8</td>\n",
       "      <td>8</td>\n",
       "      <td>15</td>\n",
       "      <td>14</td>\n",
       "      <td>18.4</td>\n",
       "    </tr>\n",
       "    <tr>\n",
       "      <th>2</th>\n",
       "      <td>22022</td>\n",
       "      <td>1610612741</td>\n",
       "      <td>CHI</td>\n",
       "      <td>Chicago Bulls</td>\n",
       "      <td>1522200032</td>\n",
       "      <td>2022-07-12</td>\n",
       "      <td>CHI @ TOR</td>\n",
       "      <td>W</td>\n",
       "      <td>201</td>\n",
       "      <td>93</td>\n",
       "      <td>...</td>\n",
       "      <td>0.643</td>\n",
       "      <td>4</td>\n",
       "      <td>26</td>\n",
       "      <td>30</td>\n",
       "      <td>20</td>\n",
       "      <td>9</td>\n",
       "      <td>1</td>\n",
       "      <td>18</td>\n",
       "      <td>14</td>\n",
       "      <td>16.8</td>\n",
       "    </tr>\n",
       "    <tr>\n",
       "      <th>3</th>\n",
       "      <td>22022</td>\n",
       "      <td>1610612741</td>\n",
       "      <td>CHI</td>\n",
       "      <td>Chicago Bulls</td>\n",
       "      <td>1522200020</td>\n",
       "      <td>2022-07-10</td>\n",
       "      <td>CHI @ NYK</td>\n",
       "      <td>L</td>\n",
       "      <td>199</td>\n",
       "      <td>69</td>\n",
       "      <td>...</td>\n",
       "      <td>0.654</td>\n",
       "      <td>5</td>\n",
       "      <td>25</td>\n",
       "      <td>30</td>\n",
       "      <td>14</td>\n",
       "      <td>7</td>\n",
       "      <td>2</td>\n",
       "      <td>21</td>\n",
       "      <td>27</td>\n",
       "      <td>-30.6</td>\n",
       "    </tr>\n",
       "    <tr>\n",
       "      <th>4</th>\n",
       "      <td>22022</td>\n",
       "      <td>1610612741</td>\n",
       "      <td>CHI</td>\n",
       "      <td>Chicago Bulls</td>\n",
       "      <td>1522200003</td>\n",
       "      <td>2022-07-08</td>\n",
       "      <td>CHI vs. DAL</td>\n",
       "      <td>W</td>\n",
       "      <td>211</td>\n",
       "      <td>100</td>\n",
       "      <td>...</td>\n",
       "      <td>0.833</td>\n",
       "      <td>10</td>\n",
       "      <td>36</td>\n",
       "      <td>46</td>\n",
       "      <td>21</td>\n",
       "      <td>6</td>\n",
       "      <td>4</td>\n",
       "      <td>21</td>\n",
       "      <td>35</td>\n",
       "      <td>0.0</td>\n",
       "    </tr>\n",
       "  </tbody>\n",
       "</table>\n",
       "<p>5 rows × 28 columns</p>\n",
       "</div>"
      ],
      "text/plain": [
       "  SEASON_ID     TEAM_ID TEAM_ABBREVIATION      TEAM_NAME     GAME_ID  \\\n",
       "0     22022  1610612741               CHI  Chicago Bulls  1522200065   \n",
       "1     22022  1610612741               CHI  Chicago Bulls  1522200048   \n",
       "2     22022  1610612741               CHI  Chicago Bulls  1522200032   \n",
       "3     22022  1610612741               CHI  Chicago Bulls  1522200020   \n",
       "4     22022  1610612741               CHI  Chicago Bulls  1522200003   \n",
       "\n",
       "    GAME_DATE      MATCHUP WL  MIN  PTS  ...  FT_PCT  OREB  DREB  REB  AST  \\\n",
       "0  2022-07-16    CHI @ PHI  W  201  119  ...   0.864     9    22   31   22   \n",
       "1  2022-07-14    CHI @ CHA  W  200   89  ...   0.700    11    31   42   20   \n",
       "2  2022-07-12    CHI @ TOR  W  201   93  ...   0.643     4    26   30   20   \n",
       "3  2022-07-10    CHI @ NYK  L  199   69  ...   0.654     5    25   30   14   \n",
       "4  2022-07-08  CHI vs. DAL  W  211  100  ...   0.833    10    36   46   21   \n",
       "\n",
       "   STL  BLK  TOV  PF  PLUS_MINUS  \n",
       "0   10    3   15  24        15.0  \n",
       "1    8    8   15  14        18.4  \n",
       "2    9    1   18  14        16.8  \n",
       "3    7    2   21  27       -30.6  \n",
       "4    6    4   21  35         0.0  \n",
       "\n",
       "[5 rows x 28 columns]"
      ]
     },
     "execution_count": 79,
     "metadata": {},
     "output_type": "execute_result"
    }
   ],
   "source": [
    "gf = leaguegamefinder.LeagueGameFinder(team_id_nullable=id_Bulls) # ENCONTRAMOS LOS JUEGOS DE LOS BULLS EN LA API\n",
    "\n",
    "games = gf.get_data_frames()[0] # EL METODO GET DATA FRAME, OBTIENE LA INFORMACION DE LOS JUEGOS EN LA API\n",
    "games.head()"
   ]
  },
  {
   "cell_type": "code",
   "execution_count": 80,
   "id": "6bcda917-0d8b-4a99-9b26-f045743eb459",
   "metadata": {},
   "outputs": [],
   "source": [
    "games_away = games[games['MATCHUP']=='CHI @ TOR']  # FILTRAMOS POR LOS JUEGOS DE VISITA CONTRA TORONTO\n",
    "games_home = games[games['MATCHUP']=='CHI vs. TOR'] # FILTAMOS POR LOS JUEGOS DE LOCAL CONTRA TORONTO"
   ]
  },
  {
   "cell_type": "code",
   "execution_count": 81,
   "id": "a90b043a-f304-4344-b03e-3a6937810b39",
   "metadata": {},
   "outputs": [
    {
     "data": {
      "text/html": [
       "<div>\n",
       "<style scoped>\n",
       "    .dataframe tbody tr th:only-of-type {\n",
       "        vertical-align: middle;\n",
       "    }\n",
       "\n",
       "    .dataframe tbody tr th {\n",
       "        vertical-align: top;\n",
       "    }\n",
       "\n",
       "    .dataframe thead th {\n",
       "        text-align: right;\n",
       "    }\n",
       "</style>\n",
       "<table border=\"1\" class=\"dataframe\">\n",
       "  <thead>\n",
       "    <tr style=\"text-align: right;\">\n",
       "      <th></th>\n",
       "      <th>SEASON_ID</th>\n",
       "      <th>TEAM_ID</th>\n",
       "      <th>TEAM_ABBREVIATION</th>\n",
       "      <th>TEAM_NAME</th>\n",
       "      <th>GAME_ID</th>\n",
       "      <th>GAME_DATE</th>\n",
       "      <th>MATCHUP</th>\n",
       "      <th>WL</th>\n",
       "      <th>MIN</th>\n",
       "      <th>PTS</th>\n",
       "      <th>...</th>\n",
       "      <th>FT_PCT</th>\n",
       "      <th>OREB</th>\n",
       "      <th>DREB</th>\n",
       "      <th>REB</th>\n",
       "      <th>AST</th>\n",
       "      <th>STL</th>\n",
       "      <th>BLK</th>\n",
       "      <th>TOV</th>\n",
       "      <th>PF</th>\n",
       "      <th>PLUS_MINUS</th>\n",
       "    </tr>\n",
       "  </thead>\n",
       "  <tbody>\n",
       "    <tr>\n",
       "      <th>21</th>\n",
       "      <td>22021</td>\n",
       "      <td>1610612741</td>\n",
       "      <td>CHI</td>\n",
       "      <td>Chicago Bulls</td>\n",
       "      <td>0022101076</td>\n",
       "      <td>2022-03-21</td>\n",
       "      <td>CHI vs. TOR</td>\n",
       "      <td>W</td>\n",
       "      <td>240</td>\n",
       "      <td>113</td>\n",
       "      <td>...</td>\n",
       "      <td>0.583</td>\n",
       "      <td>14</td>\n",
       "      <td>28</td>\n",
       "      <td>42</td>\n",
       "      <td>28</td>\n",
       "      <td>6</td>\n",
       "      <td>7</td>\n",
       "      <td>5</td>\n",
       "      <td>14</td>\n",
       "      <td>14.0</td>\n",
       "    </tr>\n",
       "    <tr>\n",
       "      <th>45</th>\n",
       "      <td>22021</td>\n",
       "      <td>1610612741</td>\n",
       "      <td>CHI</td>\n",
       "      <td>Chicago Bulls</td>\n",
       "      <td>0022100472</td>\n",
       "      <td>2022-01-26</td>\n",
       "      <td>CHI vs. TOR</td>\n",
       "      <td>W</td>\n",
       "      <td>239</td>\n",
       "      <td>111</td>\n",
       "      <td>...</td>\n",
       "      <td>0.750</td>\n",
       "      <td>10</td>\n",
       "      <td>35</td>\n",
       "      <td>45</td>\n",
       "      <td>32</td>\n",
       "      <td>2</td>\n",
       "      <td>1</td>\n",
       "      <td>13</td>\n",
       "      <td>22</td>\n",
       "      <td>6.0</td>\n",
       "    </tr>\n",
       "    <tr>\n",
       "      <th>103</th>\n",
       "      <td>22020</td>\n",
       "      <td>1610612741</td>\n",
       "      <td>CHI</td>\n",
       "      <td>Chicago Bulls</td>\n",
       "      <td>0022001051</td>\n",
       "      <td>2021-05-13</td>\n",
       "      <td>CHI vs. TOR</td>\n",
       "      <td>W</td>\n",
       "      <td>240</td>\n",
       "      <td>114</td>\n",
       "      <td>...</td>\n",
       "      <td>0.700</td>\n",
       "      <td>8</td>\n",
       "      <td>43</td>\n",
       "      <td>51</td>\n",
       "      <td>31</td>\n",
       "      <td>4</td>\n",
       "      <td>4</td>\n",
       "      <td>18</td>\n",
       "      <td>15</td>\n",
       "      <td>12.0</td>\n",
       "    </tr>\n",
       "    <tr>\n",
       "      <th>136</th>\n",
       "      <td>22020</td>\n",
       "      <td>1610612741</td>\n",
       "      <td>CHI</td>\n",
       "      <td>Chicago Bulls</td>\n",
       "      <td>0022000600</td>\n",
       "      <td>2021-03-14</td>\n",
       "      <td>CHI vs. TOR</td>\n",
       "      <td>W</td>\n",
       "      <td>241</td>\n",
       "      <td>118</td>\n",
       "      <td>...</td>\n",
       "      <td>0.783</td>\n",
       "      <td>14</td>\n",
       "      <td>46</td>\n",
       "      <td>60</td>\n",
       "      <td>35</td>\n",
       "      <td>6</td>\n",
       "      <td>7</td>\n",
       "      <td>11</td>\n",
       "      <td>20</td>\n",
       "      <td>23.0</td>\n",
       "    </tr>\n",
       "    <tr>\n",
       "      <th>217</th>\n",
       "      <td>22019</td>\n",
       "      <td>1610612741</td>\n",
       "      <td>CHI</td>\n",
       "      <td>Chicago Bulls</td>\n",
       "      <td>0021900345</td>\n",
       "      <td>2019-12-09</td>\n",
       "      <td>CHI vs. TOR</td>\n",
       "      <td>L</td>\n",
       "      <td>241</td>\n",
       "      <td>92</td>\n",
       "      <td>...</td>\n",
       "      <td>0.714</td>\n",
       "      <td>9</td>\n",
       "      <td>36</td>\n",
       "      <td>45</td>\n",
       "      <td>30</td>\n",
       "      <td>6</td>\n",
       "      <td>4</td>\n",
       "      <td>14</td>\n",
       "      <td>20</td>\n",
       "      <td>-1.0</td>\n",
       "    </tr>\n",
       "  </tbody>\n",
       "</table>\n",
       "<p>5 rows × 28 columns</p>\n",
       "</div>"
      ],
      "text/plain": [
       "    SEASON_ID     TEAM_ID TEAM_ABBREVIATION      TEAM_NAME     GAME_ID  \\\n",
       "21      22021  1610612741               CHI  Chicago Bulls  0022101076   \n",
       "45      22021  1610612741               CHI  Chicago Bulls  0022100472   \n",
       "103     22020  1610612741               CHI  Chicago Bulls  0022001051   \n",
       "136     22020  1610612741               CHI  Chicago Bulls  0022000600   \n",
       "217     22019  1610612741               CHI  Chicago Bulls  0021900345   \n",
       "\n",
       "      GAME_DATE      MATCHUP WL  MIN  PTS  ...  FT_PCT  OREB  DREB  REB  AST  \\\n",
       "21   2022-03-21  CHI vs. TOR  W  240  113  ...   0.583    14    28   42   28   \n",
       "45   2022-01-26  CHI vs. TOR  W  239  111  ...   0.750    10    35   45   32   \n",
       "103  2021-05-13  CHI vs. TOR  W  240  114  ...   0.700     8    43   51   31   \n",
       "136  2021-03-14  CHI vs. TOR  W  241  118  ...   0.783    14    46   60   35   \n",
       "217  2019-12-09  CHI vs. TOR  L  241   92  ...   0.714     9    36   45   30   \n",
       "\n",
       "     STL  BLK  TOV  PF  PLUS_MINUS  \n",
       "21     6    7    5  14        14.0  \n",
       "45     2    1   13  22         6.0  \n",
       "103    4    4   18  15        12.0  \n",
       "136    6    7   11  20        23.0  \n",
       "217    6    4   14  20        -1.0  \n",
       "\n",
       "[5 rows x 28 columns]"
      ]
     },
     "execution_count": 81,
     "metadata": {},
     "output_type": "execute_result"
    }
   ],
   "source": [
    "games_home.head()"
   ]
  },
  {
   "cell_type": "code",
   "execution_count": 82,
   "id": "a14f9c92-6193-4344-ab79-a850c8c969b5",
   "metadata": {},
   "outputs": [
    {
     "data": {
      "text/html": [
       "<div>\n",
       "<style scoped>\n",
       "    .dataframe tbody tr th:only-of-type {\n",
       "        vertical-align: middle;\n",
       "    }\n",
       "\n",
       "    .dataframe tbody tr th {\n",
       "        vertical-align: top;\n",
       "    }\n",
       "\n",
       "    .dataframe thead th {\n",
       "        text-align: right;\n",
       "    }\n",
       "</style>\n",
       "<table border=\"1\" class=\"dataframe\">\n",
       "  <thead>\n",
       "    <tr style=\"text-align: right;\">\n",
       "      <th></th>\n",
       "      <th>SEASON_ID</th>\n",
       "      <th>TEAM_ID</th>\n",
       "      <th>TEAM_ABBREVIATION</th>\n",
       "      <th>TEAM_NAME</th>\n",
       "      <th>GAME_ID</th>\n",
       "      <th>GAME_DATE</th>\n",
       "      <th>MATCHUP</th>\n",
       "      <th>WL</th>\n",
       "      <th>MIN</th>\n",
       "      <th>PTS</th>\n",
       "      <th>...</th>\n",
       "      <th>FT_PCT</th>\n",
       "      <th>OREB</th>\n",
       "      <th>DREB</th>\n",
       "      <th>REB</th>\n",
       "      <th>AST</th>\n",
       "      <th>STL</th>\n",
       "      <th>BLK</th>\n",
       "      <th>TOV</th>\n",
       "      <th>PF</th>\n",
       "      <th>PLUS_MINUS</th>\n",
       "    </tr>\n",
       "  </thead>\n",
       "  <tbody>\n",
       "    <tr>\n",
       "      <th>2</th>\n",
       "      <td>22022</td>\n",
       "      <td>1610612741</td>\n",
       "      <td>CHI</td>\n",
       "      <td>Chicago Bulls</td>\n",
       "      <td>1522200032</td>\n",
       "      <td>2022-07-12</td>\n",
       "      <td>CHI @ TOR</td>\n",
       "      <td>W</td>\n",
       "      <td>201</td>\n",
       "      <td>93</td>\n",
       "      <td>...</td>\n",
       "      <td>0.643</td>\n",
       "      <td>4</td>\n",
       "      <td>26</td>\n",
       "      <td>30</td>\n",
       "      <td>20</td>\n",
       "      <td>9</td>\n",
       "      <td>1</td>\n",
       "      <td>18</td>\n",
       "      <td>14</td>\n",
       "      <td>16.8</td>\n",
       "    </tr>\n",
       "    <tr>\n",
       "      <th>41</th>\n",
       "      <td>22021</td>\n",
       "      <td>1610612741</td>\n",
       "      <td>CHI</td>\n",
       "      <td>Chicago Bulls</td>\n",
       "      <td>0022100430</td>\n",
       "      <td>2022-02-03</td>\n",
       "      <td>CHI @ TOR</td>\n",
       "      <td>L</td>\n",
       "      <td>265</td>\n",
       "      <td>120</td>\n",
       "      <td>...</td>\n",
       "      <td>0.917</td>\n",
       "      <td>10</td>\n",
       "      <td>41</td>\n",
       "      <td>51</td>\n",
       "      <td>30</td>\n",
       "      <td>8</td>\n",
       "      <td>7</td>\n",
       "      <td>17</td>\n",
       "      <td>19</td>\n",
       "      <td>-7.0</td>\n",
       "    </tr>\n",
       "    <tr>\n",
       "      <th>88</th>\n",
       "      <td>22021</td>\n",
       "      <td>1610612741</td>\n",
       "      <td>CHI</td>\n",
       "      <td>Chicago Bulls</td>\n",
       "      <td>0022100046</td>\n",
       "      <td>2021-10-25</td>\n",
       "      <td>CHI @ TOR</td>\n",
       "      <td>W</td>\n",
       "      <td>241</td>\n",
       "      <td>111</td>\n",
       "      <td>...</td>\n",
       "      <td>0.955</td>\n",
       "      <td>5</td>\n",
       "      <td>24</td>\n",
       "      <td>29</td>\n",
       "      <td>24</td>\n",
       "      <td>11</td>\n",
       "      <td>3</td>\n",
       "      <td>13</td>\n",
       "      <td>16</td>\n",
       "      <td>3.0</td>\n",
       "    </tr>\n",
       "    <tr>\n",
       "      <th>123</th>\n",
       "      <td>22020</td>\n",
       "      <td>1610612741</td>\n",
       "      <td>CHI</td>\n",
       "      <td>Chicago Bulls</td>\n",
       "      <td>0022000523</td>\n",
       "      <td>2021-04-08</td>\n",
       "      <td>CHI @ TOR</td>\n",
       "      <td>W</td>\n",
       "      <td>242</td>\n",
       "      <td>122</td>\n",
       "      <td>...</td>\n",
       "      <td>0.889</td>\n",
       "      <td>12</td>\n",
       "      <td>37</td>\n",
       "      <td>49</td>\n",
       "      <td>35</td>\n",
       "      <td>5</td>\n",
       "      <td>3</td>\n",
       "      <td>16</td>\n",
       "      <td>16</td>\n",
       "      <td>9.0</td>\n",
       "    </tr>\n",
       "    <tr>\n",
       "      <th>190</th>\n",
       "      <td>22019</td>\n",
       "      <td>1610612741</td>\n",
       "      <td>CHI</td>\n",
       "      <td>Chicago Bulls</td>\n",
       "      <td>0021900740</td>\n",
       "      <td>2020-02-02</td>\n",
       "      <td>CHI @ TOR</td>\n",
       "      <td>L</td>\n",
       "      <td>240</td>\n",
       "      <td>102</td>\n",
       "      <td>...</td>\n",
       "      <td>0.654</td>\n",
       "      <td>17</td>\n",
       "      <td>24</td>\n",
       "      <td>41</td>\n",
       "      <td>25</td>\n",
       "      <td>10</td>\n",
       "      <td>0</td>\n",
       "      <td>16</td>\n",
       "      <td>21</td>\n",
       "      <td>-27.0</td>\n",
       "    </tr>\n",
       "  </tbody>\n",
       "</table>\n",
       "<p>5 rows × 28 columns</p>\n",
       "</div>"
      ],
      "text/plain": [
       "    SEASON_ID     TEAM_ID TEAM_ABBREVIATION      TEAM_NAME     GAME_ID  \\\n",
       "2       22022  1610612741               CHI  Chicago Bulls  1522200032   \n",
       "41      22021  1610612741               CHI  Chicago Bulls  0022100430   \n",
       "88      22021  1610612741               CHI  Chicago Bulls  0022100046   \n",
       "123     22020  1610612741               CHI  Chicago Bulls  0022000523   \n",
       "190     22019  1610612741               CHI  Chicago Bulls  0021900740   \n",
       "\n",
       "      GAME_DATE    MATCHUP WL  MIN  PTS  ...  FT_PCT  OREB  DREB  REB  AST  \\\n",
       "2    2022-07-12  CHI @ TOR  W  201   93  ...   0.643     4    26   30   20   \n",
       "41   2022-02-03  CHI @ TOR  L  265  120  ...   0.917    10    41   51   30   \n",
       "88   2021-10-25  CHI @ TOR  W  241  111  ...   0.955     5    24   29   24   \n",
       "123  2021-04-08  CHI @ TOR  W  242  122  ...   0.889    12    37   49   35   \n",
       "190  2020-02-02  CHI @ TOR  L  240  102  ...   0.654    17    24   41   25   \n",
       "\n",
       "     STL  BLK  TOV  PF  PLUS_MINUS  \n",
       "2      9    1   18  14        16.8  \n",
       "41     8    7   17  19        -7.0  \n",
       "88    11    3   13  16         3.0  \n",
       "123    5    3   16  16         9.0  \n",
       "190   10    0   16  21       -27.0  \n",
       "\n",
       "[5 rows x 28 columns]"
      ]
     },
     "execution_count": 82,
     "metadata": {},
     "output_type": "execute_result"
    }
   ],
   "source": [
    "games_away.head()"
   ]
  },
  {
   "cell_type": "code",
   "execution_count": 83,
   "id": "ae1ef113-ff1a-4358-868d-f9bab295f8ec",
   "metadata": {},
   "outputs": [
    {
     "data": {
      "image/png": "[encoded data removed]",
      "text/plain": [
       "<Figure size 640x480 with 1 Axes>"
      ]
     },
     "metadata": {},
     "output_type": "display_data"
    }
   ],
   "source": [
    "import matplotlib.pyplot as plt\n",
    "\n",
    "fig, ax = plt.subplots()\n",
    "games_away.plot(x='GAME_DATE', y=\"PLUS_MINUS\", ax=ax)\n",
    "games_home.plot(x='GAME_DATE', y=\"PLUS_MINUS\", ax=ax)\n",
    "ax.legend([\"away\", \"home\"])\n",
    "plt.show()"
   ]
  },
  {
   "cell_type": "markdown",
   "id": "757ec310-691e-4e4d-9934-3f9cec828e8a",
   "metadata": {},
   "source": [
    "# API DE INTELIGENCIA ARTIFICIAL"
   ]
  },
  {
   "cell_type": "markdown",
   "id": "28213cd3-5000-433f-a9f0-a9ccbf6acc72",
   "metadata": {},
   "source": [
    "- Que es una API KEY: Es un conjunto de caracteres unicos que las API usan para identificar usuarios y autorizarlo para su uso\n",
    "- Que es un Endpoint: Un punto de destino (endpoint) es la direccion en la que el servicio esta localizado. Se usa para encntrar la API en internet.\n"
   ]
  },
  {
   "cell_type": "code",
   "execution_count": 85,
   "id": "021bff42-a3a7-404c-8216-f175d6c79448",
   "metadata": {},
   "outputs": [],
   "source": [
    "# POR ESTAR EN MAC TENGO QUE AGREGAR CERTIFICADOS SSL\n",
    "import ssl\n",
    "\n",
    "ssl._create_default_https_context = ssl._create_unverified_context"
   ]
  },
  {
   "cell_type": "code",
   "execution_count": 98,
   "id": "2b1d2cf7-d763-4302-8820-d14433d6c24f",
   "metadata": {},
   "outputs": [],
   "source": [
    "# python3.8 -m pip install ibm_watson  IMPORTANDO IBM WATSON\n",
    "from ibm_watson import SpeechToTextV1 # importamos Speech to Text\n",
    "from ibm_cloud_sdk_core.authenticators import IAMAuthenticator # importamos el autenticador\n",
    "\n",
    "# api_key = 'jYt_YXv5NM9YVSw36Htcd8R8y9D1w8FsuVKq6PAsptFL'\n",
    "api_key = 'YA-BuStCD2C3mTqXw7XSmOIjZTc9nB-QTfxS5unsIJZN'\n",
    "url_s2t = \"https://api.us-south.speech-to-text.watson.cloud.ibm.com/instances/4c35ed49-15bb-4422-b432-f7b79b9506dd\"\n",
    "\n",
    "authenticator = IAMAuthenticator(api_key)\n",
    "speech_to_text = SpeechToTextV1(\n",
    "    authenticator=authenticator\n",
    ")\n",
    "speech_to_text.set_disable_ssl_verification(True)\n",
    "\n",
    "# speech_to_text.set_service_url('https://api.us-east.speech-to-text.watson.cloud.ibm.com')"
   ]
  },
  {
   "cell_type": "code",
   "execution_count": 102,
   "id": "9a492ab2-8ce9-4a52-84e1-57a8f7368360",
   "metadata": {},
   "outputs": [
    {
     "data": {
      "text/plain": [
       "{'result_index': 0,\n",
       " 'results': [{'final': True,\n",
       "   'alternatives': [{'transcript': 'hello ', 'confidence': 0.83}]},\n",
       "  {'final': True,\n",
       "   'alternatives': [{'transcript': 'my name is minimal ',\n",
       "     'confidence': 0.68}]}]}"
      ]
     },
     "execution_count": 102,
     "metadata": {},
     "output_type": "execute_result"
    }
   ],
   "source": [
    "filename = 'SampleAudio.mp3'\n",
    "\n",
    "with open(filename, mode='rb') as mp3: # ABRIMOS EL ARCHIVO EN MODO 'rb' Lo que quiere decir en Formato Binario\n",
    "    response = speech_to_text.recognize(audio=mp3, content_type='audio/mp3')\n",
    "\n",
    "response.result    "
   ]
  },
  {
   "cell_type": "code",
   "execution_count": 105,
   "id": "74d23471-af52-48a0-aae7-6304acdfaafd",
   "metadata": {},
   "outputs": [
    {
     "data": {
      "text/plain": [
       "'my name is minimal '"
      ]
     },
     "execution_count": 105,
     "metadata": {},
     "output_type": "execute_result"
    }
   ],
   "source": [
    "texto = response.result['results'][1]['alternatives'][0]['transcript']\n",
    "texto"
   ]
  },
  {
   "cell_type": "code",
   "execution_count": 114,
   "id": "aa564164-da35-466f-97b9-c8d9cf925e7c",
   "metadata": {},
   "outputs": [],
   "source": [
    "from ibm_watson import LanguageTranslatorV3\n",
    "version_lt = '2018-05-01'\n",
    "ltURL = 'https://api.us-south.language-translator.watson.cloud.ibm.com/instances/5272949b-8df2-45e7-b067-72872b348506'\n",
    "ltApiKey = 'zDsqdCcHrBJ8OqRbV9054QIx0sNrI14E9hvD3OIwyF7v'\n",
    "ltauthenticator = IAMAuthenticator(ltApiKey)\n",
    "\n",
    "language_translator = LanguageTranslatorV3(\n",
    "    version=version_lt,\n",
    "    authenticator=ltauthenticator\n",
    ")\n",
    "# language_translator.set_service_url(ltURL)"
   ]
  },
  {
   "cell_type": "code",
   "execution_count": 115,
   "id": "936de992-bec6-4419-a732-45ea20b5b32c",
   "metadata": {},
   "outputs": [
    {
     "data": {
      "text/plain": [
       "{'languages': [{'language': 'af', 'name': 'Afrikaans'},\n",
       "  {'language': 'ar', 'name': 'Arabic'},\n",
       "  {'language': 'az', 'name': 'Azerbaijani'},\n",
       "  {'language': 'ba', 'name': 'Bashkir'},\n",
       "  {'language': 'be', 'name': 'Belarusian'},\n",
       "  {'language': 'bg', 'name': 'Bulgarian'},\n",
       "  {'language': 'bn', 'name': 'Bengali'},\n",
       "  {'language': 'ca', 'name': 'Catalan'},\n",
       "  {'language': 'cs', 'name': 'Czech'},\n",
       "  {'language': 'cv', 'name': 'Chuvash'},\n",
       "  {'language': 'cy', 'name': 'Welsh'},\n",
       "  {'language': 'da', 'name': 'Danish'},\n",
       "  {'language': 'de', 'name': 'German'},\n",
       "  {'language': 'el', 'name': 'Greek'},\n",
       "  {'language': 'en', 'name': 'English'},\n",
       "  {'language': 'eo', 'name': 'Esperanto'},\n",
       "  {'language': 'es', 'name': 'Spanish'},\n",
       "  {'language': 'et', 'name': 'Estonian'},\n",
       "  {'language': 'eu', 'name': 'Basque'},\n",
       "  {'language': 'fa', 'name': 'Persian'},\n",
       "  {'language': 'fi', 'name': 'Finnish'},\n",
       "  {'language': 'fr', 'name': 'French'},\n",
       "  {'language': 'ga', 'name': 'Irish'},\n",
       "  {'language': 'gu', 'name': 'Gujarati'},\n",
       "  {'language': 'he', 'name': 'Hebrew'},\n",
       "  {'language': 'hi', 'name': 'Hindi'},\n",
       "  {'language': 'hr', 'name': 'Croatian'},\n",
       "  {'language': 'ht', 'name': 'Haitian'},\n",
       "  {'language': 'hu', 'name': 'Hungarian'},\n",
       "  {'language': 'hy', 'name': 'Armenian'},\n",
       "  {'language': 'is', 'name': 'Icelandic'},\n",
       "  {'language': 'it', 'name': 'Italian'},\n",
       "  {'language': 'ja', 'name': 'Japanese'},\n",
       "  {'language': 'ka', 'name': 'Georgian'},\n",
       "  {'language': 'kk', 'name': 'Kazakh'},\n",
       "  {'language': 'km', 'name': 'Central Khmer'},\n",
       "  {'language': 'ko', 'name': 'Korean'},\n",
       "  {'language': 'ku', 'name': 'Kurdish'},\n",
       "  {'language': 'ky', 'name': 'Kirghiz'},\n",
       "  {'language': 'lo', 'name': 'Lao'},\n",
       "  {'language': 'lt', 'name': 'Lithuanian'},\n",
       "  {'language': 'lv', 'name': 'Latvian'},\n",
       "  {'language': 'ml', 'name': 'Malayalam'},\n",
       "  {'language': 'mn', 'name': 'Mongolian'},\n",
       "  {'language': 'mr', 'name': 'Marathi'},\n",
       "  {'language': 'ms', 'name': 'Malay'},\n",
       "  {'language': 'mt', 'name': 'Maltese'},\n",
       "  {'language': 'my', 'name': 'Burmese'},\n",
       "  {'language': 'nb', 'name': 'Norwegian Bokmal'},\n",
       "  {'language': 'ne', 'name': 'Nepali'},\n",
       "  {'language': 'nl', 'name': 'Dutch'},\n",
       "  {'language': 'nn', 'name': 'Norwegian Nynorsk'},\n",
       "  {'language': 'pa', 'name': 'Punjabi'},\n",
       "  {'language': 'pa-PK', 'name': 'Punjabi (Shahmukhi script, Pakistan)'},\n",
       "  {'language': 'pl', 'name': 'Polish'},\n",
       "  {'language': 'ps', 'name': 'Pushto'},\n",
       "  {'language': 'pt', 'name': 'Portuguese'},\n",
       "  {'language': 'ro', 'name': 'Romanian'},\n",
       "  {'language': 'ru', 'name': 'Russian'},\n",
       "  {'language': 'si', 'name': 'Sinhala'},\n",
       "  {'language': 'sk', 'name': 'Slovakian'},\n",
       "  {'language': 'sl', 'name': 'Slovenian'},\n",
       "  {'language': 'so', 'name': 'Somali'},\n",
       "  {'language': 'sq', 'name': 'Albanian'},\n",
       "  {'language': 'sr', 'name': 'Serbian'},\n",
       "  {'language': 'sv', 'name': 'Swedish'},\n",
       "  {'language': 'ta', 'name': 'Tamil'},\n",
       "  {'language': 'te', 'name': 'Telugu'},\n",
       "  {'language': 'th', 'name': 'Thai'},\n",
       "  {'language': 'tl', 'name': 'Tagalog'},\n",
       "  {'language': 'tr', 'name': 'Turkish'},\n",
       "  {'language': 'uk', 'name': 'Ukrainian'},\n",
       "  {'language': 'ur', 'name': 'Urdu'},\n",
       "  {'language': 'vi', 'name': 'Vietnamese'},\n",
       "  {'language': 'zh', 'name': 'Simplified Chinese'},\n",
       "  {'language': 'zh-TW', 'name': 'Traditional Chinese'}]}"
      ]
     },
     "execution_count": 115,
     "metadata": {},
     "output_type": "execute_result"
    }
   ],
   "source": [
    "language_translator.list_identifiable_languages().get_result()"
   ]
  },
  {
   "cell_type": "code",
   "execution_count": 121,
   "id": "a8aa3fff-73f1-4afe-b37e-592ee049c4b9",
   "metadata": {},
   "outputs": [
    {
     "data": {
      "text/plain": [
       "{'translations': [{'translation': 'Hola mi nombre es Ilse y soy un doctor. Tengo 30 años y estoy embarazada'}],\n",
       " 'word_count': 20,\n",
       " 'character_count': 73}"
      ]
     },
     "execution_count": 121,
     "metadata": {},
     "output_type": "execute_result"
    }
   ],
   "source": [
    "text2 = \"Hello My Name is Ilse and I'm a Doctor. I'm 30 years old and I'm pregnant\"\n",
    "translation = language_translator.translate(text2, model_id='en-es')\n",
    "translation.get_result()"
   ]
  },
  {
   "cell_type": "code",
   "execution_count": 125,
   "id": "85257055-5bd3-4e1f-9a5d-5f49347b5f18",
   "metadata": {},
   "outputs": [
    {
     "name": "stdout",
     "output_type": "stream",
     "text": [
      "Hola mi nombre es Ilse y soy un doctor. Tengo 30 años y estoy embarazada\n",
      "Hello my name is Ilse and I am a doctor. I'm 30 and I'm pregnant\n"
     ]
    }
   ],
   "source": [
    "textoespañol = translation.get_result()['translations'][0]['translation']\n",
    "print(textoespañol)\n",
    "transEng = language_translator.translate(text=textoespañol, model_id='es-en').get_result()['translations'][0]['translation']\n",
    "print(transEng)"
   ]
  },
  {
   "cell_type": "code",
   "execution_count": null,
   "id": "c1436ab1-12b0-4f20-86a6-3e290ed49600",
   "metadata": {},
   "outputs": [],
   "source": []
  }
 ],
 "metadata": {
  "kernelspec": {
   "display_name": "Python 3 (ipykernel)",
   "language": "python",
   "name": "python3"
  },
  "language_info": {
   "codemirror_mode": {
    "name": "ipython",
    "version": 3
   },
   "file_extension": ".py",
   "mimetype": "text/x-python",
   "name": "python",
   "nbconvert_exporter": "python",
   "pygments_lexer": "ipython3",
   "version": "3.8.5"
  }
 },
 "nbformat": 4,
 "nbformat_minor": 5
}
