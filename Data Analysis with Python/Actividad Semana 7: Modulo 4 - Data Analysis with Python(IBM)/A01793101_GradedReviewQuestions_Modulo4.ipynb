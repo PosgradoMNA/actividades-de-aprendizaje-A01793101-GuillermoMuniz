{
 "cells": [
  {
   "cell_type": "code",
   "execution_count": 1,
   "id": "74078895-20f6-453e-9cd8-396b2ba9dbc9",
   "metadata": {},
   "outputs": [],
   "source": [
    "import pandas as pd\n",
    "import numpy as np\n",
    "import matplotlib.pyplot as plt\n",
    "import ssl\n",
    "ssl._create_default_https_context = ssl._create_unverified_context"
   ]
  },
  {
   "cell_type": "markdown",
   "id": "824b0bee-9a03-4aa6-8680-8807aba35236",
   "metadata": {},
   "source": [
    "# Question1 \n",
    "\n",
    "Let X be a dataframe with 100 rows and 5 columns. Let y be the target with 100 samples. Assuming all the relevant libraries and data have been imported, the following line of code has been executed:\n",
    "\n",
    "LR = LinearRegression()\n",
    "\n",
    "LR.fit(X, y)\n",
    "\n",
    "yhat = LR.predict(X)\n",
    "\n",
    "How many samples does yhat contain?"
   ]
  },
  {
   "cell_type": "markdown",
   "id": "629b1e3a-438f-4288-89b7-24c2f5d9c7af",
   "metadata": {},
   "source": [
    "100"
   ]
  },
  {
   "cell_type": "markdown",
   "id": "417d0319-522c-4b94-8a1b-33fe2e85b721",
   "metadata": {},
   "source": [
    "# QUESTION 2\n",
    "\n",
    "What value of R^2 (coefficient of determination) indicates your model performs best?"
   ]
  },
  {
   "cell_type": "markdown",
   "id": "4553d82f-7ad6-446c-b6eb-62abd5b70af7",
   "metadata": {},
   "source": [
    "1"
   ]
  },
  {
   "cell_type": "markdown",
   "id": "fb268fbe-1256-46de-ab39-7a98a7986b10",
   "metadata": {},
   "source": [
    "# QUESTION 3\n",
    "Which statement is true about polynomial linear regression?"
   ]
  },
  {
   "cell_type": "markdown",
   "id": "4ce415a6-dc62-4926-a2bd-eec0b0e7c300",
   "metadata": {},
   "source": [
    "Although the predictor variables of polynomial linear regression are not linear, the relationship between the parameters or coefficients is linear."
   ]
  },
  {
   "cell_type": "markdown",
   "id": "1520d187-ed34-4d46-8135-4700f376903b",
   "metadata": {},
   "source": [
    "# QUESTION 4\n",
    "\n",
    "The larger the mean squared error, the better your model performs:"
   ]
  },
  {
   "cell_type": "markdown",
   "id": "9ac8c345-853e-4f4f-bc8d-d3a4da333046",
   "metadata": {},
   "source": [
    "False"
   ]
  },
  {
   "cell_type": "markdown",
   "id": "e09b3bbb-a102-4557-afde-e0089075a84b",
   "metadata": {},
   "source": [
    "# QUESTION 5\n",
    "\n",
    "Assume all the libraries are imported. y is the target and X is the features or dependent variables. Consider the following lines of code:\n",
    "\n",
    "Input=[('scale',StandardScaler()),('model',LinearRegression())]\n",
    "\n",
    "pipe=Pipeline(Input)\n",
    "\n",
    "pipe.fit(X,y)\n",
    "\n",
    "ypipe=pipe.predict(X)\n",
    "\n",
    "What is the result of ypipe?\n"
   ]
  },
  {
   "cell_type": "markdown",
   "id": "5ac41106-0ce9-46fc-8915-3265d519b2b3",
   "metadata": {},
   "source": [
    "Standardize the data, then perform prediction using a linear regression model."
   ]
  },
  {
   "cell_type": "code",
   "execution_count": null,
   "id": "6cc28e14-df14-4edb-bbc3-82257f0d3b1c",
   "metadata": {},
   "outputs": [],
   "source": []
  }
 ],
 "metadata": {
  "kernelspec": {
   "display_name": "Python 3 (ipykernel)",
   "language": "python",
   "name": "python3"
  },
  "language_info": {
   "codemirror_mode": {
    "name": "ipython",
    "version": 3
   },
   "file_extension": ".py",
   "mimetype": "text/x-python",
   "name": "python",
   "nbconvert_exporter": "python",
   "pygments_lexer": "ipython3",
   "version": "3.8.5"
  }
 },
 "nbformat": 4,
 "nbformat_minor": 5
}
