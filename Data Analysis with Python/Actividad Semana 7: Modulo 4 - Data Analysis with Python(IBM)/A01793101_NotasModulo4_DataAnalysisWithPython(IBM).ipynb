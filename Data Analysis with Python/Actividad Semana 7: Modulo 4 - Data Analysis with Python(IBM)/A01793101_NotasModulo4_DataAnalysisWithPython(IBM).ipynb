{
 "cells": [
  {
   "cell_type": "markdown",
   "id": "ac7ff849-2798-40a8-9d5c-f8f05cecf37b",
   "metadata": {},
   "source": [
    "# MODULO 4: DESARROLLO DE UN MODELO\n",
    "### Autor: Guillermo Alfonso Muñiz Hermosillo\n",
    "### Matricula: A01793101\n",
    "### Curso: Ciencia y Analitica de Datos\n",
    "<h1><center>PROGRESO DEL CURSO:</center></h1>\n",
    "<img src='./imagenes/A01793101_ProgresoMod4.png'>\n",
    "\n",
    "<h1><center>GRADED REVIEW QUESTIONS:</center></h1>\n",
    "<img src='./imagenes/A01793101_GradedReviewQuestionsMod4.png'>"
   ]
  },
  {
   "cell_type": "markdown",
   "id": "95545232-6a09-4f5c-b7e3-c5a2fff65a2d",
   "metadata": {},
   "source": [
    "## QUE ES UN MODELO?\n",
    "\n",
    "Un modelo se puede definir como una ecuacion matematica que usamos para predecir uno o mas valores determinado.\n",
    "\n",
    "Relacionar uno o mas variables independientes a otras dependientes\n",
    "\n",
    "**Mientras mas relevante sea nuestra informacion, mejor sera el modelo**"
   ]
  },
  {
   "cell_type": "markdown",
   "id": "9642acdf-5b20-4349-8e4d-99cb4f96af1d",
   "metadata": {},
   "source": [
    "## REGRESION LINEAL SIMPLE\n",
    "\n",
    "Se refiere a una variable independiente capaz de hacer una prediccion. Este metodo nos ayuda a comprender la relacion entre 2 variables:\n",
    "\n",
    "- El predictor X (independiente)\n",
    "- El objetivo y (dependiente)\n",
    "\n",
    "y = b0 + b1X\n",
    "\n",
    "    - b0: La intercepcion\n",
    "    - b1: La pendiente"
   ]
  },
  {
   "cell_type": "code",
   "execution_count": 3,
   "id": "b8fb3659-3fc5-428a-9d73-8b0d5f8f00e8",
   "metadata": {},
   "outputs": [
    {
     "data": {
      "text/html": [
       "<div>\n",
       "<style scoped>\n",
       "    .dataframe tbody tr th:only-of-type {\n",
       "        vertical-align: middle;\n",
       "    }\n",
       "\n",
       "    .dataframe tbody tr th {\n",
       "        vertical-align: top;\n",
       "    }\n",
       "\n",
       "    .dataframe thead th {\n",
       "        text-align: right;\n",
       "    }\n",
       "</style>\n",
       "<table border=\"1\" class=\"dataframe\">\n",
       "  <thead>\n",
       "    <tr style=\"text-align: right;\">\n",
       "      <th></th>\n",
       "      <th>symboling</th>\n",
       "      <th>normalized-losses</th>\n",
       "      <th>make</th>\n",
       "      <th>fuel-type</th>\n",
       "      <th>aspiration</th>\n",
       "      <th>num-of-doors</th>\n",
       "      <th>body-style</th>\n",
       "      <th>drive-wheels</th>\n",
       "      <th>engine-location</th>\n",
       "      <th>wheel-base</th>\n",
       "      <th>...</th>\n",
       "      <th>fuel-system</th>\n",
       "      <th>bore</th>\n",
       "      <th>stroke</th>\n",
       "      <th>compression-ratio</th>\n",
       "      <th>horse-power</th>\n",
       "      <th>peak-rpm</th>\n",
       "      <th>city-mpg</th>\n",
       "      <th>highway-mpg</th>\n",
       "      <th>price</th>\n",
       "      <th>city-L/100km</th>\n",
       "    </tr>\n",
       "  </thead>\n",
       "  <tbody>\n",
       "    <tr>\n",
       "      <th>0</th>\n",
       "      <td>3</td>\n",
       "      <td>122.0</td>\n",
       "      <td>alfa-romero</td>\n",
       "      <td>gas</td>\n",
       "      <td>std</td>\n",
       "      <td>two</td>\n",
       "      <td>convertible</td>\n",
       "      <td>rwd</td>\n",
       "      <td>front</td>\n",
       "      <td>88.6</td>\n",
       "      <td>...</td>\n",
       "      <td>mpfi</td>\n",
       "      <td>3.47</td>\n",
       "      <td>2.68</td>\n",
       "      <td>9.0</td>\n",
       "      <td>111.0</td>\n",
       "      <td>5000</td>\n",
       "      <td>21</td>\n",
       "      <td>27</td>\n",
       "      <td>13495.0</td>\n",
       "      <td>11.190476</td>\n",
       "    </tr>\n",
       "    <tr>\n",
       "      <th>1</th>\n",
       "      <td>3</td>\n",
       "      <td>122.0</td>\n",
       "      <td>alfa-romero</td>\n",
       "      <td>gas</td>\n",
       "      <td>std</td>\n",
       "      <td>two</td>\n",
       "      <td>convertible</td>\n",
       "      <td>rwd</td>\n",
       "      <td>front</td>\n",
       "      <td>88.6</td>\n",
       "      <td>...</td>\n",
       "      <td>mpfi</td>\n",
       "      <td>3.47</td>\n",
       "      <td>2.68</td>\n",
       "      <td>9.0</td>\n",
       "      <td>111.0</td>\n",
       "      <td>5000</td>\n",
       "      <td>21</td>\n",
       "      <td>27</td>\n",
       "      <td>16500.0</td>\n",
       "      <td>11.190476</td>\n",
       "    </tr>\n",
       "    <tr>\n",
       "      <th>2</th>\n",
       "      <td>1</td>\n",
       "      <td>122.0</td>\n",
       "      <td>alfa-romero</td>\n",
       "      <td>gas</td>\n",
       "      <td>std</td>\n",
       "      <td>two</td>\n",
       "      <td>hatchback</td>\n",
       "      <td>rwd</td>\n",
       "      <td>front</td>\n",
       "      <td>94.5</td>\n",
       "      <td>...</td>\n",
       "      <td>mpfi</td>\n",
       "      <td>2.68</td>\n",
       "      <td>3.47</td>\n",
       "      <td>9.0</td>\n",
       "      <td>154.0</td>\n",
       "      <td>5000</td>\n",
       "      <td>19</td>\n",
       "      <td>26</td>\n",
       "      <td>16500.0</td>\n",
       "      <td>12.368421</td>\n",
       "    </tr>\n",
       "    <tr>\n",
       "      <th>3</th>\n",
       "      <td>2</td>\n",
       "      <td>164.0</td>\n",
       "      <td>audi</td>\n",
       "      <td>gas</td>\n",
       "      <td>std</td>\n",
       "      <td>four</td>\n",
       "      <td>sedan</td>\n",
       "      <td>fwd</td>\n",
       "      <td>front</td>\n",
       "      <td>99.8</td>\n",
       "      <td>...</td>\n",
       "      <td>mpfi</td>\n",
       "      <td>3.19</td>\n",
       "      <td>3.40</td>\n",
       "      <td>10.0</td>\n",
       "      <td>102.0</td>\n",
       "      <td>5500</td>\n",
       "      <td>24</td>\n",
       "      <td>30</td>\n",
       "      <td>13950.0</td>\n",
       "      <td>9.791667</td>\n",
       "    </tr>\n",
       "    <tr>\n",
       "      <th>4</th>\n",
       "      <td>2</td>\n",
       "      <td>164.0</td>\n",
       "      <td>audi</td>\n",
       "      <td>gas</td>\n",
       "      <td>std</td>\n",
       "      <td>four</td>\n",
       "      <td>sedan</td>\n",
       "      <td>4wd</td>\n",
       "      <td>front</td>\n",
       "      <td>99.4</td>\n",
       "      <td>...</td>\n",
       "      <td>mpfi</td>\n",
       "      <td>3.19</td>\n",
       "      <td>3.40</td>\n",
       "      <td>8.0</td>\n",
       "      <td>115.0</td>\n",
       "      <td>5500</td>\n",
       "      <td>18</td>\n",
       "      <td>22</td>\n",
       "      <td>17450.0</td>\n",
       "      <td>13.055556</td>\n",
       "    </tr>\n",
       "  </tbody>\n",
       "</table>\n",
       "<p>5 rows × 27 columns</p>\n",
       "</div>"
      ],
      "text/plain": [
       "   symboling  normalized-losses         make fuel-type aspiration  \\\n",
       "0          3              122.0  alfa-romero       gas        std   \n",
       "1          3              122.0  alfa-romero       gas        std   \n",
       "2          1              122.0  alfa-romero       gas        std   \n",
       "3          2              164.0         audi       gas        std   \n",
       "4          2              164.0         audi       gas        std   \n",
       "\n",
       "  num-of-doors   body-style drive-wheels engine-location  wheel-base  ...  \\\n",
       "0          two  convertible          rwd           front        88.6  ...   \n",
       "1          two  convertible          rwd           front        88.6  ...   \n",
       "2          two    hatchback          rwd           front        94.5  ...   \n",
       "3         four        sedan          fwd           front        99.8  ...   \n",
       "4         four        sedan          4wd           front        99.4  ...   \n",
       "\n",
       "   fuel-system  bore  stroke  compression-ratio horse-power peak-rpm  \\\n",
       "0         mpfi  3.47    2.68                9.0       111.0     5000   \n",
       "1         mpfi  3.47    2.68                9.0       111.0     5000   \n",
       "2         mpfi  2.68    3.47                9.0       154.0     5000   \n",
       "3         mpfi  3.19    3.40               10.0       102.0     5500   \n",
       "4         mpfi  3.19    3.40                8.0       115.0     5500   \n",
       "\n",
       "   city-mpg highway-mpg    price city-L/100km  \n",
       "0        21          27  13495.0    11.190476  \n",
       "1        21          27  16500.0    11.190476  \n",
       "2        19          26  16500.0    12.368421  \n",
       "3        24          30  13950.0     9.791667  \n",
       "4        18          22  17450.0    13.055556  \n",
       "\n",
       "[5 rows x 27 columns]"
      ]
     },
     "execution_count": 3,
     "metadata": {},
     "output_type": "execute_result"
    }
   ],
   "source": [
    "import pandas as pd\n",
    "import numpy as np\n",
    "import ssl\n",
    "ssl._create_default_https_context = ssl._create_unverified_context\n",
    "\n",
    "\n",
    "df = pd.read_csv('Cars.csv')\n",
    "\n",
    "df.head()"
   ]
  },
  {
   "cell_type": "markdown",
   "id": "4ba67034-f409-4fcd-a84c-aeb774f14128",
   "metadata": {},
   "source": [
    "Si asumimos que existe una relacion linear entre 2 variables podemos usar esta relacion para formular un modelo que determine nuestra prediccion de dicha relacion. \n",
    "\n",
    "Para determinar la linea de la recta, tomamos los puntos de datos de nuestro conjunto de datos como parametros. La variable que queremos predecir es usualmente llamada el objetivo yse almacena en un dataframe en el cual cada muestra corresponde a una fila de datos de otro arreglo con los puntos de informacion X.\n",
    "\n",
    "\n",
    "El ruido es un valor agregado a nuestros datos para añadir cierta incertidumbre presente en la obtencion del valor objetivo.\n",
    "\n",
    "El proceso final se resume asi:\n",
    "\n",
    "- Tenemos un conjunto de datos de entrenamiento, los cuales usamos para entrenar el morelo y obtener parametros.\n",
    "- Despues usamos estos parametros en el modelo.\n",
    "- Con el model completado, realizamos una prediccion o estimacion de nuestra variable de salida para valores que no hayamos observado.\n"
   ]
  },
  {
   "cell_type": "code",
   "execution_count": 11,
   "id": "1bc60152-da76-441b-a178-ed0d8e3cd4f2",
   "metadata": {},
   "outputs": [
    {
     "data": {
      "text/plain": [
       "array([[16236.50464347],\n",
       "       [16236.50464347],\n",
       "       [17058.23802179],\n",
       "       [13771.3045085 ],\n",
       "       [20345.17153508]])"
      ]
     },
     "execution_count": 11,
     "metadata": {},
     "output_type": "execute_result"
    }
   ],
   "source": [
    "# 1-  Importamos la libreria LinearRegression de Scikit-learn\n",
    "from sklearn.linear_model import LinearRegression\n",
    "# 2- Creamos un objeto de regresion lineal usando el constructor\n",
    "lm = LinearRegression()\n",
    "# 3 Definimos la variable predictora y el objetivo.\n",
    "X = df[['highway-mpg']]\n",
    "y = df[['price']]\n",
    "# 4- Usamos el metodo fit de nuestro modelo (lm) para encontrar los parametros b0 y b1\n",
    "lm.fit(X,y)\n",
    "# 5- Obtenemos una prediccion usando el metodo predict de nuestro modelo\n",
    "yhat = lm.predict(X)\n",
    "\n",
    "# La salida tiene el mismo numero de datos que la muestra de datos X.\n",
    "yhat[0:5]\n"
   ]
  },
  {
   "cell_type": "code",
   "execution_count": 7,
   "id": "6db123be-1e8c-4a56-abbf-f2cacb266433",
   "metadata": {},
   "outputs": [
    {
     "name": "stdout",
     "output_type": "stream",
     "text": [
      "[38423.30585816]\n",
      "[[-821.73337832]]\n"
     ]
    }
   ],
   "source": [
    "# Podemos observar el atributo b0:\n",
    "print(lm.intercept_)\n",
    "# Tambien el atributo b1\n",
    "print(lm.coef_)"
   ]
  },
  {
   "cell_type": "markdown",
   "id": "63d637b8-5066-4084-9cfc-cc7342763f79",
   "metadata": {},
   "source": [
    "**La relacion entre el precio y el Millaje por galon en carretera se define con la siguiente ecuacion:**\n",
    "\n",
    "Price = 38423.30585816 - 821.73 * highway-mpg\n",
    "\n",
    "  Yhat  =       b0      +  b1   *      X"
   ]
  },
  {
   "cell_type": "markdown",
   "id": "abd7b71e-0769-499e-a11f-5a95d322e498",
   "metadata": {},
   "source": [
    "## REGRESION LINEAR MULTIPLE (MLR)\n",
    "\n",
    "Usamos la regresion lineal multiple para explicar la relacion entre una variable continua llamada objetivo (Y) y 2 o mas variables predictoras (X)\n",
    "\n",
    "Por lo que si por ejemplo tuvieramos 3 variables predictoras:\n",
    "\n",
    "Y_hat = b0 + b1X1 + b2X2 + b3X3\n",
    "\n",
    "Donde:\n",
    "\n",
    "    - b0 = Intercepcion (X = 0)\n",
    "    - b1 = El coeficiente o parametro de X1\n",
    "    - b2 = El coeficiente o parametro de X2\n",
    "    - b3 = El coeficiente o parametro de X3"
   ]
  },
  {
   "cell_type": "code",
   "execution_count": 16,
   "id": "68f2a745-3812-4fa8-8e4b-6e30fac4e161",
   "metadata": {},
   "outputs": [
    {
     "data": {
      "text/plain": [
       "array([13699.00138847, 13699.00138847, 19055.18075089, 10621.20889105,\n",
       "       15519.94133137])"
      ]
     },
     "execution_count": 16,
     "metadata": {},
     "output_type": "execute_result"
    }
   ],
   "source": [
    "# 1.- Extraemos nuestras variables predictoras (X)\n",
    "test = df[['horse-power', 'curb-weight', 'engine-size', 'highway-mpg']]\n",
    "# 2.- Entrenamos el modelo con estas variables usando el metodo fit.\n",
    "lm.fit(test, df['price'])\n",
    "# 3.- Obtenemos nuestra prediccion usando el metodo predict\n",
    "yhatmlr = lm.predict(test)\n",
    "\n",
    "yhatmlr[0:5]"
   ]
  },
  {
   "cell_type": "markdown",
   "id": "64083fbe-60b1-49e7-ac16-9ea3d70679c2",
   "metadata": {},
   "source": [
    "En el caso anterior, la entrada es un dataframe con 4 columnas diferentes.\n",
    "La salida es un arreglo con el mismo numero de elementos (filas).\n",
    "\n",
    "La intercepcion es un atributo del objeto asi como los coeficientes."
   ]
  },
  {
   "cell_type": "code",
   "execution_count": 17,
   "id": "69bfd627-cef5-4ed5-ad40-1a3c1b695682",
   "metadata": {},
   "outputs": [
    {
     "name": "stdout",
     "output_type": "stream",
     "text": [
      "-15824.03820823447\n",
      "[53.61042729  4.70886444 81.47225667 36.39637823]\n"
     ]
    }
   ],
   "source": [
    "print(lm.intercept_)\n",
    "print(lm.coef_)"
   ]
  },
  {
   "cell_type": "markdown",
   "id": "4ea4f760-4e71-448a-a0af-59f467bfddb8",
   "metadata": {},
   "source": [
    "Por lo tanto la formula para este modelo seria:\n",
    "\n",
    "Price = -15824.03820823447 + (53.61042729 * horse-power) + (4.70886444 * curb-weight + (81.47225667 * engine-size) + (36.39637823 * highway-mpg))\n",
    "\n",
    "Y_hat = b0 + b1X1 + b2X2 + b3X3"
   ]
  },
  {
   "cell_type": "markdown",
   "id": "141431d9-75e0-4dea-96e8-e784185bbb88",
   "metadata": {},
   "source": [
    "## Evaluacion de modelos utilizando Visualizacion\n",
    "\n",
    "Graficos de regresion son buenos para observar\n",
    "\n",
    "- La relacion entre 2 variables.\n",
    "- La fuerza de la correlacion entre ellas.\n",
    "- La direccion de dicha relacion (positiva o negativa)"
   ]
  },
  {
   "cell_type": "code",
   "execution_count": 19,
   "id": "6fa85e3d-f386-44a4-9359-2a622833e370",
   "metadata": {},
   "outputs": [
    {
     "data": {
      "text/plain": [
       "(0.0, 48169.62263031104)"
      ]
     },
     "execution_count": 19,
     "metadata": {},
     "output_type": "execute_result"
    },
    {
     "data": {
      "image/png": "[encoded data removed]",
      "text/plain": [
       "<Figure size 640x480 with 1 Axes>"
      ]
     },
     "metadata": {},
     "output_type": "display_data"
    }
   ],
   "source": [
    "import seaborn as sns\n",
    "import matplotlib.pyplot as plt\n",
    "\n",
    "sns.regplot(x='highway-mpg', y='price', data=df)\n",
    "plt.ylim(0,)"
   ]
  },
  {
   "cell_type": "markdown",
   "id": "bb4ba2ec-e4b9-4a07-94e7-241e51234b3b",
   "metadata": {},
   "source": [
    "El grafico resultante representa el error entre los valores verdaderos y los valores predichos.\n",
    "\n",
    "Esperamos que los resultados tengan una media de 0, distribuidos equitativamente alrededor del eje X on una varianza similar y sin curvatura.\n",
    "\n",
    "Para poder observar si nuestro modelo es adecuado para una regresion lineal. Podemos utilizar un grafico residual."
   ]
  },
  {
   "cell_type": "code",
   "execution_count": 21,
   "id": "d8115e3e-a62b-44e0-8d91-9396796f06d2",
   "metadata": {},
   "outputs": [
    {
     "data": {
      "text/plain": [
       "<AxesSubplot: xlabel='highway-mpg', ylabel='price'>"
      ]
     },
     "execution_count": 21,
     "metadata": {},
     "output_type": "execute_result"
    },
    {
     "data": {
      "image/png": "[encoded data removed]",
      "text/plain": [
       "<Figure size 640x480 with 1 Axes>"
      ]
     },
     "metadata": {},
     "output_type": "display_data"
    }
   ],
   "source": [
    "sns.residplot(x=df['highway-mpg'], y=df['price'])"
   ]
  },
  {
   "cell_type": "markdown",
   "id": "7dfb3681-54bc-4766-a398-3de98ce89718",
   "metadata": {},
   "source": [
    "### Graficos de Distribucion e Histogramas \n",
    "Los graficos de distribucion cuentan el valor predicho contra el valor verdadero. \n",
    "Estos graficos son utiles para visualizar modelos con mas de una variable independiente o caracteristica.\n",
    "\n",
    "Los Histogramas se usa para variables discretas, por lo que pandas los convertira en una distribucion. El eje vertical se escala para hacer que el area bajo la distribucion sea igual a uno."
   ]
  },
  {
   "cell_type": "code",
   "execution_count": 30,
   "id": "17d71cb0-017d-4a1c-bdd8-aca130d028fa",
   "metadata": {},
   "outputs": [
    {
     "data": {
      "text/plain": [
       "<AxesSubplot: xlabel='price', ylabel='Density'>"
      ]
     },
     "execution_count": 30,
     "metadata": {},
     "output_type": "execute_result"
    },
    {
     "data": {
      "image/png": "[encoded data removed]",
      "text/plain": [
       "<Figure size 640x480 with 1 Axes>"
      ]
     },
     "metadata": {},
     "output_type": "display_data"
    }
   ],
   "source": [
    "ax1 = sns.kdeplot(df['price'], color='r', label='Actual Value')\n",
    "\n",
    "sns.kdeplot(yhatmlr, color='b', label='Fitted Values', ax=ax1)"
   ]
  },
  {
   "cell_type": "markdown",
   "id": "d25f41c7-f31f-4074-b2c8-64507800432f",
   "metadata": {},
   "source": [
    "## REGRESION POLINOMIAL Y PIPELINES\n",
    "\n",
    "Cuando un modelo lineal no es la mejor opcion para nuestros datos podemos transformar nuestros datos en un polinomio y despues usar la regresion lineal para ajustar el parametro.\n",
    "\n",
    "Este meodo es beneficioso para describir relaciones curvas, es decir aquella que se obtiene al elevar al cuadrado o mayor orden los terminos de la variable predictora.\n",
    "\n",
    "Pipelines por su parte son una maneria de simplificar nuestro codigo. Estas nos ayudan a alicar secuencialmente una serie de transformaciones, el ultimo paso es la prediccion\n"
   ]
  },
  {
   "cell_type": "code",
   "execution_count": 33,
   "id": "7499729e-2156-4265-8f6c-77853c44c8ef",
   "metadata": {},
   "outputs": [
    {
     "name": "stdout",
     "output_type": "stream",
     "text": [
      "        3         2\n",
      "-1.557 x + 204.8 x - 8965 x + 1.379e+05\n"
     ]
    }
   ],
   "source": [
    "# Usamos la funcion Polyfit de tercer orden\n",
    "f = np.polyfit(df['highway-mpg'], df['price'], 3)\n",
    "p = np.poly1d(f)\n",
    "\n",
    "# imprimimos el modelo\n",
    "print(p)"
   ]
  },
  {
   "cell_type": "markdown",
   "id": "6e87c73e-046b-4d67-9606-698acb1cc280",
   "metadata": {},
   "source": [
    "Podemos utilizar la libreria de preprocesamiento de sci-kit learning para crear un objeto para caracteristicas polinomiales como parametro"
   ]
  },
  {
   "cell_type": "code",
   "execution_count": 34,
   "id": "e3aaf065-eabc-4a23-9272-2d92464d5c60",
   "metadata": {},
   "outputs": [],
   "source": [
    "from sklearn.preprocessing import PolynomialFeatures\n",
    "\n",
    "pr = PolynomialFeatures(degree=2, include_bias=False)"
   ]
  },
  {
   "cell_type": "markdown",
   "id": "de5f0b9e-9939-4322-abd0-e4dbb87f0baf",
   "metadata": {},
   "source": [
    "Despues, transformamos las caracteristicas en un polinomio usando el metodo fit_transform"
   ]
  },
  {
   "cell_type": "code",
   "execution_count": 35,
   "id": "e85b0e93-cdfc-4a85-acf3-d246a553f5c2",
   "metadata": {},
   "outputs": [
    {
     "data": {
      "text/plain": [
       "array([[1.1100000e+02, 2.5480000e+03, 1.2321000e+04, 2.8282800e+05,\n",
       "        6.4923040e+06],\n",
       "       [1.1100000e+02, 2.5480000e+03, 1.2321000e+04, 2.8282800e+05,\n",
       "        6.4923040e+06],\n",
       "       [1.5400000e+02, 2.8230000e+03, 2.3716000e+04, 4.3474200e+05,\n",
       "        7.9693290e+06],\n",
       "       ...,\n",
       "       [1.3400000e+02, 3.0120000e+03, 1.7956000e+04, 4.0360800e+05,\n",
       "        9.0721440e+06],\n",
       "       [1.0600000e+02, 3.2170000e+03, 1.1236000e+04, 3.4100200e+05,\n",
       "        1.0349089e+07],\n",
       "       [1.1400000e+02, 3.0620000e+03, 1.2996000e+04, 3.4906800e+05,\n",
       "        9.3758440e+06]])"
      ]
     },
     "execution_count": 35,
     "metadata": {},
     "output_type": "execute_result"
    }
   ],
   "source": [
    "x_polly = pr.fit_transform(df[['horse-power', 'curb-weight']])\n",
    "x_polly"
   ]
  },
  {
   "cell_type": "markdown",
   "id": "0be4fedd-435b-4820-ae06-753eddc5c3c1",
   "metadata": {},
   "source": [
    "Mientras que la dimension de nuestros datos puede volverse muy grande debemos de normalizar las multiples caracteristicas, esto lo podemos hacer utilizando la libreria scikit learn.\n",
    "\n",
    "Por ejemplo, podemos estandarizar cada caracteristica simultaneamente usando un Escalador Estandar"
   ]
  },
  {
   "cell_type": "code",
   "execution_count": 37,
   "id": "37f6a4f4-dfbf-4557-b502-3fd8db5b8907",
   "metadata": {},
   "outputs": [
    {
     "data": {
      "text/plain": [
       "array([[ 0.20398438, -0.01485764],\n",
       "       [ 0.20398438, -0.01485764],\n",
       "       [ 1.35764881,  0.51807951],\n",
       "       [-0.03748028, -0.42376578],\n",
       "       [ 0.311302  ,  0.52001746]])"
      ]
     },
     "execution_count": 37,
     "metadata": {},
     "output_type": "execute_result"
    }
   ],
   "source": [
    "from sklearn.preprocessing import StandardScaler\n",
    "\n",
    "SCALE = StandardScaler()\n",
    "SCALE.fit(df[['horse-power', 'curb-weight']])\n",
    "\n",
    "x_scale = SCALE.transform(df[['horse-power', 'curb-weight']])\n",
    "x_scale[0:5]"
   ]
  },
  {
   "cell_type": "markdown",
   "id": "ec5f4118-3b1d-46e4-80c3-fe81485eca3d",
   "metadata": {},
   "source": [
    "### IMPLEMENTACION DE PIPELINE"
   ]
  },
  {
   "cell_type": "code",
   "execution_count": 47,
   "id": "61ccb2bd-fadc-4611-8ae5-bc80220778f8",
   "metadata": {},
   "outputs": [
    {
     "data": {
      "text/html": [
       "<style>#sk-container-id-1 {color: black;background-color: white;}#sk-container-id-1 pre{padding: 0;}#sk-container-id-1 div.sk-toggleable {background-color: white;}#sk-container-id-1 label.sk-toggleable__label {cursor: pointer;display: block;width: 100%;margin-bottom: 0;padding: 0.3em;box-sizing: border-box;text-align: center;}#sk-container-id-1 label.sk-toggleable__label-arrow:before {content: \"▸\";float: left;margin-right: 0.25em;color: #696969;}#sk-container-id-1 label.sk-toggleable__label-arrow:hover:before {color: black;}#sk-container-id-1 div.sk-estimator:hover label.sk-toggleable__label-arrow:before {color: black;}#sk-container-id-1 div.sk-toggleable__content {max-height: 0;max-width: 0;overflow: hidden;text-align: left;background-color: #f0f8ff;}#sk-container-id-1 div.sk-toggleable__content pre {margin: 0.2em;color: black;border-radius: 0.25em;background-color: #f0f8ff;}#sk-container-id-1 input.sk-toggleable__control:checked~div.sk-toggleable__content {max-height: 200px;max-width: 100%;overflow: auto;}#sk-container-id-1 input.sk-toggleable__control:checked~label.sk-toggleable__label-arrow:before {content: \"▾\";}#sk-container-id-1 div.sk-estimator input.sk-toggleable__control:checked~label.sk-toggleable__label {background-color: #d4ebff;}#sk-container-id-1 div.sk-label input.sk-toggleable__control:checked~label.sk-toggleable__label {background-color: #d4ebff;}#sk-container-id-1 input.sk-hidden--visually {border: 0;clip: rect(1px 1px 1px 1px);clip: rect(1px, 1px, 1px, 1px);height: 1px;margin: -1px;overflow: hidden;padding: 0;position: absolute;width: 1px;}#sk-container-id-1 div.sk-estimator {font-family: monospace;background-color: #f0f8ff;border: 1px dotted black;border-radius: 0.25em;box-sizing: border-box;margin-bottom: 0.5em;}#sk-container-id-1 div.sk-estimator:hover {background-color: #d4ebff;}#sk-container-id-1 div.sk-parallel-item::after {content: \"\";width: 100%;border-bottom: 1px solid gray;flex-grow: 1;}#sk-container-id-1 div.sk-label:hover label.sk-toggleable__label {background-color: #d4ebff;}#sk-container-id-1 div.sk-serial::before {content: \"\";position: absolute;border-left: 1px solid gray;box-sizing: border-box;top: 0;bottom: 0;left: 50%;z-index: 0;}#sk-container-id-1 div.sk-serial {display: flex;flex-direction: column;align-items: center;background-color: white;padding-right: 0.2em;padding-left: 0.2em;position: relative;}#sk-container-id-1 div.sk-item {position: relative;z-index: 1;}#sk-container-id-1 div.sk-parallel {display: flex;align-items: stretch;justify-content: center;background-color: white;position: relative;}#sk-container-id-1 div.sk-item::before, #sk-container-id-1 div.sk-parallel-item::before {content: \"\";position: absolute;border-left: 1px solid gray;box-sizing: border-box;top: 0;bottom: 0;left: 50%;z-index: -1;}#sk-container-id-1 div.sk-parallel-item {display: flex;flex-direction: column;z-index: 1;position: relative;background-color: white;}#sk-container-id-1 div.sk-parallel-item:first-child::after {align-self: flex-end;width: 50%;}#sk-container-id-1 div.sk-parallel-item:last-child::after {align-self: flex-start;width: 50%;}#sk-container-id-1 div.sk-parallel-item:only-child::after {width: 0;}#sk-container-id-1 div.sk-dashed-wrapped {border: 1px dashed gray;margin: 0 0.4em 0.5em 0.4em;box-sizing: border-box;padding-bottom: 0.4em;background-color: white;}#sk-container-id-1 div.sk-label label {font-family: monospace;font-weight: bold;display: inline-block;line-height: 1.2em;}#sk-container-id-1 div.sk-label-container {text-align: center;}#sk-container-id-1 div.sk-container {/* jupyter's `normalize.less` sets `[hidden] { display: none; }` but bootstrap.min.css set `[hidden] { display: none !important; }` so we also need the `!important` here to be able to override the default hidden behavior on the sphinx rendered scikit-learn.org. See: https://github.com/scikit-learn/scikit-learn/issues/21755 */display: inline-block !important;position: relative;}#sk-container-id-1 div.sk-text-repr-fallback {display: none;}</style><div id=\"sk-container-id-1\" class=\"sk-top-container\"><div class=\"sk-text-repr-fallback\"><pre>Pipeline(steps=[(&#x27;scale&#x27;, StandardScaler()),\n",
       "                (&#x27;polynomial&#x27;, PolynomialFeatures(),\n",
       "                 (&#x27;model&#x27;, LinearRegression()))])</pre><b>In a Jupyter environment, please rerun this cell to show the HTML representation or trust the notebook. <br />On GitHub, the HTML representation is unable to render, please try loading this page with nbviewer.org.</b></div><div class=\"sk-container\" hidden><div class=\"sk-item\"><div class=\"sk-estimator sk-toggleable\"><input class=\"sk-toggleable__control sk-hidden--visually\" id=\"sk-estimator-id-1\" type=\"checkbox\" checked><label for=\"sk-estimator-id-1\" class=\"sk-toggleable__label sk-toggleable__label-arrow\">Pipeline</label><div class=\"sk-toggleable__content\"><pre>Pipeline(steps=[(&#x27;scale&#x27;, StandardScaler()),\n",
       "                (&#x27;polynomial&#x27;, PolynomialFeatures(),\n",
       "                 (&#x27;model&#x27;, LinearRegression()))])</pre></div></div></div></div></div>"
      ],
      "text/plain": [
       "Pipeline(steps=[('scale', StandardScaler()),\n",
       "                ('polynomial', PolynomialFeatures(),\n",
       "                 ('model', LinearRegression()))])"
      ]
     },
     "execution_count": 47,
     "metadata": {},
     "output_type": "execute_result"
    }
   ],
   "source": [
    "# Importamos las librerias/modulos necesarios\n",
    "\n",
    "from sklearn.preprocessing import PolynomialFeatures\n",
    "from sklearn.linear_model import LinearRegression\n",
    "from sklearn.preprocessing import StandardScaler\n",
    "\n",
    "# Creamos una lista de tuplas, que contienen el nombre del estimador y el modelo a utilizar\n",
    "\n",
    "Input = [('scale', StandardScaler()), ('polynomial', PolynomialFeatures(degree=2), ('model', LinearRegression()))]\n",
    "\n",
    "# Introducimos la lista en el constructor del Pipeline\n",
    "from sklearn.pipeline import Pipeline, make_pipeline\n",
    "pipe = Pipeline(Input)\n",
    "\n",
    "pipe\n"
   ]
  },
  {
   "cell_type": "markdown",
   "id": "51b9f8fa-e1a5-420f-8d04-4ab97eee5416",
   "metadata": {},
   "source": [
    "## MEDIDAS PARA EVALUACION EN MUESTRA\n",
    "\n",
    "Son una manera de determinar numericamente que tan bien el modelo encaja en nuestro conjunto de datos.\n",
    "\n",
    "2 de las medidas importantes son:\n",
    "\n",
    "- Mean Square Error (MSE)\n",
    "- R Square"
   ]
  },
  {
   "cell_type": "markdown",
   "id": "58d3d643-d1aa-40d8-9156-6b251b4de2eb",
   "metadata": {},
   "source": [
    "### Mean Square Error (MSE)\n",
    "\n",
    "- Encontramos la diferencia entre el valor real y el valor predicho de nuestra variable Y.\n",
    "- Despues elevarlo al cuadrado.\n",
    "- Calculamos la media o promedio de todos los errores en las muestras."
   ]
  },
  {
   "cell_type": "code",
   "execution_count": 48,
   "id": "2472fce9-feca-448a-b059-374ba4ac6a46",
   "metadata": {},
   "outputs": [
    {
     "data": {
      "text/plain": [
       "31635042.944639888"
      ]
     },
     "execution_count": 48,
     "metadata": {},
     "output_type": "execute_result"
    }
   ],
   "source": [
    "from sklearn.metrics import mean_squared_error\n",
    "\n",
    "mean_squared_error(df['price'], yhat)"
   ]
  },
  {
   "cell_type": "markdown",
   "id": "dde43058-a9c4-4056-af8e-889e764ea01a",
   "metadata": {},
   "source": [
    "### R SQUARED (R2)\n",
    "\n",
    "Es tambien llamado el coeficiente de determinacion. Es la medida que determina que tan cerca los datos estan de la regresion lineal entrenada. Es decir, que tan cerca estan nuestros datos reales de nuestro modelo estimado.\n",
    "\n",
    "\n",
    "El coeficiente de determinacion tiene la formula de:\n",
    "\n",
    "1 - MSE de la linea de regresion / MSE del promedio de la informacion.\n"
   ]
  },
  {
   "cell_type": "code",
   "execution_count": 50,
   "id": "d82549cd-b6ac-4b35-a99a-b1dfb58615a5",
   "metadata": {},
   "outputs": [
    {
     "data": {
      "text/plain": [
       "0.4965911884339176"
      ]
     },
     "execution_count": 50,
     "metadata": {},
     "output_type": "execute_result"
    }
   ],
   "source": [
    "X1 = df[['highway-mpg']]\n",
    "Y1 = df['price']\n",
    "\n",
    "lm.fit(X1, Y1)\n",
    "\n",
    "lm.score(X1,Y1)"
   ]
  },
  {
   "cell_type": "markdown",
   "id": "7fa16eb4-5e89-442a-8c2b-81ec81827dfe",
   "metadata": {},
   "source": [
    "R2 tiene valores entre 0 y 1. \n",
    "- Mientras mas cercano a 0, significa que el modelo no se esta desempeñando correctamente.\n",
    "- Si R2 es negativo, puede ser debido a subentrenamiento en los datos."
   ]
  },
  {
   "cell_type": "markdown",
   "id": "465cabaa-467c-40f1-9bee-59a7010de9b4",
   "metadata": {},
   "source": [
    "## PREDICCIONES Y TOMA DE DECISIONES\n",
    "\n",
    "Para determinar que nuestro modelo es un buen modelo tenemos que mirar a una combinacion de:\n",
    "\n",
    "- Los predictores tienen sentido.\n",
    "- Visualizacion de datos.\n",
    "- Medidas Numericas para la evaluacion.\n",
    "- Comparar modelos."
   ]
  },
  {
   "cell_type": "code",
   "execution_count": 65,
   "id": "66305547-d039-4bb2-90de-dff26f1e9a57",
   "metadata": {},
   "outputs": [
    {
     "data": {
      "text/plain": [
       "array([13771.3045085])"
      ]
     },
     "execution_count": 65,
     "metadata": {},
     "output_type": "execute_result"
    }
   ],
   "source": [
    "lm.fit(df[['highway-mpg']], df['price'])\n",
    "df1 = pd.DataFrame({'highway-mpg': [30]})\n",
    "lm.predict(df1)"
   ]
  },
  {
   "cell_type": "code",
   "execution_count": 82,
   "id": "0c59555c-3ede-4e89-9b4d-5f3a539e5b81",
   "metadata": {},
   "outputs": [
    {
     "data": {
      "text/plain": [
       "(0.0, 41628.06603361292)"
      ]
     },
     "execution_count": 82,
     "metadata": {},
     "output_type": "execute_result"
    },
    {
     "data": {
      "image/png": "[encoded data removed]",
      "text/plain": [
       "<Figure size 640x480 with 1 Axes>"
      ]
     },
     "metadata": {},
     "output_type": "display_data"
    }
   ],
   "source": [
    "new_input = np.arange(1,100, 1)\n",
    "df1 = pd.DataFrame({'highway-mpg': new_input})\n",
    "yhatdum = lm.predict(df1)\n",
    "\n",
    "df1['price'] = yhatdum\n",
    "sns.regplot(x=df1['highway-mpg'], y=df1['price'], data=df1)\n",
    "plt.ylim(0,)"
   ]
  },
  {
   "cell_type": "markdown",
   "id": "00412803-f068-460f-9189-a9eed9b22bbd",
   "metadata": {},
   "source": [
    "### COMPARANDO MLR Y SLR\n",
    "\n",
    "- No necesariamente un MLR mas bajo implica un mejor modelo\n",
    "- MSE para un MLR sera mas pequeño que el MSE para un SLR, dado que los errores en los datos decrementaran mientras haya mas variables incluidas en el modelo.\n",
    "- Una regresion polinomial tambien tendra un MSE mas pequeño que una regresion regular.\n",
    "- Una relacion similar existe para R Squared"
   ]
  },
  {
   "cell_type": "code",
   "execution_count": null,
   "id": "aee38fa8-ba0e-4889-b803-c86c9a8eeded",
   "metadata": {},
   "outputs": [],
   "source": []
  }
 ],
 "metadata": {
  "kernelspec": {
   "display_name": "Python 3 (ipykernel)",
   "language": "python",
   "name": "python3"
  },
  "language_info": {
   "codemirror_mode": {
    "name": "ipython",
    "version": 3
   },
   "file_extension": ".py",
   "mimetype": "text/x-python",
   "name": "python",
   "nbconvert_exporter": "python",
   "pygments_lexer": "ipython3",
   "version": "3.8.5"
  }
 },
 "nbformat": 4,
 "nbformat_minor": 5
}
