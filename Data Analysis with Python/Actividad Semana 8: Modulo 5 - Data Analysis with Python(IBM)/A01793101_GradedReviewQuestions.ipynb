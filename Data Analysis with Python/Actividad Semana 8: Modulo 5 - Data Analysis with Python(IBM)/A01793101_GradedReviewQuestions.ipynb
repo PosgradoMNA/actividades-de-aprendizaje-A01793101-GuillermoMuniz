{
 "cells": [
  {
   "cell_type": "markdown",
   "id": "6a9d8a9c-9333-4cf3-8e05-0b2e676e51d7",
   "metadata": {},
   "source": [
    "# QUESTION 1\n",
    "In the following plot, the vertical axis shows the mean square error and the horizontal axis represents the order of the polynomial. The red line represents the training error the blue line is the test error. What is the best order of the polynomial given the possible choices in the horizontal axis?"
   ]
  },
  {
   "cell_type": "code",
   "execution_count": 1,
   "id": "c7e734f2-0463-401f-b4d1-25b5dba013b7",
   "metadata": {},
   "outputs": [
    {
     "data": {
      "text/plain": [
       "8"
      ]
     },
     "execution_count": 1,
     "metadata": {},
     "output_type": "execute_result"
    }
   ],
   "source": [
    "8"
   ]
  },
  {
   "cell_type": "markdown",
   "id": "adee0dcd-7f2c-47f8-bcc1-ddd2d341d941",
   "metadata": {},
   "source": [
    "# QUESTION 2\n",
    "What is the correct use of the \"train_test_split\" function such that 40% of the data samples will be utilized for testing; the parameter \"random_state\" is set to zero; and the input variables for the features and targets are_data, y_data respectively?"
   ]
  },
  {
   "cell_type": "markdown",
   "id": "f7f3913e-25c7-4efa-ba6f-db6657e21861",
   "metadata": {},
   "source": [
    "R: train_test_split(x_data, y_data, test_size=0.4, random_state=0)"
   ]
  },
  {
   "cell_type": "markdown",
   "id": "1cba5ac5-7952-4466-8791-050309b25a7d",
   "metadata": {},
   "source": [
    "# QUESTION 3\n",
    "\n",
    "What is the output of cross_val_score(lre, x_data, y_data, cv=2)?"
   ]
  },
  {
   "cell_type": "markdown",
   "id": "7d04ecc2-1b05-4598-971e-2e9d99520691",
   "metadata": {},
   "source": [
    "The average R^2 on the test data for each of the two folds."
   ]
  },
  {
   "cell_type": "markdown",
   "id": "9b490753-c657-4707-a465-d992d90592cc",
   "metadata": {},
   "source": [
    "# QUESTION 4\n",
    "\n",
    "What is the code to create a ridge regression object \"RR\" with an alpha term equal 10?"
   ]
  },
  {
   "cell_type": "code",
   "execution_count": 3,
   "id": "d90456a1-3198-4b89-bb09-687ef204c62e",
   "metadata": {},
   "outputs": [],
   "source": [
    "from sklearn.linear_model import Ridge\n",
    "RR=Ridge(alpha=10)"
   ]
  },
  {
   "cell_type": "markdown",
   "id": "19f15f4e-b37d-4c40-898c-d8fd1b894117",
   "metadata": {},
   "source": [
    "# QUESTION 5\n",
    "What dictionary value would we use to perform a grid search for the following values of alpha: 1,10, 100? No other parameter values should be tested."
   ]
  },
  {
   "cell_type": "code",
   "execution_count": 4,
   "id": "f6d2ce4a-2964-4ee3-9361-fb7d2de7b9db",
   "metadata": {},
   "outputs": [],
   "source": [
    "parm = [{'alpha': [1,10,100]}]"
   ]
  },
  {
   "cell_type": "code",
   "execution_count": null,
   "id": "16cd7bdc-7d98-4e5a-8151-d19ea16cf00c",
   "metadata": {},
   "outputs": [],
   "source": []
  }
 ],
 "metadata": {
  "kernelspec": {
   "display_name": "Python 3 (ipykernel)",
   "language": "python",
   "name": "python3"
  },
  "language_info": {
   "codemirror_mode": {
    "name": "ipython",
    "version": 3
   },
   "file_extension": ".py",
   "mimetype": "text/x-python",
   "name": "python",
   "nbconvert_exporter": "python",
   "pygments_lexer": "ipython3",
   "version": "3.8.5"
  }
 },
 "nbformat": 4,
 "nbformat_minor": 5
}
