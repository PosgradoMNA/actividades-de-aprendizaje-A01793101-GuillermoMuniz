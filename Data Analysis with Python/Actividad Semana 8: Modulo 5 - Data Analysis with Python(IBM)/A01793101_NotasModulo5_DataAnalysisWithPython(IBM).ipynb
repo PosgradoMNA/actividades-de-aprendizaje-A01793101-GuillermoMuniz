{
 "cells": [
  {
   "cell_type": "markdown",
   "id": "99164699-173c-4842-8a50-3afe2ff301ad",
   "metadata": {},
   "source": [
    "# MODULO 5: EVALUACION Y REFINAMIENTO DEL MODELO\n",
    "### Autor: Guillermo Alfonso Muñiz Hermosillo\n",
    "### Matricula: A01793101\n",
    "### Curso: Ciencia y Analitica de Datos\n",
    "## Profesor: María de La Paz Rico\n",
    "<h1><center>PROGRESO DEL CURSO:</center></h1>\n",
    "<img src='./imagenes/A01793101_ProgresoMod5.png'>\n",
    "\n",
    "<h1><center>GRADED REVIEW QUESTIONS:</center></h1>\n",
    "<img src='./imagenes/A01793101_GradedReviewQuestionsMod5.png'>"
   ]
  },
  {
   "cell_type": "markdown",
   "id": "b8a75c5e-c86e-49b9-ac84-3c519e085c96",
   "metadata": {},
   "source": [
    "# EVALUACION DEL MODELO\n",
    "\n",
    "La evaluacion del modelo se refiere a como nuestro modelo se desempeña en el mundo real.\n",
    "\n",
    "Evaluacion en muestra nos dice como nuestro modelo se acopla a los datos usados para entrenarlo. Pero no nos dice que tan bien nuestro modelo se puede usar para predecir datos nuevos.\n",
    "\n",
    "Para solucionar esto, dividimos nuestro conjunto de datos en conjunto de muestra o entrenamiento y no de muestra o de prueba.\n",
    "\n",
    "\n"
   ]
  },
  {
   "cell_type": "code",
   "execution_count": 1,
   "id": "f8260b8d-c774-4588-97ef-8b0032dbbc0b",
   "metadata": {},
   "outputs": [
    {
     "data": {
      "text/html": [
       "<div>\n",
       "<style scoped>\n",
       "    .dataframe tbody tr th:only-of-type {\n",
       "        vertical-align: middle;\n",
       "    }\n",
       "\n",
       "    .dataframe tbody tr th {\n",
       "        vertical-align: top;\n",
       "    }\n",
       "\n",
       "    .dataframe thead th {\n",
       "        text-align: right;\n",
       "    }\n",
       "</style>\n",
       "<table border=\"1\" class=\"dataframe\">\n",
       "  <thead>\n",
       "    <tr style=\"text-align: right;\">\n",
       "      <th></th>\n",
       "      <th>symboling</th>\n",
       "      <th>normalized-losses</th>\n",
       "      <th>make</th>\n",
       "      <th>fuel-type</th>\n",
       "      <th>aspiration</th>\n",
       "      <th>num-of-doors</th>\n",
       "      <th>body-style</th>\n",
       "      <th>drive-wheels</th>\n",
       "      <th>engine-location</th>\n",
       "      <th>wheel-base</th>\n",
       "      <th>...</th>\n",
       "      <th>fuel-system</th>\n",
       "      <th>bore</th>\n",
       "      <th>stroke</th>\n",
       "      <th>compression-ratio</th>\n",
       "      <th>horse-power</th>\n",
       "      <th>peak-rpm</th>\n",
       "      <th>city-mpg</th>\n",
       "      <th>highway-mpg</th>\n",
       "      <th>price</th>\n",
       "      <th>city-L/100km</th>\n",
       "    </tr>\n",
       "  </thead>\n",
       "  <tbody>\n",
       "    <tr>\n",
       "      <th>0</th>\n",
       "      <td>3</td>\n",
       "      <td>122.0</td>\n",
       "      <td>alfa-romero</td>\n",
       "      <td>gas</td>\n",
       "      <td>std</td>\n",
       "      <td>two</td>\n",
       "      <td>convertible</td>\n",
       "      <td>rwd</td>\n",
       "      <td>front</td>\n",
       "      <td>88.6</td>\n",
       "      <td>...</td>\n",
       "      <td>mpfi</td>\n",
       "      <td>3.47</td>\n",
       "      <td>2.68</td>\n",
       "      <td>9.0</td>\n",
       "      <td>111.0</td>\n",
       "      <td>5000</td>\n",
       "      <td>21</td>\n",
       "      <td>27</td>\n",
       "      <td>13495.0</td>\n",
       "      <td>11.190476</td>\n",
       "    </tr>\n",
       "    <tr>\n",
       "      <th>1</th>\n",
       "      <td>3</td>\n",
       "      <td>122.0</td>\n",
       "      <td>alfa-romero</td>\n",
       "      <td>gas</td>\n",
       "      <td>std</td>\n",
       "      <td>two</td>\n",
       "      <td>convertible</td>\n",
       "      <td>rwd</td>\n",
       "      <td>front</td>\n",
       "      <td>88.6</td>\n",
       "      <td>...</td>\n",
       "      <td>mpfi</td>\n",
       "      <td>3.47</td>\n",
       "      <td>2.68</td>\n",
       "      <td>9.0</td>\n",
       "      <td>111.0</td>\n",
       "      <td>5000</td>\n",
       "      <td>21</td>\n",
       "      <td>27</td>\n",
       "      <td>16500.0</td>\n",
       "      <td>11.190476</td>\n",
       "    </tr>\n",
       "    <tr>\n",
       "      <th>2</th>\n",
       "      <td>1</td>\n",
       "      <td>122.0</td>\n",
       "      <td>alfa-romero</td>\n",
       "      <td>gas</td>\n",
       "      <td>std</td>\n",
       "      <td>two</td>\n",
       "      <td>hatchback</td>\n",
       "      <td>rwd</td>\n",
       "      <td>front</td>\n",
       "      <td>94.5</td>\n",
       "      <td>...</td>\n",
       "      <td>mpfi</td>\n",
       "      <td>2.68</td>\n",
       "      <td>3.47</td>\n",
       "      <td>9.0</td>\n",
       "      <td>154.0</td>\n",
       "      <td>5000</td>\n",
       "      <td>19</td>\n",
       "      <td>26</td>\n",
       "      <td>16500.0</td>\n",
       "      <td>12.368421</td>\n",
       "    </tr>\n",
       "    <tr>\n",
       "      <th>3</th>\n",
       "      <td>2</td>\n",
       "      <td>164.0</td>\n",
       "      <td>audi</td>\n",
       "      <td>gas</td>\n",
       "      <td>std</td>\n",
       "      <td>four</td>\n",
       "      <td>sedan</td>\n",
       "      <td>fwd</td>\n",
       "      <td>front</td>\n",
       "      <td>99.8</td>\n",
       "      <td>...</td>\n",
       "      <td>mpfi</td>\n",
       "      <td>3.19</td>\n",
       "      <td>3.40</td>\n",
       "      <td>10.0</td>\n",
       "      <td>102.0</td>\n",
       "      <td>5500</td>\n",
       "      <td>24</td>\n",
       "      <td>30</td>\n",
       "      <td>13950.0</td>\n",
       "      <td>9.791667</td>\n",
       "    </tr>\n",
       "    <tr>\n",
       "      <th>4</th>\n",
       "      <td>2</td>\n",
       "      <td>164.0</td>\n",
       "      <td>audi</td>\n",
       "      <td>gas</td>\n",
       "      <td>std</td>\n",
       "      <td>four</td>\n",
       "      <td>sedan</td>\n",
       "      <td>4wd</td>\n",
       "      <td>front</td>\n",
       "      <td>99.4</td>\n",
       "      <td>...</td>\n",
       "      <td>mpfi</td>\n",
       "      <td>3.19</td>\n",
       "      <td>3.40</td>\n",
       "      <td>8.0</td>\n",
       "      <td>115.0</td>\n",
       "      <td>5500</td>\n",
       "      <td>18</td>\n",
       "      <td>22</td>\n",
       "      <td>17450.0</td>\n",
       "      <td>13.055556</td>\n",
       "    </tr>\n",
       "  </tbody>\n",
       "</table>\n",
       "<p>5 rows × 27 columns</p>\n",
       "</div>"
      ],
      "text/plain": [
       "   symboling  normalized-losses         make fuel-type aspiration  \\\n",
       "0          3              122.0  alfa-romero       gas        std   \n",
       "1          3              122.0  alfa-romero       gas        std   \n",
       "2          1              122.0  alfa-romero       gas        std   \n",
       "3          2              164.0         audi       gas        std   \n",
       "4          2              164.0         audi       gas        std   \n",
       "\n",
       "  num-of-doors   body-style drive-wheels engine-location  wheel-base  ...  \\\n",
       "0          two  convertible          rwd           front        88.6  ...   \n",
       "1          two  convertible          rwd           front        88.6  ...   \n",
       "2          two    hatchback          rwd           front        94.5  ...   \n",
       "3         four        sedan          fwd           front        99.8  ...   \n",
       "4         four        sedan          4wd           front        99.4  ...   \n",
       "\n",
       "   fuel-system  bore  stroke  compression-ratio horse-power peak-rpm  \\\n",
       "0         mpfi  3.47    2.68                9.0       111.0     5000   \n",
       "1         mpfi  3.47    2.68                9.0       111.0     5000   \n",
       "2         mpfi  2.68    3.47                9.0       154.0     5000   \n",
       "3         mpfi  3.19    3.40               10.0       102.0     5500   \n",
       "4         mpfi  3.19    3.40                8.0       115.0     5500   \n",
       "\n",
       "   city-mpg highway-mpg    price city-L/100km  \n",
       "0        21          27  13495.0    11.190476  \n",
       "1        21          27  16500.0    11.190476  \n",
       "2        19          26  16500.0    12.368421  \n",
       "3        24          30  13950.0     9.791667  \n",
       "4        18          22  17450.0    13.055556  \n",
       "\n",
       "[5 rows x 27 columns]"
      ]
     },
     "execution_count": 1,
     "metadata": {},
     "output_type": "execute_result"
    }
   ],
   "source": [
    "import pandas as pd\n",
    "import numpy as np\n",
    "import ssl\n",
    "ssl._create_default_https_context = ssl._create_unverified_context\n",
    "\n",
    "\n",
    "df = pd.read_csv('Cars.csv')\n",
    "\n",
    "df.head()"
   ]
  },
  {
   "cell_type": "markdown",
   "id": "d7d75b02-f606-4424-af40-73f9a8b9b2e7",
   "metadata": {},
   "source": [
    "Para dividir nuestro conjunto de datos podemos usar la funcion train_test_split de scikit learn\n"
   ]
  },
  {
   "cell_type": "code",
   "execution_count": 18,
   "id": "415b1dac-9070-4d9f-ac47-7375b4feb7a5",
   "metadata": {},
   "outputs": [
    {
     "data": {
      "text/plain": [
       "symboling              int64\n",
       "normalized-losses    float64\n",
       "make                  object\n",
       "fuel-type             object\n",
       "aspiration            object\n",
       "num-of-doors          object\n",
       "body-style            object\n",
       "drive-wheels          object\n",
       "engine-location       object\n",
       "wheel-base           float64\n",
       "length               float64\n",
       "width                float64\n",
       "height               float64\n",
       "curb-weight            int64\n",
       "engine-type           object\n",
       "num-of-cylinders      object\n",
       "engine-size            int64\n",
       "fuel-system           object\n",
       "bore                  object\n",
       "stroke                object\n",
       "compression-ratio    float64\n",
       "horse-power          float64\n",
       "peak-rpm              object\n",
       "city-mpg               int64\n",
       "highway-mpg            int64\n",
       "price                float64\n",
       "city-L/100km         float64\n",
       "dtype: object"
      ]
     },
     "execution_count": 18,
     "metadata": {},
     "output_type": "execute_result"
    }
   ],
   "source": [
    "df.dtypes"
   ]
  },
  {
   "cell_type": "code",
   "execution_count": 24,
   "id": "66292fdc-6c20-4890-ac98-ee0db9ba6ea1",
   "metadata": {},
   "outputs": [],
   "source": [
    "from sklearn.pipeline import Pipeline\n",
    "from sklearn.preprocessing import OneHotEncoder\n",
    "from sklearn.compose import ColumnTransformer\n",
    "\n",
    "onehot = ['make', 'fuel-type', 'aspiration', 'num-of-doors', 'body-style', 'drive-wheels', 'engine-location', 'engine-type', 'num-of-cylinders', 'fuel-system', 'bore', 'stroke', 'peak-rpm']\n",
    "\n",
    "pipeline_onehot = Pipeline(steps=[\n",
    "  ('onehot', OneHotEncoder(drop='first', handle_unknown='ignore'))\n",
    "]);\n",
    "\n",
    "column_transformer = ColumnTransformer(\n",
    "    transformers=[\n",
    "        ('onehot',    pipeline_onehot,                onehot),\n",
    "    ],\n",
    "    remainder='passthrough'\n",
    ")\n"
   ]
  },
  {
   "cell_type": "code",
   "execution_count": 32,
   "id": "8ea2ba3b-fa60-4099-9446-5fdaab516729",
   "metadata": {},
   "outputs": [
    {
     "name": "stdout",
     "output_type": "stream",
     "text": [
      "X Shape (201, 26)\n",
      "y Shape (201, 1)\n"
     ]
    }
   ],
   "source": [
    "x_data = df.loc[:, df.columns != 'price']\n",
    "y_data = df[['price']]\n",
    "\n",
    "print(\"X Shape\", x_data.shape)\n",
    "print(\"y Shape\", y_data.shape)"
   ]
  },
  {
   "cell_type": "code",
   "execution_count": 46,
   "id": "4691a856-4f61-48cc-9c65-62cdb15161ae",
   "metadata": {},
   "outputs": [
    {
     "name": "stdout",
     "output_type": "stream",
     "text": [
      "X Train (140, 26)\n",
      "y Train (140, 1)\n",
      "X Test (61, 26)\n",
      "y test (61, 1)\n"
     ]
    }
   ],
   "source": [
    "from sklearn.model_selection import train_test_split\n",
    "\n",
    "\n",
    "\n",
    "x_train, x_test, y_train, y_test = train_test_split(x_data, y_data, test_size=0.3, random_state=0)\n",
    "\n",
    "# x_data: Variables independientes \n",
    "# y_data: Variable de prediccion o dependiente (Y)\n",
    "# x_train, y_train: Conjuntos de entrenamiento \n",
    "# x_test, y_test: Conjuntos de pruebas\n",
    "# test_size: Porcentade de datos del conjunto de purebas (30%)\n",
    "# random_state: Semilla aleatoria para la particion de datos\n",
    "\n",
    "\n",
    "#x_train = column_transformer.fit_transform(x_train)\n",
    "#x_test = column_transformer.fit_transform(x_test)\n",
    "print(\"X Train\", x_train.shape)\n",
    "print(\"y Train\", y_train.shape)\n",
    "print(\"X Test\" , x_test.shape)\n",
    "print(\"y test\" , y_test.shape)"
   ]
  },
  {
   "cell_type": "markdown",
   "id": "e337e7c6-b7ee-434e-8f27-9670d8a6ed22",
   "metadata": {},
   "source": [
    "## GENERALIZACION DE DESEMPEÑO\n",
    "\n",
    "El error de generalizacion es una medida de que tan bien nuestros datos predicen datos no vistos anteriormente\n",
    "El error que obtenemos usando nuestro conjunto de pruebas es una aproximacion de este error."
   ]
  },
  {
   "cell_type": "markdown",
   "id": "a1d64beb-ebce-43af-a059-c1562cf5edea",
   "metadata": {},
   "source": [
    "## VALIDACION CRUZADA\n",
    "\n",
    "La validacion cruzada es usada para sobreponerse al error de generalizacion. \n",
    "En este metodo el conjunto de datos se parte en grupos de tamaño k, cada grupo se conoce como un \"dobles\".\n",
    "\n",
    "Cada grupo, es usado como conjunto de pruebas y validacion repetidamente, al final usamos los resultados promedios para estimar el error de fuera de la muestra.\n",
    "\n",
    "La metrica de evaluacion de este modelo dependera del modelo"
   ]
  },
  {
   "cell_type": "code",
   "execution_count": 38,
   "id": "9db8fd16-65eb-4035-bd97-e2291fe8f2bc",
   "metadata": {},
   "outputs": [
    {
     "data": {
      "text/plain": [
       "-8.530902040768042"
      ]
     },
     "execution_count": 38,
     "metadata": {},
     "output_type": "execute_result"
    }
   ],
   "source": [
    "from sklearn.model_selection import cross_val_score\n",
    "# 1-  Importamos la libreria LinearRegression de Scikit-learn\n",
    "from sklearn.linear_model import LinearRegression\n",
    "# 2- Creamos un objeto de regresion lineal usando el constructor\n",
    "lm = LinearRegression()\n",
    "\n",
    "x_data_Trans = column_transformer.fit_transform(x_data)\n",
    "# cv indica el numero de particiones en los conjuntos de datos\n",
    "scores = cross_val_score(lm, x_data_Trans, y_data, cv=3)\n",
    "\n",
    "np.mean(scores)"
   ]
  },
  {
   "cell_type": "markdown",
   "id": "ecb164b2-a192-4a02-b233-d1da9bc89dae",
   "metadata": {},
   "source": [
    "La cuncion cross_val_score nos regresa un marcador para decirnos el resultado de la validacion cruzada"
   ]
  },
  {
   "cell_type": "code",
   "execution_count": 43,
   "id": "a3a331ba-49c9-4b42-b6fa-791345780cbd",
   "metadata": {},
   "outputs": [
    {
     "data": {
      "text/plain": [
       "array([[16303.6559744 ],\n",
       "       [16303.6559744 ],\n",
       "       [15201.8872883 ],\n",
       "       [12809.63219781],\n",
       "       [15566.8796774 ]])"
      ]
     },
     "execution_count": 43,
     "metadata": {},
     "output_type": "execute_result"
    }
   ],
   "source": [
    "from sklearn.model_selection import cross_val_predict\n",
    "\n",
    "yhat = cross_val_predict(lm, x_data_Trans, y_data, cv=3)\n",
    "yhat[0:5]"
   ]
  },
  {
   "cell_type": "markdown",
   "id": "ec89d9e2-38e9-4ef5-9f13-a227243727ee",
   "metadata": {},
   "source": [
    "## SOBREENTRENAMIENTO, SUBENTRENAMIENTO Y SELECCION DEL MODELO\n",
    "\n",
    "- SUBENTRENAMIENTO: Es aquel modelo que es muy simple para adaptarse a los datos.\n",
    "- SOBREENTRENAMIENTO: EL modelo se adapta a los datos de entrenamiento pero se desempeña pobremente para estimar la funcion adaptandose mas al ruido.\n",
    "\n",
    "El error de prueba es una mejor manera de estimar el error en un polinomio. El error disminuye hasta que el mejor polinomio es determinado, despues comienza a incrementar."
   ]
  },
  {
   "cell_type": "code",
   "execution_count": 48,
   "id": "d76986f3-17fa-44a5-b023-82d75c94e299",
   "metadata": {},
   "outputs": [
    {
     "data": {
      "text/plain": [
       "[0.6960381180814083,\n",
       " 0.697154193256817,\n",
       " 0.7038917303206413,\n",
       " 0.7046122605971341,\n",
       " 0.7403882503151931]"
      ]
     },
     "execution_count": 48,
     "metadata": {},
     "output_type": "execute_result"
    }
   ],
   "source": [
    "from sklearn.preprocessing import PolynomialFeatures\n",
    "\n",
    "r2Values = []\n",
    "\n",
    "order = [1,2,3,4,5]\n",
    "\n",
    "for n in order:\n",
    "    pr = PolynomialFeatures(degree=n)\n",
    "    x_train_pr = pr.fit_transform(x_train[['horse-power']])\n",
    "    x_test_pr = pr.fit_transform(x_test[['horse-power']])\n",
    "    lm.fit(x_train_pr, y_train)\n",
    "    r2Values.append(lm.score(x_test_pr, y_test))\n",
    "    \n",
    "r2Values"
   ]
  },
  {
   "cell_type": "markdown",
   "id": "856de33c-8aab-4907-8672-6bbbacff77c6",
   "metadata": {},
   "source": [
    "## REGRESION RIDGE\n",
    "\n",
    "La regression Ridge previene el sobreentrenamiento. Este es un gran problema cuando se tienen multiples variables independientes o caracteristicas.\n",
    "\n",
    "Esta regresion controla la magnitud de los coeficientes polinomiales al introducir un parametro alpha. \n",
    "\n",
    "Alpha es un parametro que seleccionamos antes de entrenar nuestro modelo.\n",
    "\n",
    "Mientras alpha incrementa, los parametros se vuelven mas pequeños.  Si alpha es muy grande, los coeficientes se acercaran a 0 y se subajustaran a los datos.\n",
    "\n"
   ]
  },
  {
   "cell_type": "code",
   "execution_count": 50,
   "id": "35c62af1-7af9-4649-b61d-217a5d72397c",
   "metadata": {},
   "outputs": [
    {
     "data": {
      "text/plain": [
       "array([[13698.75835455],\n",
       "       [13698.75835455],\n",
       "       [18810.34830949],\n",
       "       [10744.43162267],\n",
       "       [15748.5800395 ]])"
      ]
     },
     "execution_count": 50,
     "metadata": {},
     "output_type": "execute_result"
    }
   ],
   "source": [
    "from sklearn.linear_model import Ridge\n",
    "\n",
    "RidgeModel = Ridge(alpha = 0.1)\n",
    "RidgeModel.fit(x_data_Trans, y_data)\n",
    "yhatRidge = RidgeModel.predict(x_data_Trans)\n",
    "yhatRidge[0:5]"
   ]
  },
  {
   "cell_type": "markdown",
   "id": "e7c97bef-14f4-44c4-b256-6fea5f4de55f",
   "metadata": {},
   "source": [
    "## GRID SEARCH\n",
    "Nos permite escanear a traves de multiples parametros con pocas lineas de codigo. \n",
    "\n",
    "Gridsearch toma el modelo u objetos que se requieren entrenar y asigna diferentes valores a los hiperparametros.\n",
    "Despues calcula el MSE o R2 para estos hiperparametros, permitiendo escoger los mejores valores"
   ]
  },
  {
   "cell_type": "code",
   "execution_count": 56,
   "id": "10ed1bad-5dd0-47b8-9e03-ae9f3fa0c6ea",
   "metadata": {},
   "outputs": [
    {
     "name": "stdout",
     "output_type": "stream",
     "text": [
      "Ridge(alpha=10000)\n",
      "[0.6644635  0.66446408 0.66446932 0.66452138 0.66500981 0.66797719\n",
      " 0.67241124 0.65695446 0.58042242]\n"
     ]
    }
   ],
   "source": [
    "from sklearn.model_selection import GridSearchCV\n",
    "\n",
    "parameters1 = [{\n",
    "    'alpha': [0.001, 0.1, 1, 10, 100, 1000, 10000, 100000, 10000000],\n",
    "    }] # Lista de hiperparametros representados en un diccionario.\n",
    "\n",
    "Grid1 = GridSearchCV(RidgeModel, parameters1, cv=4) # Instanciamos nuestro grid con el modelo, los parametros y cross validation\n",
    "\n",
    "Grid1.fit(x_data[['horse-power', 'curb-weight', 'engine-size', 'highway-mpg']], y_data) # Hacemos fit a nuestros datos\n",
    "\n",
    "print(Grid1.best_estimator_) # Obtenemos el mejor parametro\n",
    "\n",
    "scores =  Grid1.cv_results_ # Obtenemos todos los scores\n",
    "print(scores['mean_test_score']) # Imprimimos los promedio\n"
   ]
  }
 ],
 "metadata": {
  "kernelspec": {
   "display_name": "Python 3 (ipykernel)",
   "language": "python",
   "name": "python3"
  },
  "language_info": {
   "codemirror_mode": {
    "name": "ipython",
    "version": 3
   },
   "file_extension": ".py",
   "mimetype": "text/x-python",
   "name": "python",
   "nbconvert_exporter": "python",
   "pygments_lexer": "ipython3",
   "version": "3.8.5"
  }
 },
 "nbformat": 4,
 "nbformat_minor": 5
}
