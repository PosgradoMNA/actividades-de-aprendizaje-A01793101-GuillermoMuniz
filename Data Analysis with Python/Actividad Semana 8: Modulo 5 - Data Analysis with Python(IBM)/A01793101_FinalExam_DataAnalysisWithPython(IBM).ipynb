{
 "cells": [
  {
   "cell_type": "markdown",
   "id": "57369ebd-9f76-488d-9b09-71ed32cb541a",
   "metadata": {},
   "source": [
    "# Pregunta 1\n",
    "\n",
    "What does the following command do?\n",
    "\n",
    "**df.dropna(subset=[\"price\"], axis=0)**\n",
    "\n",
    "Drop the “not a number” values from the column \"price\"."
   ]
  },
  {
   "cell_type": "markdown",
   "id": "eb9bfbd5-9fee-4860-9ed7-1392010c78ca",
   "metadata": {},
   "source": [
    "# Pregunta 2\n",
    "\n",
    "How would you provide many of the summary statistics for all the columns in the dataframe \"df\"?\n",
    "\n",
    "df.describe(include = \"all\")"
   ]
  },
  {
   "cell_type": "markdown",
   "id": "7d1c8009-f4a5-4383-8cc5-431abfd5ab15",
   "metadata": {},
   "source": [
    "# Pregunta 3\n",
    "\n",
    "How would you find the shape of the dataframe df?\n",
    "\n",
    "df.shape()"
   ]
  },
  {
   "cell_type": "markdown",
   "id": "2c6646d3-39d2-4edc-bc1c-7d9a9eeae625",
   "metadata": {},
   "source": [
    "# Pregunta 4\n",
    "\n",
    "\n",
    "What task does the following command, df.to_csv(\"A.csv\"), perform:\n",
    "    \n",
    "  Save the dataframe df to a csv file called \"A.csv\".  "
   ]
  },
  {
   "cell_type": "markdown",
   "id": "85070bb8-0018-4e46-a0e2-0b5d764084a3",
   "metadata": {},
   "source": [
    "# Pregunta 5\n",
    "\n",
    "What task does the following line of code perform?\n",
    "\n",
    "result = np.linspace(min(df[\"city-mpg\"]), max(df[\"city-mpg\"]), 5)\n",
    "\n",
    "Builds a bin array ranging from the smallest value to the largest value of \"city-mpg\" in order to build 4 bins of equal length."
   ]
  },
  {
   "cell_type": "markdown",
   "id": "a7d46387-15a2-408c-8a53-39366e97691b",
   "metadata": {},
   "source": [
    "# Pregunta 6\n",
    "\n",
    "What task does the following line of code perform:\n",
    "\n",
    "df['peak-rpm'].replace(np.nan, 5,inplace=True)\n",
    "\n",
    "Replace the \"not a number\" values with 5 in the column 'peak-rpm'."
   ]
  },
  {
   "cell_type": "markdown",
   "id": "57ac55ec-7250-4ce5-a49b-c362b821849f",
   "metadata": {},
   "source": [
    "# Pregunta 7\n",
    "\n",
    "How do you \"one-hot encode\" the column 'fuel-type' in the dataframe df?\n",
    "\n",
    "pd.get_dummies(df[\"fuel-type\"])"
   ]
  },
  {
   "cell_type": "markdown",
   "id": "43d77f91-4e1a-46f0-a9b6-20ae39d28e23",
   "metadata": {},
   "source": [
    "# Pregunta 8\n",
    "\n",
    "What does the vertical axis on a scatterplot represent?\n",
    "\n",
    "Dependent variable"
   ]
  },
  {
   "cell_type": "markdown",
   "id": "9d288394-f7d5-4185-82bc-02d1eccdd20c",
   "metadata": {},
   "source": [
    "# Pregunta 9\n",
    "\n",
    "What does the horizontal axis on a scatterplot represent?\n",
    "\n",
    "Independent variable"
   ]
  },
  {
   "cell_type": "markdown",
   "id": "09ed4da8-c0e5-4ef3-b0fc-938a29a09ec0",
   "metadata": {},
   "source": [
    "# Pregunta 10\n",
    "\n",
    "If we have 10 columns and 100 samples, how large is the output of df.corr()\n",
    "\n",
    "10 x 10"
   ]
  },
  {
   "cell_type": "markdown",
   "id": "3d9efb44-4760-4f9e-8246-4c48adc1a392",
   "metadata": {},
   "source": [
    "# Pregunta 11\n",
    "\n",
    "What is the largest possible element resulting in the following operation \"df.corr()\"\n",
    "\n",
    "1"
   ]
  },
  {
   "cell_type": "markdown",
   "id": "b51c815e-1f22-4bdb-a8b9-636d8ae91252",
   "metadata": {},
   "source": [
    "# Pregunta 12\n",
    "\n",
    "If the Pearson Correlation of two variables is zero:\n",
    "    \n",
    "The two variables are not correlated."
   ]
  },
  {
   "cell_type": "markdown",
   "id": "1eba2d56-41f5-439e-9125-7f76ce0769f1",
   "metadata": {},
   "source": [
    "# Pregunta 13\n",
    "\n",
    "If the p-value of the Pearson Correlation is 1:\n",
    "\n",
    "None of the above."
   ]
  },
  {
   "cell_type": "markdown",
   "id": "e27e8130-e84a-432a-a4c7-c020136b7248",
   "metadata": {},
   "source": [
    "# Pregunta 14\n",
    "\n",
    "What does the following line of code do: lm = LinearRegression()?\n",
    "\n",
    "Create a linear regression object"
   ]
  },
  {
   "cell_type": "markdown",
   "id": "ce33b5be-e675-491a-9859-d6c5935072f6",
   "metadata": {},
   "source": [
    "# Pregunta 15\n",
    "\n",
    "If the predicted function is:\n",
    "\n",
    "Yhat = a + b1 X1 + b2 X2 + b3 X3 + b4 X4\n",
    "\n",
    "The method is:\n",
    "\n",
    "Multiple Linear Regression\n"
   ]
  },
  {
   "cell_type": "markdown",
   "id": "766768d4-117d-4ec9-aed2-6aa4989b7760",
   "metadata": {},
   "source": [
    "# Pregunta 16\n",
    "\n",
    "\n",
    "What steps do the following lines of code perform:\n",
    "\n",
    "Input=[('scale',StandardScaler()),('model',LinearRegression())]\n",
    "\n",
    "pipe=Pipeline(Input)\n",
    "\n",
    "pipe.fit(Z,y)\n",
    "\n",
    "ypipe=pipe.predict(Z)\n",
    "\n",
    "Standardize the data, then perform a prediction using a linear regression model using the features Z and targets y."
   ]
  },
  {
   "cell_type": "markdown",
   "id": "52dae61c-e632-457e-98b0-b34aa1608776",
   "metadata": {},
   "source": [
    "# Pregunta 17\n",
    "\n",
    "What is the maximum value of R^2 that can be obtained?\n",
    "\n",
    "1"
   ]
  },
  {
   "cell_type": "markdown",
   "id": "1d8bcbc2-dab5-411f-b3f4-4a1558238615",
   "metadata": {},
   "source": [
    "# Pregunta 18\n",
    "\n",
    "\n",
    "We create a polynomial feature PolynomialFeatures(degree=2). What is the order of the polynomial?\n",
    "\n",
    "2"
   ]
  },
  {
   "cell_type": "markdown",
   "id": "6851d3a4-8563-470b-9d11-207f5d6e3589",
   "metadata": {},
   "source": [
    "# Pregunta 19\n",
    "\n",
    "\n",
    "You have a linear model. The average R^2 value on your training data is 0.5. You perform a 100th order polynomial transform on your data, then use these values to train another model. Your average R^2 is 0.99. Which comment is correct?\n",
    "\n",
    "The results on your training data is not the best indicator of how your model performs. You should use your test data to get a beter idea."
   ]
  },
  {
   "cell_type": "markdown",
   "id": "46bf27c8-5b4a-4f05-a072-c975b24cea9e",
   "metadata": {},
   "source": [
    "# Pregunta 20\n",
    "\n",
    "\n",
    "You train a ridge regression model. You get a R^2 of 1 on your validation data and you get a R^2 of 0.5 on your training data. What should you do?\n",
    "\n",
    "Nothing. Your model performs flawlessly on your validation data. "
   ]
  }
 ],
 "metadata": {
  "kernelspec": {
   "display_name": "Python 3 (ipykernel)",
   "language": "python",
   "name": "python3"
  },
  "language_info": {
   "codemirror_mode": {
    "name": "ipython",
    "version": 3
   },
   "file_extension": ".py",
   "mimetype": "text/x-python",
   "name": "python",
   "nbconvert_exporter": "python",
   "pygments_lexer": "ipython3",
   "version": "3.8.5"
  }
 },
 "nbformat": 4,
 "nbformat_minor": 5
}
