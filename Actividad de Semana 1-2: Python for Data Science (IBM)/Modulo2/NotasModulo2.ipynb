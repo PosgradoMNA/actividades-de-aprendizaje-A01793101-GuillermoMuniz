{
 "cells": [
  {
   "cell_type": "markdown",
   "id": "341812fd-28f6-4d35-bfaf-39a304de5b90",
   "metadata": {},
   "source": [
    "Tuples are sequences, similar to lists as such that they both use index notation to access their elements. The difference between them is that tuples are not mutable"
   ]
  },
  {
   "cell_type": "code",
   "execution_count": 14,
   "id": "10b605f5-48b9-4c39-ad61-9160fd035c0c",
   "metadata": {},
   "outputs": [
    {
     "name": "stdout",
     "output_type": "stream",
     "text": [
      "('disco', 10, 1.2)\n"
     ]
    }
   ],
   "source": [
    "tuple1 = (\"disco\",10,1.2 )\n",
    "print(tuple1)"
   ]
  },
  {
   "cell_type": "code",
   "execution_count": 15,
   "id": "9da7bf09-e7c9-4c1a-8592-09b690621e8c",
   "metadata": {},
   "outputs": [
    {
     "data": {
      "text/plain": [
       "tuple"
      ]
     },
     "execution_count": 15,
     "metadata": {},
     "output_type": "execute_result"
    }
   ],
   "source": [
    "type(tuple1)"
   ]
  },
  {
   "cell_type": "code",
   "execution_count": 16,
   "id": "e46d731d-8a69-4fb1-ab06-782239e80cf0",
   "metadata": {},
   "outputs": [
    {
     "name": "stdout",
     "output_type": "stream",
     "text": [
      "disco\n",
      "10\n",
      "1.2\n"
     ]
    }
   ],
   "source": [
    "# We can access through an index\n",
    "\n",
    "print(tuple1[0])\n",
    "print(tuple1[1])\n",
    "print(tuple1[2])"
   ]
  },
  {
   "cell_type": "code",
   "execution_count": 17,
   "id": "f9cb6bb1-7a79-40bb-b044-932949e3f55b",
   "metadata": {},
   "outputs": [
    {
     "data": {
      "text/plain": [
       "1.2"
      ]
     },
     "execution_count": 17,
     "metadata": {},
     "output_type": "execute_result"
    }
   ],
   "source": [
    "# We can use negative index to get the value of the last element. -2 will get the next to last and so on\n",
    "\n",
    "tuple1[-1]"
   ]
  },
  {
   "cell_type": "markdown",
   "id": "786f4a4e-7801-4948-9c3d-52a08e529fd4",
   "metadata": {},
   "source": [
    "We can concatenate tuples by adding the addition sign to 2 or more tuples, they will be put in a single tuple as a result"
   ]
  },
  {
   "cell_type": "code",
   "execution_count": 18,
   "id": "caf6944f-6203-4b2f-9b00-c08aaa5cd3fb",
   "metadata": {},
   "outputs": [
    {
     "data": {
      "text/plain": [
       "('disco', 10, 1.2, 'hard rock', 10)"
      ]
     },
     "execution_count": 18,
     "metadata": {},
     "output_type": "execute_result"
    }
   ],
   "source": [
    "tuple2 = tuple1 + (\"hard rock\", 10)\n",
    "tuple2"
   ]
  },
  {
   "cell_type": "markdown",
   "id": "1ea995da-4bc2-44c3-b67e-21ce0a5009c5",
   "metadata": {},
   "source": [
    "Slicing is used to retrieve the elements from a tuple/list/set. \n",
    "The first position indicates the starting point,\n",
    "The second position indicates the endpoint,\n",
    "The last position indicates the distance in each jump."
   ]
  },
  {
   "cell_type": "code",
   "execution_count": 19,
   "id": "9fc7e79a-9793-49f2-8903-5b10af6256de",
   "metadata": {},
   "outputs": [],
   "source": [
    "name = 'Lizz'"
   ]
  },
  {
   "cell_type": "code",
   "execution_count": 20,
   "id": "03667f21-4094-4546-89cc-17c4d674e7fe",
   "metadata": {},
   "outputs": [
    {
     "name": "stdout",
     "output_type": "stream",
     "text": [
      "Li\n"
     ]
    }
   ],
   "source": [
    "print(name[0:2])"
   ]
  },
  {
   "cell_type": "code",
   "execution_count": 21,
   "id": "eac7aab9-691a-4e1f-a035-2e8fa4ff9d92",
   "metadata": {},
   "outputs": [
    {
     "name": "stdout",
     "output_type": "stream",
     "text": [
      "0246\n"
     ]
    }
   ],
   "source": [
    "var = '01234567'\n",
    "print(var[::2])"
   ]
  },
  {
   "cell_type": "code",
   "execution_count": 22,
   "id": "1db67968-097e-4071-b176-cede52e650a1",
   "metadata": {},
   "outputs": [
    {
     "data": {
      "text/plain": [
       "('disco', 10, 1.2)"
      ]
     },
     "execution_count": 22,
     "metadata": {},
     "output_type": "execute_result"
    }
   ],
   "source": [
    "# Slice from index 0 to index 2\n",
    "\n",
    "tuple2[0:3]"
   ]
  },
  {
   "cell_type": "markdown",
   "id": "8814520f-7104-46c1-80a9-22666ef378b7",
   "metadata": {},
   "source": [
    "Nesting is the proccess in which a tuple can contain another tuple as well as other more complex data types. "
   ]
  },
  {
   "cell_type": "code",
   "execution_count": 23,
   "id": "226b0221-74a8-4ed0-bf4b-72f5f347ba64",
   "metadata": {},
   "outputs": [],
   "source": [
    "NestedT =(1, 2, (\"pop\", \"rock\") ,(3,4),(\"disco\",(1,2)))"
   ]
  },
  {
   "cell_type": "code",
   "execution_count": 24,
   "id": "2a96977e-43f2-4be5-b0df-093d42d23487",
   "metadata": {},
   "outputs": [
    {
     "name": "stdout",
     "output_type": "stream",
     "text": [
      "Element 0 of Tuple:  1\n",
      "Element 1 of Tuple:  2\n",
      "Element 2 of Tuple:  ('pop', 'rock')\n",
      "Element 3 of Tuple:  (3, 4)\n",
      "Element 4 of Tuple:  ('disco', (1, 2))\n"
     ]
    }
   ],
   "source": [
    "# Print element on each index\n",
    "\n",
    "print(\"Element 0 of Tuple: \", NestedT[0])\n",
    "print(\"Element 1 of Tuple: \", NestedT[1])\n",
    "print(\"Element 2 of Tuple: \", NestedT[2])\n",
    "print(\"Element 3 of Tuple: \", NestedT[3])\n",
    "print(\"Element 4 of Tuple: \", NestedT[4])"
   ]
  },
  {
   "cell_type": "code",
   "execution_count": 25,
   "id": "c7e22379-7eed-4b71-a0de-2ebd683ac301",
   "metadata": {},
   "outputs": [
    {
     "name": "stdout",
     "output_type": "stream",
     "text": [
      "Element 2, 0 of Tuple:  pop\n",
      "Element 2, 1 of Tuple:  rock\n",
      "Element 3, 0 of Tuple:  3\n",
      "Element 3, 1 of Tuple:  4\n",
      "Element 4, 0 of Tuple:  disco\n",
      "Element 4, 1 of Tuple:  (1, 2)\n"
     ]
    }
   ],
   "source": [
    "# Print element on each index, including nest indexes\n",
    "\n",
    "print(\"Element 2, 0 of Tuple: \",   NestedT[2][0])\n",
    "print(\"Element 2, 1 of Tuple: \",   NestedT[2][1])\n",
    "print(\"Element 3, 0 of Tuple: \",   NestedT[3][0])\n",
    "print(\"Element 3, 1 of Tuple: \",   NestedT[3][1])\n",
    "print(\"Element 4, 0 of Tuple: \",   NestedT[4][0])\n",
    "print(\"Element 4, 1 of Tuple: \",   NestedT[4][1])"
   ]
  },
  {
   "cell_type": "markdown",
   "id": "fab22ce8-ca9d-4877-ac3e-29e74e497586",
   "metadata": {},
   "source": [
    "Lists are a collection of different objects in python. As well as the tuples they can be accessed through an index which represent the memory address of the list object. "
   ]
  },
  {
   "cell_type": "code",
   "execution_count": 26,
   "id": "452b77d4-90ae-48bc-a47c-d57fae927835",
   "metadata": {},
   "outputs": [
    {
     "data": {
      "text/plain": [
       "['Memo', 37, 12.12, True, ['Ilse', 9]]"
      ]
     },
     "execution_count": 26,
     "metadata": {},
     "output_type": "execute_result"
    }
   ],
   "source": [
    "# Create a list\n",
    "\n",
    "L = [\"Memo\", 37, 12.12, True, ['Ilse', 9]]\n",
    "L"
   ]
  },
  {
   "cell_type": "code",
   "execution_count": 27,
   "id": "0c713db7-e571-4382-a3c1-fb3991f3fb3d",
   "metadata": {},
   "outputs": [
    {
     "name": "stdout",
     "output_type": "stream",
     "text": [
      "Element 0 of List:  Memo\n",
      "Element 1 of List:  37\n",
      "Element 2 of List:  12.12\n",
      "Element 3 of List:  True\n",
      "Element 4 of List:  ['Ilse', 9]\n"
     ]
    }
   ],
   "source": [
    "# Print element on each index\n",
    "\n",
    "print(\"Element 0 of List: \", L[0])\n",
    "print(\"Element 1 of List: \", L[1])\n",
    "print(\"Element 2 of List: \", L[2])\n",
    "print(\"Element 3 of List: \", L[3])\n",
    "print(\"Element 4 of List: \", L[4])"
   ]
  },
  {
   "cell_type": "code",
   "execution_count": 29,
   "id": "6c47d66a-b3f9-4460-a0e8-50070e997606",
   "metadata": {},
   "outputs": [
    {
     "name": "stdout",
     "output_type": "stream",
     "text": [
      "Element 4, 0 of List:  Ilse\n",
      "Element 4, 1 of List:  9\n"
     ]
    }
   ],
   "source": [
    "print(\"Element 4, 0 of List: \",   L[4][0])\n",
    "print(\"Element 4, 1 of List: \",   L[4][1])"
   ]
  },
  {
   "cell_type": "markdown",
   "id": "fc83c4d0-1599-4484-8a20-8418f10de052",
   "metadata": {},
   "source": [
    "Append is used to add 1 element at the end of the List\n",
    "Extend is used to add multiple elements to the List"
   ]
  },
  {
   "cell_type": "code",
   "execution_count": 40,
   "id": "25ebf935-d4e0-47b4-b0d1-659a5f71fe37",
   "metadata": {},
   "outputs": [
    {
     "data": {
      "text/plain": [
       "['Memo', 37, 12.12, True, ['Ilse', 9], 'Rouse', 'Vero', 52, ['Ursus', 40]]"
      ]
     },
     "execution_count": 40,
     "metadata": {},
     "output_type": "execute_result"
    }
   ],
   "source": [
    "L.append('Rouse')\n",
    "L.extend(['Vero', 52])\n",
    "L.append(['Ursus', 40])\n",
    "L"
   ]
  },
  {
   "cell_type": "markdown",
   "id": "4995ac7e-e4d5-407f-bd8d-7f9fda1f2909",
   "metadata": {},
   "source": [
    "As List are mutable, we can change the content of an element inside the list by directly accessing the Element"
   ]
  },
  {
   "cell_type": "code",
   "execution_count": 42,
   "id": "404d42af-8bb3-49f3-9843-a6ed7f412655",
   "metadata": {},
   "outputs": [
    {
     "name": "stdout",
     "output_type": "stream",
     "text": [
      "List Before:  ['Memo', 37, 12.12, True, ['Ilse', 9], 'Rouse', 'Vero', 52, ['Ursus', 40]]\n",
      "List After:  ['Memo', 37, 12.12, False, ['Ilse', 9], 'Rouse', 'Vero', 52, ['Ursus', 40]]\n"
     ]
    }
   ],
   "source": [
    "print(\"List Before: \", L)\n",
    "L[3] = False\n",
    "print(\"List After: \", L)"
   ]
  },
  {
   "cell_type": "markdown",
   "id": "e011688a-6b58-4ba2-9701-e0b824c1793a",
   "metadata": {},
   "source": [
    "We can convert a string to a list using split. For example, the method split translates every group of characters separated by a space into an element in a List"
   ]
  },
  {
   "cell_type": "code",
   "execution_count": 43,
   "id": "a2138407-cb13-4beb-af56-eb4e76e109b5",
   "metadata": {},
   "outputs": [
    {
     "data": {
      "text/plain": [
       "['Hello!', 'World,', 'Im', 'Memo', '37']"
      ]
     },
     "execution_count": 43,
     "metadata": {},
     "output_type": "execute_result"
    }
   ],
   "source": [
    "L2 = \"Hello! World, Im Memo 37\".split()\n",
    "L2"
   ]
  },
  {
   "cell_type": "markdown",
   "id": "606ffe6d-4174-4e4a-bdfd-96a948dee5da",
   "metadata": {},
   "source": [
    "The split default parameter is the space, but we can use any character and convert a string/word into a list"
   ]
  },
  {
   "cell_type": "code",
   "execution_count": 44,
   "id": "a21ed0d3-9cc7-4342-b9c8-7342a75f6ad8",
   "metadata": {},
   "outputs": [
    {
     "data": {
      "text/plain": [
       "['1', '2', '3', '4', '5']"
      ]
     },
     "execution_count": 44,
     "metadata": {},
     "output_type": "execute_result"
    }
   ],
   "source": [
    "L3 = \"1,2,3,4,5\".split(',')\n",
    "L3"
   ]
  },
  {
   "cell_type": "markdown",
   "id": "d6f23a9a-cbda-4288-b12f-882ae27b65ce",
   "metadata": {},
   "source": [
    "In python if we create a variable equal to another, we are creating a reference. So if any variable changes value the other(reference) will change too"
   ]
  },
  {
   "cell_type": "code",
   "execution_count": 49,
   "id": "9fe725d6-972b-4a65-b380-e7d122667a23",
   "metadata": {},
   "outputs": [],
   "source": [
    "A = [50, 'Memo', True]\n",
    "B = A"
   ]
  },
  {
   "cell_type": "code",
   "execution_count": 50,
   "id": "0cc11971-fcc9-4b44-8ebf-c7a6cb7f5cfe",
   "metadata": {},
   "outputs": [
    {
     "name": "stdout",
     "output_type": "stream",
     "text": [
      "A Before:  [50, 'Memo', True]\n",
      "B Before:  [50, 'Memo', True]\n",
      "A After:  [50, 37, True]\n",
      "B After:  [50, 37, True]\n"
     ]
    }
   ],
   "source": [
    "print('A Before: ',A)\n",
    "print('B Before: ',B)\n",
    "A[1] = 37\n",
    "print('A After: ',A)\n",
    "print('B After: ',B)"
   ]
  },
  {
   "cell_type": "markdown",
   "id": "c2948b55-862a-4535-aa65-0a93cbc9ac41",
   "metadata": {},
   "source": [
    "We can clone a list into a second variable using slicing"
   ]
  },
  {
   "cell_type": "code",
   "execution_count": 51,
   "id": "37bd193e-4481-4111-b055-1b11dd7ef579",
   "metadata": {},
   "outputs": [
    {
     "name": "stdout",
     "output_type": "stream",
     "text": [
      "A Before:  [50, 37, True]\n",
      "C Before:  [50, 37, True]\n",
      "A After:  ['Memo', 37, True]\n",
      "C After:  [50, 37, True]\n"
     ]
    }
   ],
   "source": [
    "C = A[:]\n",
    "print('A Before: ',A)\n",
    "print('C Before: ',C)\n",
    "A[0] = 'Memo'\n",
    "print('A After: ',A)\n",
    "print('C After: ',C)"
   ]
  },
  {
   "cell_type": "markdown",
   "id": "c6101cc0-e86c-405c-a872-9e82add5667b",
   "metadata": {},
   "source": [
    "A dictionary is an object of key-value pairs, The keys represents the 'index' for this data type."
   ]
  },
  {
   "cell_type": "code",
   "execution_count": 55,
   "id": "0dd078c7-0390-4053-bee1-a1df9eed2e93",
   "metadata": {},
   "outputs": [
    {
     "data": {
      "text/plain": [
       "{'Name': 'Memo',\n",
       " 'Age': 31,\n",
       " 'School': 'Tec de Monterrey',\n",
       " 'Master': 'MNA',\n",
       " 'isStudent': True,\n",
       " 'Grade': 98.6}"
      ]
     },
     "execution_count": 55,
     "metadata": {},
     "output_type": "execute_result"
    }
   ],
   "source": [
    "dict1 = {\n",
    "    'Name': 'Memo',\n",
    "    'Age': 31,\n",
    "    'School': 'Tec de Monterrey',\n",
    "    'Master': 'MNA',\n",
    "    'isStudent': True,\n",
    "    'Grade': 98.6\n",
    "}\n",
    "dict1"
   ]
  },
  {
   "cell_type": "code",
   "execution_count": 56,
   "id": "fb5a1e53-575b-476a-9d4d-8cc295140add",
   "metadata": {},
   "outputs": [
    {
     "data": {
      "text/plain": [
       "'Memo'"
      ]
     },
     "execution_count": 56,
     "metadata": {},
     "output_type": "execute_result"
    }
   ],
   "source": [
    "dict1['Name']"
   ]
  },
  {
   "cell_type": "markdown",
   "id": "75d72f5a-8ba2-49af-9816-694417570ffd",
   "metadata": {},
   "source": [
    "To add Elements to a dictionary, you can only pass the key and the value you want to add."
   ]
  },
  {
   "cell_type": "code",
   "execution_count": 57,
   "id": "8ec7f700-f507-44e7-8911-f6dca0d401a9",
   "metadata": {},
   "outputs": [
    {
     "data": {
      "text/plain": [
       "{'Name': 'Memo',\n",
       " 'Age': 31,\n",
       " 'School': 'Tec de Monterrey',\n",
       " 'Master': 'MNA',\n",
       " 'isStudent': True,\n",
       " 'Grade': 98.6,\n",
       " 'DataScience': False}"
      ]
     },
     "execution_count": 57,
     "metadata": {},
     "output_type": "execute_result"
    }
   ],
   "source": [
    "dict1['DataScience'] = False\n",
    "dict1"
   ]
  },
  {
   "cell_type": "markdown",
   "id": "132687a2-924a-4bf9-b6a3-a4ffba62b001",
   "metadata": {},
   "source": [
    "You can retrieve all the keys and all the values through some built in methods"
   ]
  },
  {
   "cell_type": "code",
   "execution_count": 58,
   "id": "dc57c768-bdad-47ca-a2a6-57f3f8621eb7",
   "metadata": {},
   "outputs": [
    {
     "name": "stdout",
     "output_type": "stream",
     "text": [
      "Keys:  dict_keys(['Name', 'Age', 'School', 'Master', 'isStudent', 'Grade', 'DataScience'])\n",
      "Values:  dict_values(['Memo', 31, 'Tec de Monterrey', 'MNA', True, 98.6, False])\n"
     ]
    }
   ],
   "source": [
    "print('Keys: ', dict1.keys())\n",
    "print('Values: ', dict1.values())"
   ]
  },
  {
   "cell_type": "markdown",
   "id": "4959819f-4bfb-46a9-8a5e-a67fe5b59e3f",
   "metadata": {},
   "source": [
    "We can verify if a key is included in the dictionario with the reserved word 'in'"
   ]
  },
  {
   "cell_type": "code",
   "execution_count": 60,
   "id": "01e78960-1a09-4f90-a69c-4de8a2d45ee1",
   "metadata": {},
   "outputs": [
    {
     "data": {
      "text/plain": [
       "True"
      ]
     },
     "execution_count": 60,
     "metadata": {},
     "output_type": "execute_result"
    }
   ],
   "source": [
    "'Name' in dict1"
   ]
  }
 ],
 "metadata": {
  "kernelspec": {
   "display_name": "Python 3 (ipykernel)",
   "language": "python",
   "name": "python3"
  },
  "language_info": {
   "codemirror_mode": {
    "name": "ipython",
    "version": 3
   },
   "file_extension": ".py",
   "mimetype": "text/x-python",
   "name": "python",
   "nbconvert_exporter": "python",
   "pygments_lexer": "ipython3",
   "version": "3.8.5"
  }
 },
 "nbformat": 4,
 "nbformat_minor": 5
}
