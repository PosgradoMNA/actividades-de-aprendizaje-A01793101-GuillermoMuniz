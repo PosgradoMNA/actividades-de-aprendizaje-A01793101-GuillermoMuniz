{
 "cells": [
  {
   "cell_type": "markdown",
   "id": "92d54379-6022-4181-9227-0616228bac3e",
   "metadata": {},
   "source": [
    "# TIPOS, EXPRESIONES Y VARIABLES Y OPERACIONES CON CADENAS"
   ]
  },
  {
   "cell_type": "markdown",
   "id": "19fc8114-07af-4063-adbe-f0dbdb6c11f8",
   "metadata": {},
   "source": [
    "Cuando se trabaja con caracteres, si realizamos una adicion estos seran concatenados en 1 sola cadena"
   ]
  },
  {
   "cell_type": "code",
   "execution_count": 6,
   "id": "d3ee6f07-0fbb-472b-9fb3-32e3218a8031",
   "metadata": {},
   "outputs": [
    {
     "data": {
      "text/plain": [
       "'12'"
      ]
     },
     "execution_count": 6,
     "metadata": {},
     "output_type": "execute_result"
    }
   ],
   "source": [
    "'1'+'2'"
   ]
  },
  {
   "cell_type": "markdown",
   "id": "66a3c621-e9d6-4836-a1b3-615e40b5e45b",
   "metadata": {},
   "source": [
    "Podemo obtener el tipo de las variables e incluso cambiarlo (Esto se llama cast)d cast)"
   ]
  },
  {
   "cell_type": "code",
   "execution_count": 1,
   "id": "891c19dc-8834-41bf-a5f2-77619ddf45ad",
   "metadata": {},
   "outputs": [
    {
     "data": {
      "text/plain": [
       "str"
      ]
     },
     "execution_count": 1,
     "metadata": {},
     "output_type": "execute_result"
    }
   ],
   "source": [
    "type(\"Hello, Python 101!\")"
   ]
  },
  {
   "cell_type": "code",
   "execution_count": 3,
   "id": "67d28625-9925-466a-bbc4-affc21b74ed8",
   "metadata": {},
   "outputs": [
    {
     "data": {
      "text/plain": [
       "float"
      ]
     },
     "execution_count": 3,
     "metadata": {},
     "output_type": "execute_result"
    }
   ],
   "source": [
    "type(37.37)"
   ]
  },
  {
   "cell_type": "code",
   "execution_count": 4,
   "id": "f89edf34-6d48-4f12-9c0b-2584ebc5fd57",
   "metadata": {},
   "outputs": [
    {
     "data": {
      "text/plain": [
       "37"
      ]
     },
     "execution_count": 4,
     "metadata": {},
     "output_type": "execute_result"
    }
   ],
   "source": [
    "int(37.37) #This causes to loose some information as the .37 is lost"
   ]
  },
  {
   "cell_type": "code",
   "execution_count": 5,
   "id": "3588ac02-3ced-4901-969e-434fc16f8c9c",
   "metadata": {},
   "outputs": [
    {
     "data": {
      "text/plain": [
       "True"
      ]
     },
     "execution_count": 5,
     "metadata": {},
     "output_type": "execute_result"
    }
   ],
   "source": [
    "bool(1) # For Booleans 1 represents TRUE, 0 FALSE"
   ]
  },
  {
   "cell_type": "code",
   "execution_count": 7,
   "id": "91c5f0c8-27a9-4c5a-acd0-9ece12868aa2",
   "metadata": {},
   "outputs": [
    {
     "data": {
      "text/plain": [
       "sys.float_info(max=1.7976931348623157e+308, max_exp=1024, max_10_exp=308, min=2.2250738585072014e-308, min_exp=-1021, min_10_exp=-307, dig=15, mant_dig=53, epsilon=2.220446049250313e-16, radix=2, rounds=1)"
      ]
     },
     "execution_count": 7,
     "metadata": {},
     "output_type": "execute_result"
    }
   ],
   "source": [
    "import sys\n",
    "sys.float_info #System Info about floats"
   ]
  },
  {
   "cell_type": "markdown",
   "id": "8d07323d-244b-4353-b57a-10ebe2ea4d5d",
   "metadata": {},
   "source": [
    "Si queremos realizar una division que regrese el numero entero, se usa doble /"
   ]
  },
  {
   "cell_type": "code",
   "execution_count": 8,
   "id": "6f7affda-209a-4265-b327-55fa4ec2b727",
   "metadata": {},
   "outputs": [
    {
     "data": {
      "text/plain": [
       "6"
      ]
     },
     "execution_count": 8,
     "metadata": {},
     "output_type": "execute_result"
    }
   ],
   "source": [
    "13//2"
   ]
  },
  {
   "cell_type": "markdown",
   "id": "f8452e78-3eb4-498a-be88-bfd23c6b88d6",
   "metadata": {},
   "source": [
    "# CADENAS"
   ]
  },
  {
   "cell_type": "code",
   "execution_count": 3,
   "id": "88c40053-4f6b-4897-a5fc-b2b79f5b42c1",
   "metadata": {},
   "outputs": [
    {
     "name": "stdout",
     "output_type": "stream",
     "text": [
      "Hola Memo\n",
      "Hola Memo\n"
     ]
    }
   ],
   "source": [
    "# Podemos Declarar Cadenas con comillas simples o dobles\n",
    "S1 = \"Hola Memo\"\n",
    "S2 = 'Hola Memo'\n",
    "print(S1)\n",
    "print(S2)"
   ]
  },
  {
   "cell_type": "code",
   "execution_count": 5,
   "id": "28923c94-3e5e-4109-b382-59a546b5ca24",
   "metadata": {},
   "outputs": [
    {
     "name": "stdout",
     "output_type": "stream",
     "text": [
      "FIRST:  H\n",
      "LAST:  o\n"
     ]
    }
   ],
   "source": [
    "# Funcionan como un arreglo para cada caracter que las componen, por lo que podemos acceder a ellas mediante un indice de 0 hasta la longitud menos 1\n",
    "print(\"FIRST: \",S1[0])\n",
    "print(\"LAST: \",S1[8])"
   ]
  },
  {
   "cell_type": "code",
   "execution_count": 6,
   "id": "02f0c6aa-11aa-44ed-949c-12ac6a5b3e5a",
   "metadata": {},
   "outputs": [
    {
     "data": {
      "text/plain": [
       "9"
      ]
     },
     "execution_count": 6,
     "metadata": {},
     "output_type": "execute_result"
    }
   ],
   "source": [
    "#Podemos obtener la longitud de la cadena mediante el metodo len\n",
    "len(S2)"
   ]
  },
  {
   "cell_type": "code",
   "execution_count": 8,
   "id": "757b5b98-c68b-4097-9fc3-0c7186586396",
   "metadata": {},
   "outputs": [
    {
     "name": "stdout",
     "output_type": "stream",
     "text": [
      "Hola\n",
      "Hl eo\n"
     ]
    }
   ],
   "source": [
    "#Podemos hacer slicing (Separacion de caracteres) mediante la notacion [Principio:FIN:Salto}\n",
    "print(S1[0:4])\n",
    "print(S2[::2])"
   ]
  },
  {
   "cell_type": "code",
   "execution_count": 10,
   "id": "d5b63e62-aecb-4cdd-b6d4-396f3378723a",
   "metadata": {},
   "outputs": [
    {
     "data": {
      "text/plain": [
       "'Hola Memo Como estas?'"
      ]
     },
     "execution_count": 10,
     "metadata": {},
     "output_type": "execute_result"
    }
   ],
   "source": [
    "# Podemos unir dos cadenas mediante el simbolo +\n",
    "S3 = S1 + \" Como estas?\"\n",
    "S3"
   ]
  },
  {
   "cell_type": "code",
   "execution_count": 11,
   "id": "0fa6cf88-1056-42d2-a327-06f863377ecf",
   "metadata": {},
   "outputs": [
    {
     "name": "stdout",
     "output_type": "stream",
     "text": [
      " Michael Jackson \\ is the best\n"
     ]
    }
   ],
   "source": [
    "# Colocar una r antes de iniciar la cadena, nos permite imprimir la cadena tal cual se escribe dentro de las comillas, \n",
    "# incluso con caracteres de escape\n",
    "print(r\" Michael Jackson \\ is the best\" )"
   ]
  },
  {
   "cell_type": "code",
   "execution_count": 12,
   "id": "4d1c1c5d-dfdb-4916-91a3-2f9f3d1b37d0",
   "metadata": {},
   "outputs": [
    {
     "data": {
      "text/plain": [
       "'HELLO'"
      ]
     },
     "execution_count": 12,
     "metadata": {},
     "output_type": "execute_result"
    }
   ],
   "source": [
    "# Podemos poner todas las palabras en Mayusculas\n",
    "myvar = 'hello'\n",
    "myvar.upper()"
   ]
  },
  {
   "cell_type": "code",
   "execution_count": 16,
   "id": "6d63609b-ad8b-4420-bdba-5e50460b886a",
   "metadata": {},
   "outputs": [
    {
     "data": {
      "text/plain": [
       "5"
      ]
     },
     "execution_count": 16,
     "metadata": {},
     "output_type": "execute_result"
    }
   ],
   "source": [
    "# Podemos usar Find para encontrar la posicion de un elemento dentro de la string\n",
    "\"01234756\".find('7')  "
   ]
  },
  {
   "cell_type": "code",
   "execution_count": 17,
   "id": "a7209059-2603-4ca9-8bf1-b6130baa1688",
   "metadata": {},
   "outputs": [
    {
     "data": {
      "text/plain": [
       "10"
      ]
     },
     "execution_count": 17,
     "metadata": {},
     "output_type": "execute_result"
    }
   ],
   "source": [
    "# Podemos buscar cadenas dentro de una cadena con el metodo Find, nos regresara el indice de la primera letra\n",
    "s = \"Memo esta muy enojado\"\n",
    "s.find(\"muy\")"
   ]
  }
 ],
 "metadata": {
  "kernelspec": {
   "display_name": "Python 3.10.5 64-bit",
   "language": "python",
   "name": "python3"
  },
  "language_info": {
   "codemirror_mode": {
    "name": "ipython",
    "version": 3
   },
   "file_extension": ".py",
   "mimetype": "text/x-python",
   "name": "python",
   "nbconvert_exporter": "python",
   "pygments_lexer": "ipython3",
   "version": "3.10.5"
  },
  "vscode": {
   "interpreter": {
    "hash": "7e1998ff7f8aa20ada591c520b972326324e5ea05489af9e422744c7c09f6dad"
   }
  }
 },
 "nbformat": 4,
 "nbformat_minor": 5
}
