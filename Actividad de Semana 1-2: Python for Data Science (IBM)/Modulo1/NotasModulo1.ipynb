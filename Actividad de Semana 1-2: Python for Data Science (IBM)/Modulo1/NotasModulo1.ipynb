{
 "cells": [
  {
   "cell_type": "markdown",
   "id": "ddda989b-3906-436a-852c-8016e7eb3cfc",
   "metadata": {},
   "source": [
    "How to Use The Find Method"
   ]
  },
  {
   "cell_type": "code",
   "execution_count": 1,
   "id": "6d63609b-ad8b-4420-bdba-5e50460b886a",
   "metadata": {},
   "outputs": [
    {
     "data": {
      "text/plain": [
       "1"
      ]
     },
     "execution_count": 1,
     "metadata": {},
     "output_type": "execute_result"
    }
   ],
   "source": [
    "\"0123456\".find('1')  "
   ]
  },
  {
   "cell_type": "markdown",
   "id": "19fc8114-07af-4063-adbe-f0dbdb6c11f8",
   "metadata": {},
   "source": [
    "When operating with carachters, if we perform addition, they will be concatenated into 1 string."
   ]
  },
  {
   "cell_type": "code",
   "execution_count": 6,
   "id": "d3ee6f07-0fbb-472b-9fb3-32e3218a8031",
   "metadata": {},
   "outputs": [
    {
     "data": {
      "text/plain": [
       "'12'"
      ]
     },
     "execution_count": 6,
     "metadata": {},
     "output_type": "execute_result"
    }
   ],
   "source": [
    "'1'+'2'"
   ]
  },
  {
   "cell_type": "markdown",
   "id": "66a3c621-e9d6-4836-a1b3-615e40b5e45b",
   "metadata": {},
   "source": [
    "We can obtain the Type of the variables and even change such type (This is called cast)"
   ]
  },
  {
   "cell_type": "code",
   "execution_count": 1,
   "id": "891c19dc-8834-41bf-a5f2-77619ddf45ad",
   "metadata": {},
   "outputs": [
    {
     "data": {
      "text/plain": [
       "str"
      ]
     },
     "execution_count": 1,
     "metadata": {},
     "output_type": "execute_result"
    }
   ],
   "source": [
    "type(\"Hello, Python 101!\")"
   ]
  },
  {
   "cell_type": "code",
   "execution_count": 3,
   "id": "67d28625-9925-466a-bbc4-affc21b74ed8",
   "metadata": {},
   "outputs": [
    {
     "data": {
      "text/plain": [
       "float"
      ]
     },
     "execution_count": 3,
     "metadata": {},
     "output_type": "execute_result"
    }
   ],
   "source": [
    "type(37.37)"
   ]
  },
  {
   "cell_type": "code",
   "execution_count": 4,
   "id": "f89edf34-6d48-4f12-9c0b-2584ebc5fd57",
   "metadata": {},
   "outputs": [
    {
     "data": {
      "text/plain": [
       "37"
      ]
     },
     "execution_count": 4,
     "metadata": {},
     "output_type": "execute_result"
    }
   ],
   "source": [
    "int(37.37) #This causes to loose some information as the .37 is lost"
   ]
  },
  {
   "cell_type": "code",
   "execution_count": 5,
   "id": "3588ac02-3ced-4901-969e-434fc16f8c9c",
   "metadata": {},
   "outputs": [
    {
     "data": {
      "text/plain": [
       "True"
      ]
     },
     "execution_count": 5,
     "metadata": {},
     "output_type": "execute_result"
    }
   ],
   "source": [
    "bool(1) # For Booleans 1 represents TRUE, 0 FALSE"
   ]
  },
  {
   "cell_type": "code",
   "execution_count": 7,
   "id": "91c5f0c8-27a9-4c5a-acd0-9ece12868aa2",
   "metadata": {},
   "outputs": [
    {
     "data": {
      "text/plain": [
       "sys.float_info(max=1.7976931348623157e+308, max_exp=1024, max_10_exp=308, min=2.2250738585072014e-308, min_exp=-1021, min_10_exp=-307, dig=15, mant_dig=53, epsilon=2.220446049250313e-16, radix=2, rounds=1)"
      ]
     },
     "execution_count": 7,
     "metadata": {},
     "output_type": "execute_result"
    }
   ],
   "source": [
    "import sys\n",
    "sys.float_info #System Info about floats"
   ]
  },
  {
   "cell_type": "markdown",
   "id": "8d07323d-244b-4353-b57a-10ebe2ea4d5d",
   "metadata": {},
   "source": [
    "If You want to get the round number on a division use double /"
   ]
  },
  {
   "cell_type": "code",
   "execution_count": 8,
   "id": "6f7affda-209a-4265-b327-55fa4ec2b727",
   "metadata": {},
   "outputs": [
    {
     "data": {
      "text/plain": [
       "6"
      ]
     },
     "execution_count": 8,
     "metadata": {},
     "output_type": "execute_result"
    }
   ],
   "source": [
    "13//2"
   ]
  },
  {
   "cell_type": "code",
   "execution_count": 7,
   "id": "4d1c1c5d-dfdb-4916-91a3-2f9f3d1b37d0",
   "metadata": {},
   "outputs": [
    {
     "data": {
      "text/plain": [
       "'HELLO'"
      ]
     },
     "execution_count": 7,
     "metadata": {},
     "output_type": "execute_result"
    }
   ],
   "source": [
    "myvar = 'hello'\n",
    "myvar.upper()"
   ]
  },
  {
   "cell_type": "code",
   "execution_count": 9,
   "id": "933a4f93-bab9-484f-a083-dead0c47df1c",
   "metadata": {},
   "outputs": [],
   "source": [
    "A=(0,1,2,3)"
   ]
  },
  {
   "cell_type": "code",
   "execution_count": 10,
   "id": "51fe8158-a191-4322-bf6c-185468979f62",
   "metadata": {},
   "outputs": [],
   "source": [
    "B=[\"a\",\"b\",\"c\"]"
   ]
  },
  {
   "cell_type": "code",
   "execution_count": 11,
   "id": "86ac1a91-7a96-4ec9-a0f6-17225e2f8eb6",
   "metadata": {},
   "outputs": [
    {
     "data": {
      "text/plain": [
       "['b', 'c']"
      ]
     },
     "execution_count": 11,
     "metadata": {},
     "output_type": "execute_result"
    }
   ],
   "source": [
    "B[1:]"
   ]
  },
  {
   "cell_type": "code",
   "execution_count": 12,
   "id": "9146c829-b76c-4154-94ca-74c47be741d5",
   "metadata": {},
   "outputs": [
    {
     "data": {
      "text/plain": [
       "'a'"
      ]
     },
     "execution_count": 12,
     "metadata": {},
     "output_type": "execute_result"
    }
   ],
   "source": [
    "A = ('a','b','c')\n",
    "A[0]"
   ]
  },
  {
   "cell_type": "code",
   "execution_count": 14,
   "id": "ec06821c-a694-454a-9a08-d01e2eb8f41d",
   "metadata": {},
   "outputs": [
    {
     "data": {
      "text/plain": [
       "1"
      ]
     },
     "execution_count": 14,
     "metadata": {},
     "output_type": "execute_result"
    }
   ],
   "source": [
    "L = []\n",
    "L.append(['a','b'])\n",
    "len(L)"
   ]
  },
  {
   "cell_type": "code",
   "execution_count": null,
   "id": "a193c917-4465-489b-95a3-0d9265013c16",
   "metadata": {},
   "outputs": [],
   "source": []
  }
 ],
 "metadata": {
  "kernelspec": {
   "display_name": "Python 3 (ipykernel)",
   "language": "python",
   "name": "python3"
  },
  "language_info": {
   "codemirror_mode": {
    "name": "ipython",
    "version": 3
   },
   "file_extension": ".py",
   "mimetype": "text/x-python",
   "name": "python",
   "nbconvert_exporter": "python",
   "pygments_lexer": "ipython3",
   "version": "3.8.5"
  }
 },
 "nbformat": 4,
 "nbformat_minor": 5
}
